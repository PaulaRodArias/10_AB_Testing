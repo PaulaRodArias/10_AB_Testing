{
 "cells": [
  {
   "cell_type": "markdown",
   "metadata": {},
   "source": [
    "# Descripción del proyecto"
   ]
  },
  {
   "cell_type": "markdown",
   "metadata": {},
   "source": [
    "## Inicialización \n",
    "En la primera parte de este trabajo se realizarán los siguientes procesos: \n",
    "1. Cargar librerías para realizar el análisis.\n",
    "2. Importar dataset.  \n",
    "3. Revisar datos para posterior limpieza y enrequecimiento en caso de ser necesario."
   ]
  },
  {
   "cell_type": "code",
   "execution_count": 2,
   "metadata": {},
   "outputs": [],
   "source": [
    "#Importar librerías \n",
    "import pandas as pd \n",
    "import numpy as np \n",
    "from matplotlib import pyplot as plt\n",
    "import seaborn as sns\n",
    "from scipy import stats as st\n",
    "import datetime as dt"
   ]
  },
  {
   "cell_type": "code",
   "execution_count": 3,
   "metadata": {},
   "outputs": [],
   "source": [
    "#Cargar datos \n",
    "\n",
    "hypotheses = pd.read_csv('/datasets/hypotheses_us.csv', sep=';')\n",
    "orders = pd.read_csv('/datasets/orders_us.csv')\n",
    "visits = pd.read_csv('/datasets/visits_us.csv')"
   ]
  },
  {
   "cell_type": "code",
   "execution_count": 4,
   "metadata": {},
   "outputs": [],
   "source": [
    "#Crear función para exploración de datos \n",
    "\n",
    "def eda (df):\n",
    "    print(df.head())\n",
    "    print()\n",
    "    print(df.info())    \n",
    "    print()\n",
    "    print(df.describe())\n",
    "    print()\n",
    "    print('NULOS:', df.isna().sum())\n",
    "    print()\n",
    "    print('FILAS DUPLICADAS:', df.duplicated().sum())"
   ]
  },
  {
   "cell_type": "code",
   "execution_count": 5,
   "metadata": {},
   "outputs": [
    {
     "name": "stdout",
     "output_type": "stream",
     "text": [
      "                                          Hypothesis  Reach  Impact  \\\n",
      "0  Add two new channels for attracting traffic. T...      3      10   \n",
      "1  Launch your own delivery service. This will sh...      2       5   \n",
      "2  Add product recommendation blocks to the store...      8       3   \n",
      "3  Change the category structure. This will incre...      8       3   \n",
      "4  Change the background color on the main page. ...      3       1   \n",
      "\n",
      "   Confidence  Effort  \n",
      "0           8       6  \n",
      "1           4      10  \n",
      "2           7       3  \n",
      "3           3       8  \n",
      "4           1       1  \n",
      "\n",
      "<class 'pandas.core.frame.DataFrame'>\n",
      "RangeIndex: 9 entries, 0 to 8\n",
      "Data columns (total 5 columns):\n",
      " #   Column      Non-Null Count  Dtype \n",
      "---  ------      --------------  ----- \n",
      " 0   Hypothesis  9 non-null      object\n",
      " 1   Reach       9 non-null      int64 \n",
      " 2   Impact      9 non-null      int64 \n",
      " 3   Confidence  9 non-null      int64 \n",
      " 4   Effort      9 non-null      int64 \n",
      "dtypes: int64(4), object(1)\n",
      "memory usage: 488.0+ bytes\n",
      "None\n",
      "\n",
      "           Reach     Impact  Confidence     Effort\n",
      "count   9.000000   9.000000    9.000000   9.000000\n",
      "mean    4.777778   4.777778    5.555556   4.888889\n",
      "std     3.153481   3.192874    3.045944   2.803767\n",
      "min     1.000000   1.000000    1.000000   1.000000\n",
      "25%     3.000000   3.000000    3.000000   3.000000\n",
      "50%     3.000000   3.000000    7.000000   5.000000\n",
      "75%     8.000000   7.000000    8.000000   6.000000\n",
      "max    10.000000  10.000000    9.000000  10.000000\n",
      "\n",
      "NULOS: Hypothesis    0\n",
      "Reach         0\n",
      "Impact        0\n",
      "Confidence    0\n",
      "Effort        0\n",
      "dtype: int64\n",
      "\n",
      "FILAS DUPLICADAS: 0\n"
     ]
    }
   ],
   "source": [
    "#Revisar 'hypotheses'\n",
    "\n",
    "eda(hypotheses)"
   ]
  },
  {
   "cell_type": "code",
   "execution_count": 6,
   "metadata": {},
   "outputs": [
    {
     "name": "stdout",
     "output_type": "stream",
     "text": [
      "Add two new channels for attracting traffic. This will bring 30% more users\n",
      "\n",
      "Launch your own delivery service. This will shorten delivery time\n",
      "\n",
      "Add product recommendation blocks to the store's site. This will increase conversion and average purchase size\n",
      "\n",
      "Change the category structure. This will increase conversion since users will find the products they want more quickly\n",
      "\n",
      "Change the background color on the main page. This will increase user engagement\n",
      "\n",
      "Add a customer review page. This will increase the number of orders\n",
      "\n",
      "Show banners with current offers and sales on the main page. This will boost conversion\n",
      "\n",
      "Add a subscription form to all the main pages. This will help you compile a mailing list\n",
      "\n",
      "Launch a promotion that gives users discounts on their birthdays\n",
      "\n"
     ]
    }
   ],
   "source": [
    "#Leer hipótesis \n",
    "\n",
    "for fila in hypotheses['Hypothesis']:\n",
    "    print(fila)\n",
    "    print()"
   ]
  },
  {
   "cell_type": "code",
   "execution_count": 7,
   "metadata": {},
   "outputs": [
    {
     "name": "stdout",
     "output_type": "stream",
     "text": [
      "   transactionId   visitorId        date  revenue group\n",
      "0     3667963787  3312258926  2019-08-15     30.4     B\n",
      "1     2804400009  3642806036  2019-08-15     15.2     B\n",
      "2     2961555356  4069496402  2019-08-15     10.2     A\n",
      "3     3797467345  1196621759  2019-08-15    155.1     B\n",
      "4     2282983706  2322279887  2019-08-15     40.5     B\n",
      "\n",
      "<class 'pandas.core.frame.DataFrame'>\n",
      "RangeIndex: 1197 entries, 0 to 1196\n",
      "Data columns (total 5 columns):\n",
      " #   Column         Non-Null Count  Dtype  \n",
      "---  ------         --------------  -----  \n",
      " 0   transactionId  1197 non-null   int64  \n",
      " 1   visitorId      1197 non-null   int64  \n",
      " 2   date           1197 non-null   object \n",
      " 3   revenue        1197 non-null   float64\n",
      " 4   group          1197 non-null   object \n",
      "dtypes: float64(1), int64(2), object(2)\n",
      "memory usage: 46.9+ KB\n",
      "None\n",
      "\n",
      "       transactionId     visitorId       revenue\n",
      "count   1.197000e+03  1.197000e+03   1197.000000\n",
      "mean    2.155621e+09  2.165960e+09    131.491646\n",
      "std     1.229085e+09  1.236014e+09    603.004729\n",
      "min     1.062393e+06  5.114589e+06      5.000000\n",
      "25%     1.166776e+09  1.111826e+09     20.800000\n",
      "50%     2.145194e+09  2.217985e+09     50.200000\n",
      "75%     3.237740e+09  3.177606e+09    130.400000\n",
      "max     4.293856e+09  4.283872e+09  19920.400000\n",
      "\n",
      "NULOS: transactionId    0\n",
      "visitorId        0\n",
      "date             0\n",
      "revenue          0\n",
      "group            0\n",
      "dtype: int64\n",
      "\n",
      "FILAS DUPLICADAS: 0\n"
     ]
    }
   ],
   "source": [
    "#Revisar 'orders'\n",
    "eda(orders)"
   ]
  },
  {
   "cell_type": "code",
   "execution_count": 8,
   "metadata": {},
   "outputs": [
    {
     "name": "stdout",
     "output_type": "stream",
     "text": [
      "       visitorId  group\n",
      "0        5114589      1\n",
      "1        6958315      1\n",
      "2        8300375      2\n",
      "3       11685486      1\n",
      "4       39475350      1\n",
      "...          ...    ...\n",
      "1026  4266935830      2\n",
      "1027  4278982564      1\n",
      "1028  4279090005      1\n",
      "1029  4281247801      1\n",
      "1030  4283872382      1\n",
      "\n",
      "[1031 rows x 2 columns]\n",
      "       visitorId  group\n",
      "2        8300375      2\n",
      "44     199603092      2\n",
      "51     232979603      2\n",
      "55     237748145      2\n",
      "66     276558944      2\n",
      "84     351125977      2\n",
      "97     393266494      2\n",
      "114    457167155      2\n",
      "119    471551937      2\n",
      "122    477780734      2\n",
      "192    818047933      2\n",
      "236    963407295      2\n",
      "299   1230306981      2\n",
      "311   1294878855      2\n",
      "316   1316129916      2\n",
      "318   1333886533      2\n",
      "340   1404934699      2\n",
      "386   1602967004      2\n",
      "393   1614305549      2\n",
      "402   1648269707      2\n",
      "406   1668030113      2\n",
      "422   1738359350      2\n",
      "436   1801183820      2\n",
      "469   1959144690      2\n",
      "487   2038680547      2\n",
      "491   2044997962      2\n",
      "569   2378935119      2\n",
      "591   2458001652      2\n",
      "614   2579882178      2\n",
      "619   2587333274      2\n",
      "622   2600415354      2\n",
      "639   2654030115      2\n",
      "648   2686716486      2\n",
      "661   2712142231      2\n",
      "662   2716752286      2\n",
      "677   2780786433      2\n",
      "710   2927087541      2\n",
      "715   2949041841      2\n",
      "718   2954449915      2\n",
      "744   3062433592      2\n",
      "784   3202540741      2\n",
      "792   3234906277      2\n",
      "884   3656415546      2\n",
      "897   3717692402      2\n",
      "909   3766097110      2\n",
      "917   3803269165      2\n",
      "932   3891541246      2\n",
      "950   3941795274      2\n",
      "954   3951559397      2\n",
      "957   3957174400      2\n",
      "958   3963646447      2\n",
      "960   3972127743      2\n",
      "963   3984495233      2\n",
      "984   4069496402      2\n",
      "992   4120364173      2\n",
      "1009  4186807279      2\n",
      "1023  4256040402      2\n",
      "1026  4266935830      2\n",
      "      transactionId   visitorId        date  revenue group\n",
      "0        3667963787  3312258926  2019-08-15     30.4     B\n",
      "1        2804400009  3642806036  2019-08-15     15.2     B\n",
      "3        3797467345  1196621759  2019-08-15    155.1     B\n",
      "4        2282983706  2322279887  2019-08-15     40.5     B\n",
      "5         182168103   935554773  2019-08-15     35.0     B\n",
      "...             ...         ...         ...      ...   ...\n",
      "1191     3592955527   608641596  2019-08-14    255.7     B\n",
      "1192     2662137336  3733762160  2019-08-14    100.8     B\n",
      "1193     2203539145   370388673  2019-08-14     50.1     A\n",
      "1194     1807773912   573423106  2019-08-14    165.3     A\n",
      "1196     3936777065  2108080724  2019-08-15   3120.1     B\n",
      "\n",
      "[1016 rows x 5 columns]\n"
     ]
    }
   ],
   "source": [
    "#Revisar que los visitantes solo pertenezcan a un grupo \n",
    "\n",
    "#unique_visitors = orders['visitorId'].unique()\n",
    "#print(orders.query(\"visitorId in @unique_visitors\"))\n",
    "\n",
    "visitors_orders= orders.groupby('visitorId', as_index=False)['group'].nunique()\n",
    "print(visitors_orders)\n",
    "visitors_two_groups = visitors_orders.query(\"group > 1\")\n",
    "print(visitors_two_groups)\n",
    "orders_filtered = orders.query(\"visitorId not in @visitors_two_groups['visitorId']\")\n",
    "print(orders_filtered)"
   ]
  },
  {
   "cell_type": "code",
   "execution_count": 9,
   "metadata": {},
   "outputs": [],
   "source": [
    "#orders_filtered = orders.query(\"visitorId in @visitors_two_groups['visitorId']\").groupby(['visitorId', 'group'])['date'].min()\n",
    "#orders_filtered"
   ]
  },
  {
   "cell_type": "code",
   "execution_count": 10,
   "metadata": {},
   "outputs": [
    {
     "data": {
      "text/plain": [
       "group\n",
       "A    468\n",
       "B    548\n",
       "Name: visitorId, dtype: int64"
      ]
     },
     "execution_count": 10,
     "metadata": {},
     "output_type": "execute_result"
    }
   ],
   "source": [
    "#Revisar visitantes por grupo en orders_filtered\n",
    "orders_filtered.groupby('group')['visitorId'].count()"
   ]
  },
  {
   "cell_type": "code",
   "execution_count": 11,
   "metadata": {},
   "outputs": [
    {
     "name": "stdout",
     "output_type": "stream",
     "text": [
      "         date group  visits\n",
      "0  2019-08-01     A     719\n",
      "1  2019-08-02     A     619\n",
      "2  2019-08-03     A     507\n",
      "3  2019-08-04     A     717\n",
      "4  2019-08-05     A     756\n",
      "\n",
      "<class 'pandas.core.frame.DataFrame'>\n",
      "RangeIndex: 62 entries, 0 to 61\n",
      "Data columns (total 3 columns):\n",
      " #   Column  Non-Null Count  Dtype \n",
      "---  ------  --------------  ----- \n",
      " 0   date    62 non-null     object\n",
      " 1   group   62 non-null     object\n",
      " 2   visits  62 non-null     int64 \n",
      "dtypes: int64(1), object(2)\n",
      "memory usage: 1.6+ KB\n",
      "None\n",
      "\n",
      "           visits\n",
      "count   62.000000\n",
      "mean   607.290323\n",
      "std    114.400560\n",
      "min    361.000000\n",
      "25%    534.000000\n",
      "50%    624.500000\n",
      "75%    710.500000\n",
      "max    770.000000\n",
      "\n",
      "NULOS: date      0\n",
      "group     0\n",
      "visits    0\n",
      "dtype: int64\n",
      "\n",
      "FILAS DUPLICADAS: 0\n"
     ]
    }
   ],
   "source": [
    "eda(visits)"
   ]
  },
  {
   "cell_type": "markdown",
   "metadata": {},
   "source": [
    "### Conclusiones\n",
    "\n",
    "Se cargaron los datos en tres tablas: hypotheses, orders y visits. Luego se revisaron los datos en cada una de ellas, así como su distribución. Al aplicar distintos métodos de pandas, se comprobó que la información estaba completa, sin datos ausentes. Sin embargo, se identificó que algunos visitantes en la tabla orders estaban registrados en ambos grupos de testeo, por lo que se creó una nueva tabla, orders_filtered, que contiene únicamente datos de usuarios asignados a un solo grupo y con la cual se trabajará por esta misma razón. Además, la exploración inicial reveló la necesidad de renombrar algunas columnas y ajustar el tipo de dato de las columnas que contenían fechas."
   ]
  },
  {
   "cell_type": "markdown",
   "metadata": {},
   "source": [
    "## Preprocesamiento de datos \n"
   ]
  },
  {
   "cell_type": "code",
   "execution_count": 12,
   "metadata": {},
   "outputs": [],
   "source": [
    "#Modificar nombre columnas 'hypotheses'\n",
    "\n",
    "new_columns = []\n",
    "\n",
    "for name in hypotheses.columns:\n",
    "    name_lowered = name.lower()\n",
    "    new_columns.append(name_lowered)\n",
    "\n",
    "hypotheses.columns = new_columns"
   ]
  },
  {
   "cell_type": "code",
   "execution_count": 13,
   "metadata": {},
   "outputs": [],
   "source": [
    "#Modificar nombre columnas de 'orders' y 'orders_filtered'\n",
    "\n",
    "orders_filtered = orders_filtered.rename(columns={'transactionId': 'transaction_id', 'visitorId': 'visitor_id'})"
   ]
  },
  {
   "cell_type": "code",
   "execution_count": 14,
   "metadata": {},
   "outputs": [
    {
     "data": {
      "text/plain": [
       "0      2019-08-15\n",
       "1      2019-08-15\n",
       "3      2019-08-15\n",
       "4      2019-08-15\n",
       "5      2019-08-15\n",
       "          ...    \n",
       "1191   2019-08-14\n",
       "1192   2019-08-14\n",
       "1193   2019-08-14\n",
       "1194   2019-08-14\n",
       "1196   2019-08-15\n",
       "Name: date, Length: 1016, dtype: datetime64[ns]"
      ]
     },
     "execution_count": 14,
     "metadata": {},
     "output_type": "execute_result"
    }
   ],
   "source": [
    "#Modificar tipo de dato columnas date de 'orders_filtered'\n",
    "orders_filtered['date'].map(lambda fila: dt.datetime.strptime(fila, '%Y-%m-%d'))"
   ]
  },
  {
   "cell_type": "code",
   "execution_count": 15,
   "metadata": {},
   "outputs": [
    {
     "data": {
      "text/plain": [
       "0    2019-08-01\n",
       "1    2019-08-02\n",
       "2    2019-08-03\n",
       "3    2019-08-04\n",
       "4    2019-08-05\n",
       "        ...    \n",
       "57   2019-08-27\n",
       "58   2019-08-28\n",
       "59   2019-08-29\n",
       "60   2019-08-30\n",
       "61   2019-08-31\n",
       "Name: date, Length: 62, dtype: datetime64[ns]"
      ]
     },
     "execution_count": 15,
     "metadata": {},
     "output_type": "execute_result"
    }
   ],
   "source": [
    "#Modificar tipo de dato en visits\n",
    "\n",
    "visits['date'].map(lambda fila: dt.datetime.strptime(fila, '%Y-%m-%d'))"
   ]
  },
  {
   "cell_type": "code",
   "execution_count": 16,
   "metadata": {},
   "outputs": [
    {
     "name": "stdout",
     "output_type": "stream",
     "text": [
      "<class 'pandas.core.frame.DataFrame'>\n",
      "Int64Index: 1016 entries, 0 to 1196\n",
      "Data columns (total 5 columns):\n",
      " #   Column          Non-Null Count  Dtype  \n",
      "---  ------          --------------  -----  \n",
      " 0   transaction_id  1016 non-null   int64  \n",
      " 1   visitor_id      1016 non-null   int64  \n",
      " 2   date            1016 non-null   object \n",
      " 3   revenue         1016 non-null   float64\n",
      " 4   group           1016 non-null   object \n",
      "dtypes: float64(1), int64(2), object(2)\n",
      "memory usage: 47.6+ KB\n",
      "\n",
      "<class 'pandas.core.frame.DataFrame'>\n",
      "RangeIndex: 62 entries, 0 to 61\n",
      "Data columns (total 3 columns):\n",
      " #   Column  Non-Null Count  Dtype \n",
      "---  ------  --------------  ----- \n",
      " 0   date    62 non-null     object\n",
      " 1   group   62 non-null     object\n",
      " 2   visits  62 non-null     int64 \n",
      "dtypes: int64(1), object(2)\n",
      "memory usage: 1.6+ KB\n"
     ]
    }
   ],
   "source": [
    "#Revisar que los cambios de hayan efectuado\n",
    "orders_filtered.info()\n",
    "print()\n",
    "visits.info()"
   ]
  },
  {
   "cell_type": "markdown",
   "metadata": {},
   "source": [
    "### Conclusiones \n",
    "En esta etapa, se renombraron las columnas para seguir un formato estándar y se convirtió el tipo de dato de las columnas de fechas a datetime para facilitar su uso en el análisis."
   ]
  },
  {
   "cell_type": "markdown",
   "metadata": {},
   "source": [
    "## Análisis"
   ]
  },
  {
   "cell_type": "markdown",
   "metadata": {},
   "source": [
    "### Priorización de hipótesis"
   ]
  },
  {
   "cell_type": "code",
   "execution_count": 17,
   "metadata": {},
   "outputs": [
    {
     "data": {
      "text/html": [
       "<div>\n",
       "<style scoped>\n",
       "    .dataframe tbody tr th:only-of-type {\n",
       "        vertical-align: middle;\n",
       "    }\n",
       "\n",
       "    .dataframe tbody tr th {\n",
       "        vertical-align: top;\n",
       "    }\n",
       "\n",
       "    .dataframe thead th {\n",
       "        text-align: right;\n",
       "    }\n",
       "</style>\n",
       "<table border=\"1\" class=\"dataframe\">\n",
       "  <thead>\n",
       "    <tr style=\"text-align: right;\">\n",
       "      <th></th>\n",
       "      <th>hypothesis</th>\n",
       "      <th>reach</th>\n",
       "      <th>impact</th>\n",
       "      <th>confidence</th>\n",
       "      <th>effort</th>\n",
       "    </tr>\n",
       "  </thead>\n",
       "  <tbody>\n",
       "    <tr>\n",
       "      <th>0</th>\n",
       "      <td>Add two new channels for attracting traffic. T...</td>\n",
       "      <td>3</td>\n",
       "      <td>10</td>\n",
       "      <td>8</td>\n",
       "      <td>6</td>\n",
       "    </tr>\n",
       "    <tr>\n",
       "      <th>1</th>\n",
       "      <td>Launch your own delivery service. This will sh...</td>\n",
       "      <td>2</td>\n",
       "      <td>5</td>\n",
       "      <td>4</td>\n",
       "      <td>10</td>\n",
       "    </tr>\n",
       "    <tr>\n",
       "      <th>2</th>\n",
       "      <td>Add product recommendation blocks to the store...</td>\n",
       "      <td>8</td>\n",
       "      <td>3</td>\n",
       "      <td>7</td>\n",
       "      <td>3</td>\n",
       "    </tr>\n",
       "    <tr>\n",
       "      <th>3</th>\n",
       "      <td>Change the category structure. This will incre...</td>\n",
       "      <td>8</td>\n",
       "      <td>3</td>\n",
       "      <td>3</td>\n",
       "      <td>8</td>\n",
       "    </tr>\n",
       "    <tr>\n",
       "      <th>4</th>\n",
       "      <td>Change the background color on the main page. ...</td>\n",
       "      <td>3</td>\n",
       "      <td>1</td>\n",
       "      <td>1</td>\n",
       "      <td>1</td>\n",
       "    </tr>\n",
       "  </tbody>\n",
       "</table>\n",
       "</div>"
      ],
      "text/plain": [
       "                                          hypothesis  reach  impact  \\\n",
       "0  Add two new channels for attracting traffic. T...      3      10   \n",
       "1  Launch your own delivery service. This will sh...      2       5   \n",
       "2  Add product recommendation blocks to the store...      8       3   \n",
       "3  Change the category structure. This will incre...      8       3   \n",
       "4  Change the background color on the main page. ...      3       1   \n",
       "\n",
       "   confidence  effort  \n",
       "0           8       6  \n",
       "1           4      10  \n",
       "2           7       3  \n",
       "3           3       8  \n",
       "4           1       1  "
      ]
     },
     "execution_count": 17,
     "metadata": {},
     "output_type": "execute_result"
    }
   ],
   "source": [
    "hypotheses.head()"
   ]
  },
  {
   "cell_type": "code",
   "execution_count": 18,
   "metadata": {},
   "outputs": [
    {
     "name": "stdout",
     "output_type": "stream",
     "text": [
      "                                          hypothesis  reach  impact  \\\n",
      "8  Launch a promotion that gives users discounts ...      1       9   \n",
      "0  Add two new channels for attracting traffic. T...      3      10   \n",
      "7  Add a subscription form to all the main pages....     10       7   \n",
      "6  Show banners with current offers and sales on ...      5       3   \n",
      "2  Add product recommendation blocks to the store...      8       3   \n",
      "1  Launch your own delivery service. This will sh...      2       5   \n",
      "5  Add a customer review page. This will increase...      3       2   \n",
      "3  Change the category structure. This will incre...      8       3   \n",
      "4  Change the background color on the main page. ...      3       1   \n",
      "\n",
      "   confidence  effort        ICE  \n",
      "8           9       5  16.200000  \n",
      "0           8       6  13.333333  \n",
      "7           8       5  11.200000  \n",
      "6           8       3   8.000000  \n",
      "2           7       3   7.000000  \n",
      "1           4      10   2.000000  \n",
      "5           2       3   1.333333  \n",
      "3           3       8   1.125000  \n",
      "4           1       1   1.000000  \n"
     ]
    }
   ],
   "source": [
    "#Calcular ICE de las hipótesis\n",
    "hypotheses['ICE'] = (hypotheses['impact'] * hypotheses['confidence']) / hypotheses['effort']\n",
    "\n",
    "print(hypotheses.sort_values(by='ICE', ascending=False))"
   ]
  },
  {
   "cell_type": "code",
   "execution_count": 19,
   "metadata": {},
   "outputs": [
    {
     "name": "stdout",
     "output_type": "stream",
     "text": [
      "                                          hypothesis  reach  impact  \\\n",
      "7  Add a subscription form to all the main pages....     10       7   \n",
      "2  Add product recommendation blocks to the store...      8       3   \n",
      "0  Add two new channels for attracting traffic. T...      3      10   \n",
      "6  Show banners with current offers and sales on ...      5       3   \n",
      "8  Launch a promotion that gives users discounts ...      1       9   \n",
      "3  Change the category structure. This will incre...      8       3   \n",
      "1  Launch your own delivery service. This will sh...      2       5   \n",
      "5  Add a customer review page. This will increase...      3       2   \n",
      "4  Change the background color on the main page. ...      3       1   \n",
      "\n",
      "   confidence  effort        ICE   RICE  \n",
      "7           8       5  11.200000  112.0  \n",
      "2           7       3   7.000000   56.0  \n",
      "0           8       6  13.333333   40.0  \n",
      "6           8       3   8.000000   40.0  \n",
      "8           9       5  16.200000   16.2  \n",
      "3           3       8   1.125000    9.0  \n",
      "1           4      10   2.000000    4.0  \n",
      "5           2       3   1.333333    4.0  \n",
      "4           1       1   1.000000    3.0  \n"
     ]
    }
   ],
   "source": [
    "#Calcular RICE de las hipótesis\n",
    "hypotheses['RICE'] = (hypotheses['reach'] * hypotheses['impact'] * hypotheses['confidence']) / hypotheses['effort']\n",
    "\n",
    "print(hypotheses.sort_values(by='RICE', ascending=False))"
   ]
  },
  {
   "cell_type": "code",
   "execution_count": 68,
   "metadata": {},
   "outputs": [
    {
     "data": {
      "image/png": "[encoded data removed]",
      "text/plain": [
       "<Figure size 640x480 with 1 Axes>"
      ]
     },
     "metadata": {},
     "output_type": "display_data"
    }
   ],
   "source": [
    "#Graficar resultados cálculos ICE y RICE\n",
    "hypotheses.plot(kind='bar',\n",
    "            x='hypothesis',\n",
    "            y=['ICE', 'RICE'],\n",
    "            xlabel='Hipótesis',\n",
    "            ylabel='Puntaje',\n",
    "            rot=90,\n",
    "            title='Comparación de puntajes para cada hipótesis aplicando ICE y RICE')\n",
    "\n",
    "plt.legend(['ICE', 'RICE'])\n",
    "plt.show()"
   ]
  },
  {
   "cell_type": "markdown",
   "metadata": {},
   "source": [
    "#### Conclusiones \n",
    "\n",
    "El top 5 de hipótesis analizando el ICE son:\n",
    "1. Launch a promotion that gives users discounts on their birthdays.\n",
    "2. Add two new channels for attracting traffic. This will bring 30% more users.\n",
    "3. Add a subscription form to all the main pages. This will help you compile a mailing list.\n",
    "4. Show banners with current offers and sales on the main page. This will boost conversion.\n",
    "5. Add product recommendation blocks to the store's site. This will increase conversion and average purchase size.\n",
    "\n",
    "El top 5 de hipótesis analizando el RICE son:\n",
    "\n",
    "1. Add a subscription form to all the main pages. This will help you compile a mailing list.\n",
    "2. Add product recommendation blocks to the store's site. This will increase conversion and average purchase size.\n",
    "3. Add two new channels for attracting traffic. This will bring 30% more users.\n",
    "4. Show banners with current offers and sales on the main page. This will boost conversion.\n",
    "5. Launch a promotion that gives users discounts on their birthdays.\n",
    "\n",
    "\n",
    "Al revisar estos rankings, podemos observar que las mismas cinco hipótesis son las mejor evaluadas, independientemente del framework utilizado para evaluar su potencial de impacto. Sin embargo, los resultados sobre los efectos posibles de estas hipótesis varían al considerar un marco de referencia u otro. Al analizar las diferencias en la priorización de hipótesis entre ICE y RICE, se puede concluir que las mejores hipótesis a considerar son \"Add two new channels for attracting traffic. This will bring 30% more users\" y \"Add a subscription form to all the main pages. This will help you compile a mailing list\", ya que su posición se mantiene relativamente estable entre ambos frameworks.\n",
    "\n",
    "Se llevará a cabo una prueba A/B para la siguiente hipótesis: \"Add a subscription form to all the main pages. This will help you compile a mailing list.\" Esta hipótesis fue seleccionada porque, aunque sus puntajes son similares a los de la segunda mejor opción, obtuvo una mejor calificación en el modelo RICE, que considera más factores y, por lo tanto, es más detallado. Además, su puntaje de esfuerzo es menor, lo que implica una inversión más baja en comparación con la hipótesis \"Add two new channels for attracting traffic. This will bring 30% more users.\""
   ]
  },
  {
   "cell_type": "markdown",
   "metadata": {},
   "source": [
    "### Análisis del Test A/B"
   ]
  },
  {
   "cell_type": "code",
   "execution_count": 20,
   "metadata": {},
   "outputs": [
    {
     "data": {
      "text/html": [
       "<div>\n",
       "<style scoped>\n",
       "    .dataframe tbody tr th:only-of-type {\n",
       "        vertical-align: middle;\n",
       "    }\n",
       "\n",
       "    .dataframe tbody tr th {\n",
       "        vertical-align: top;\n",
       "    }\n",
       "\n",
       "    .dataframe thead th {\n",
       "        text-align: right;\n",
       "    }\n",
       "</style>\n",
       "<table border=\"1\" class=\"dataframe\">\n",
       "  <thead>\n",
       "    <tr style=\"text-align: right;\">\n",
       "      <th></th>\n",
       "      <th>date</th>\n",
       "      <th>group</th>\n",
       "    </tr>\n",
       "  </thead>\n",
       "  <tbody>\n",
       "    <tr>\n",
       "      <th>0</th>\n",
       "      <td>2019-08-15</td>\n",
       "      <td>B</td>\n",
       "    </tr>\n",
       "    <tr>\n",
       "      <th>7</th>\n",
       "      <td>2019-08-15</td>\n",
       "      <td>A</td>\n",
       "    </tr>\n",
       "    <tr>\n",
       "      <th>45</th>\n",
       "      <td>2019-08-16</td>\n",
       "      <td>A</td>\n",
       "    </tr>\n",
       "    <tr>\n",
       "      <th>47</th>\n",
       "      <td>2019-08-16</td>\n",
       "      <td>B</td>\n",
       "    </tr>\n",
       "    <tr>\n",
       "      <th>55</th>\n",
       "      <td>2019-08-01</td>\n",
       "      <td>A</td>\n",
       "    </tr>\n",
       "    <tr>\n",
       "      <th>...</th>\n",
       "      <td>...</td>\n",
       "      <td>...</td>\n",
       "    </tr>\n",
       "    <tr>\n",
       "      <th>1068</th>\n",
       "      <td>2019-08-12</td>\n",
       "      <td>A</td>\n",
       "    </tr>\n",
       "    <tr>\n",
       "      <th>1114</th>\n",
       "      <td>2019-08-13</td>\n",
       "      <td>B</td>\n",
       "    </tr>\n",
       "    <tr>\n",
       "      <th>1116</th>\n",
       "      <td>2019-08-13</td>\n",
       "      <td>A</td>\n",
       "    </tr>\n",
       "    <tr>\n",
       "      <th>1149</th>\n",
       "      <td>2019-08-14</td>\n",
       "      <td>B</td>\n",
       "    </tr>\n",
       "    <tr>\n",
       "      <th>1150</th>\n",
       "      <td>2019-08-14</td>\n",
       "      <td>A</td>\n",
       "    </tr>\n",
       "  </tbody>\n",
       "</table>\n",
       "<p>62 rows × 2 columns</p>\n",
       "</div>"
      ],
      "text/plain": [
       "            date group\n",
       "0     2019-08-15     B\n",
       "7     2019-08-15     A\n",
       "45    2019-08-16     A\n",
       "47    2019-08-16     B\n",
       "55    2019-08-01     A\n",
       "...          ...   ...\n",
       "1068  2019-08-12     A\n",
       "1114  2019-08-13     B\n",
       "1116  2019-08-13     A\n",
       "1149  2019-08-14     B\n",
       "1150  2019-08-14     A\n",
       "\n",
       "[62 rows x 2 columns]"
      ]
     },
     "execution_count": 20,
     "metadata": {},
     "output_type": "execute_result"
    }
   ],
   "source": [
    "#Crear tabla de fecha de órdenes por grupo\n",
    "grupos_de_fecha = orders_filtered[['date', 'group']].drop_duplicates()\n",
    "grupos_de_fecha"
   ]
  },
  {
   "cell_type": "code",
   "execution_count": 21,
   "metadata": {},
   "outputs": [],
   "source": [
    "#Crear df con las órdenes acumuladas por fecha y grupo\n",
    "ordenes_acumuladas = grupos_de_fecha.apply(\n",
    "    lambda fila: orders_filtered[np.logical_and(orders_filtered['date'] <= fila['date'], orders_filtered['group'] == fila['group'])]\n",
    "    .agg({\n",
    "        'date':'max',\n",
    "        'group': 'max',\n",
    "        'transaction_id':pd.Series.nunique,\n",
    "        'visitor_id': pd.Series.nunique,\n",
    "        'revenue': 'sum'\n",
    "    }), axis=1\n",
    ").sort_values(by=['date', 'group'])"
   ]
  },
  {
   "cell_type": "code",
   "execution_count": 22,
   "metadata": {},
   "outputs": [
    {
     "data": {
      "text/html": [
       "<div>\n",
       "<style scoped>\n",
       "    .dataframe tbody tr th:only-of-type {\n",
       "        vertical-align: middle;\n",
       "    }\n",
       "\n",
       "    .dataframe tbody tr th {\n",
       "        vertical-align: top;\n",
       "    }\n",
       "\n",
       "    .dataframe thead th {\n",
       "        text-align: right;\n",
       "    }\n",
       "</style>\n",
       "<table border=\"1\" class=\"dataframe\">\n",
       "  <thead>\n",
       "    <tr style=\"text-align: right;\">\n",
       "      <th></th>\n",
       "      <th>date</th>\n",
       "      <th>group</th>\n",
       "      <th>transaction_id</th>\n",
       "      <th>visitor_id</th>\n",
       "      <th>revenue</th>\n",
       "    </tr>\n",
       "  </thead>\n",
       "  <tbody>\n",
       "    <tr>\n",
       "      <th>55</th>\n",
       "      <td>2019-08-01</td>\n",
       "      <td>A</td>\n",
       "      <td>23</td>\n",
       "      <td>19</td>\n",
       "      <td>2266.6</td>\n",
       "    </tr>\n",
       "    <tr>\n",
       "      <th>66</th>\n",
       "      <td>2019-08-01</td>\n",
       "      <td>B</td>\n",
       "      <td>17</td>\n",
       "      <td>17</td>\n",
       "      <td>967.2</td>\n",
       "    </tr>\n",
       "    <tr>\n",
       "      <th>175</th>\n",
       "      <td>2019-08-02</td>\n",
       "      <td>A</td>\n",
       "      <td>42</td>\n",
       "      <td>36</td>\n",
       "      <td>3734.9</td>\n",
       "    </tr>\n",
       "    <tr>\n",
       "      <th>173</th>\n",
       "      <td>2019-08-02</td>\n",
       "      <td>B</td>\n",
       "      <td>40</td>\n",
       "      <td>39</td>\n",
       "      <td>3535.3</td>\n",
       "    </tr>\n",
       "    <tr>\n",
       "      <th>291</th>\n",
       "      <td>2019-08-03</td>\n",
       "      <td>A</td>\n",
       "      <td>66</td>\n",
       "      <td>60</td>\n",
       "      <td>5550.1</td>\n",
       "    </tr>\n",
       "    <tr>\n",
       "      <th>...</th>\n",
       "      <td>...</td>\n",
       "      <td>...</td>\n",
       "      <td>...</td>\n",
       "      <td>...</td>\n",
       "      <td>...</td>\n",
       "    </tr>\n",
       "    <tr>\n",
       "      <th>533</th>\n",
       "      <td>2019-08-29</td>\n",
       "      <td>B</td>\n",
       "      <td>510</td>\n",
       "      <td>490</td>\n",
       "      <td>74576.7</td>\n",
       "    </tr>\n",
       "    <tr>\n",
       "      <th>757</th>\n",
       "      <td>2019-08-30</td>\n",
       "      <td>A</td>\n",
       "      <td>460</td>\n",
       "      <td>437</td>\n",
       "      <td>52363.7</td>\n",
       "    </tr>\n",
       "    <tr>\n",
       "      <th>690</th>\n",
       "      <td>2019-08-30</td>\n",
       "      <td>B</td>\n",
       "      <td>531</td>\n",
       "      <td>511</td>\n",
       "      <td>77863.5</td>\n",
       "    </tr>\n",
       "    <tr>\n",
       "      <th>958</th>\n",
       "      <td>2019-08-31</td>\n",
       "      <td>A</td>\n",
       "      <td>468</td>\n",
       "      <td>445</td>\n",
       "      <td>53212.0</td>\n",
       "    </tr>\n",
       "    <tr>\n",
       "      <th>930</th>\n",
       "      <td>2019-08-31</td>\n",
       "      <td>B</td>\n",
       "      <td>548</td>\n",
       "      <td>528</td>\n",
       "      <td>79651.2</td>\n",
       "    </tr>\n",
       "  </tbody>\n",
       "</table>\n",
       "<p>62 rows × 5 columns</p>\n",
       "</div>"
      ],
      "text/plain": [
       "           date group  transaction_id  visitor_id  revenue\n",
       "55   2019-08-01     A              23          19   2266.6\n",
       "66   2019-08-01     B              17          17    967.2\n",
       "175  2019-08-02     A              42          36   3734.9\n",
       "173  2019-08-02     B              40          39   3535.3\n",
       "291  2019-08-03     A              66          60   5550.1\n",
       "..          ...   ...             ...         ...      ...\n",
       "533  2019-08-29     B             510         490  74576.7\n",
       "757  2019-08-30     A             460         437  52363.7\n",
       "690  2019-08-30     B             531         511  77863.5\n",
       "958  2019-08-31     A             468         445  53212.0\n",
       "930  2019-08-31     B             548         528  79651.2\n",
       "\n",
       "[62 rows x 5 columns]"
      ]
     },
     "execution_count": 22,
     "metadata": {},
     "output_type": "execute_result"
    }
   ],
   "source": [
    "ordenes_acumuladas"
   ]
  },
  {
   "cell_type": "code",
   "execution_count": 23,
   "metadata": {},
   "outputs": [],
   "source": [
    "#Crear df con las visitas acumuladas por fecha y grupo\n",
    "visitas_acumuladas = grupos_de_fecha.apply(\n",
    "    lambda fila: visits[np.logical_and(visits['date'] <= fila['date'], visits['group'] == fila['group'])]\n",
    "    .agg({\n",
    "        'date':'max',\n",
    "        'group': 'max',\n",
    "        'visits':'sum',\n",
    "        \n",
    "        }), axis=1\n",
    ").sort_values(by=['date', 'group'])"
   ]
  },
  {
   "cell_type": "code",
   "execution_count": 24,
   "metadata": {},
   "outputs": [
    {
     "data": {
      "text/html": [
       "<div>\n",
       "<style scoped>\n",
       "    .dataframe tbody tr th:only-of-type {\n",
       "        vertical-align: middle;\n",
       "    }\n",
       "\n",
       "    .dataframe tbody tr th {\n",
       "        vertical-align: top;\n",
       "    }\n",
       "\n",
       "    .dataframe thead th {\n",
       "        text-align: right;\n",
       "    }\n",
       "</style>\n",
       "<table border=\"1\" class=\"dataframe\">\n",
       "  <thead>\n",
       "    <tr style=\"text-align: right;\">\n",
       "      <th></th>\n",
       "      <th>date</th>\n",
       "      <th>group</th>\n",
       "      <th>visits</th>\n",
       "    </tr>\n",
       "  </thead>\n",
       "  <tbody>\n",
       "    <tr>\n",
       "      <th>55</th>\n",
       "      <td>2019-08-01</td>\n",
       "      <td>A</td>\n",
       "      <td>719</td>\n",
       "    </tr>\n",
       "    <tr>\n",
       "      <th>66</th>\n",
       "      <td>2019-08-01</td>\n",
       "      <td>B</td>\n",
       "      <td>713</td>\n",
       "    </tr>\n",
       "    <tr>\n",
       "      <th>175</th>\n",
       "      <td>2019-08-02</td>\n",
       "      <td>A</td>\n",
       "      <td>1338</td>\n",
       "    </tr>\n",
       "    <tr>\n",
       "      <th>173</th>\n",
       "      <td>2019-08-02</td>\n",
       "      <td>B</td>\n",
       "      <td>1294</td>\n",
       "    </tr>\n",
       "    <tr>\n",
       "      <th>291</th>\n",
       "      <td>2019-08-03</td>\n",
       "      <td>A</td>\n",
       "      <td>1845</td>\n",
       "    </tr>\n",
       "    <tr>\n",
       "      <th>...</th>\n",
       "      <td>...</td>\n",
       "      <td>...</td>\n",
       "      <td>...</td>\n",
       "    </tr>\n",
       "    <tr>\n",
       "      <th>533</th>\n",
       "      <td>2019-08-29</td>\n",
       "      <td>B</td>\n",
       "      <td>17708</td>\n",
       "    </tr>\n",
       "    <tr>\n",
       "      <th>757</th>\n",
       "      <td>2019-08-30</td>\n",
       "      <td>A</td>\n",
       "      <td>18037</td>\n",
       "    </tr>\n",
       "    <tr>\n",
       "      <th>690</th>\n",
       "      <td>2019-08-30</td>\n",
       "      <td>B</td>\n",
       "      <td>18198</td>\n",
       "    </tr>\n",
       "    <tr>\n",
       "      <th>958</th>\n",
       "      <td>2019-08-31</td>\n",
       "      <td>A</td>\n",
       "      <td>18736</td>\n",
       "    </tr>\n",
       "    <tr>\n",
       "      <th>930</th>\n",
       "      <td>2019-08-31</td>\n",
       "      <td>B</td>\n",
       "      <td>18916</td>\n",
       "    </tr>\n",
       "  </tbody>\n",
       "</table>\n",
       "<p>62 rows × 3 columns</p>\n",
       "</div>"
      ],
      "text/plain": [
       "           date group  visits\n",
       "55   2019-08-01     A     719\n",
       "66   2019-08-01     B     713\n",
       "175  2019-08-02     A    1338\n",
       "173  2019-08-02     B    1294\n",
       "291  2019-08-03     A    1845\n",
       "..          ...   ...     ...\n",
       "533  2019-08-29     B   17708\n",
       "757  2019-08-30     A   18037\n",
       "690  2019-08-30     B   18198\n",
       "958  2019-08-31     A   18736\n",
       "930  2019-08-31     B   18916\n",
       "\n",
       "[62 rows x 3 columns]"
      ]
     },
     "execution_count": 24,
     "metadata": {},
     "output_type": "execute_result"
    }
   ],
   "source": [
    "visitas_acumuladas"
   ]
  },
  {
   "cell_type": "code",
   "execution_count": 25,
   "metadata": {},
   "outputs": [],
   "source": [
    "#Unir df de órdenes y visitas acumuladas\n",
    "datos_acumulados = ordenes_acumuladas.merge(visitas_acumuladas, how='inner', on=['date', 'group'])\n",
    "datos_acumulados.columns=['fecha', 'grupo', 'ordenes', 'compradores', 'margen', 'visitas']"
   ]
  },
  {
   "cell_type": "code",
   "execution_count": 26,
   "metadata": {},
   "outputs": [
    {
     "data": {
      "text/html": [
       "<div>\n",
       "<style scoped>\n",
       "    .dataframe tbody tr th:only-of-type {\n",
       "        vertical-align: middle;\n",
       "    }\n",
       "\n",
       "    .dataframe tbody tr th {\n",
       "        vertical-align: top;\n",
       "    }\n",
       "\n",
       "    .dataframe thead th {\n",
       "        text-align: right;\n",
       "    }\n",
       "</style>\n",
       "<table border=\"1\" class=\"dataframe\">\n",
       "  <thead>\n",
       "    <tr style=\"text-align: right;\">\n",
       "      <th></th>\n",
       "      <th>fecha</th>\n",
       "      <th>grupo</th>\n",
       "      <th>ordenes</th>\n",
       "      <th>compradores</th>\n",
       "      <th>margen</th>\n",
       "      <th>visitas</th>\n",
       "    </tr>\n",
       "  </thead>\n",
       "  <tbody>\n",
       "    <tr>\n",
       "      <th>0</th>\n",
       "      <td>2019-08-01</td>\n",
       "      <td>A</td>\n",
       "      <td>23</td>\n",
       "      <td>19</td>\n",
       "      <td>2266.6</td>\n",
       "      <td>719</td>\n",
       "    </tr>\n",
       "    <tr>\n",
       "      <th>1</th>\n",
       "      <td>2019-08-01</td>\n",
       "      <td>B</td>\n",
       "      <td>17</td>\n",
       "      <td>17</td>\n",
       "      <td>967.2</td>\n",
       "      <td>713</td>\n",
       "    </tr>\n",
       "    <tr>\n",
       "      <th>2</th>\n",
       "      <td>2019-08-02</td>\n",
       "      <td>A</td>\n",
       "      <td>42</td>\n",
       "      <td>36</td>\n",
       "      <td>3734.9</td>\n",
       "      <td>1338</td>\n",
       "    </tr>\n",
       "    <tr>\n",
       "      <th>3</th>\n",
       "      <td>2019-08-02</td>\n",
       "      <td>B</td>\n",
       "      <td>40</td>\n",
       "      <td>39</td>\n",
       "      <td>3535.3</td>\n",
       "      <td>1294</td>\n",
       "    </tr>\n",
       "    <tr>\n",
       "      <th>4</th>\n",
       "      <td>2019-08-03</td>\n",
       "      <td>A</td>\n",
       "      <td>66</td>\n",
       "      <td>60</td>\n",
       "      <td>5550.1</td>\n",
       "      <td>1845</td>\n",
       "    </tr>\n",
       "    <tr>\n",
       "      <th>...</th>\n",
       "      <td>...</td>\n",
       "      <td>...</td>\n",
       "      <td>...</td>\n",
       "      <td>...</td>\n",
       "      <td>...</td>\n",
       "      <td>...</td>\n",
       "    </tr>\n",
       "    <tr>\n",
       "      <th>57</th>\n",
       "      <td>2019-08-29</td>\n",
       "      <td>B</td>\n",
       "      <td>510</td>\n",
       "      <td>490</td>\n",
       "      <td>74576.7</td>\n",
       "      <td>17708</td>\n",
       "    </tr>\n",
       "    <tr>\n",
       "      <th>58</th>\n",
       "      <td>2019-08-30</td>\n",
       "      <td>A</td>\n",
       "      <td>460</td>\n",
       "      <td>437</td>\n",
       "      <td>52363.7</td>\n",
       "      <td>18037</td>\n",
       "    </tr>\n",
       "    <tr>\n",
       "      <th>59</th>\n",
       "      <td>2019-08-30</td>\n",
       "      <td>B</td>\n",
       "      <td>531</td>\n",
       "      <td>511</td>\n",
       "      <td>77863.5</td>\n",
       "      <td>18198</td>\n",
       "    </tr>\n",
       "    <tr>\n",
       "      <th>60</th>\n",
       "      <td>2019-08-31</td>\n",
       "      <td>A</td>\n",
       "      <td>468</td>\n",
       "      <td>445</td>\n",
       "      <td>53212.0</td>\n",
       "      <td>18736</td>\n",
       "    </tr>\n",
       "    <tr>\n",
       "      <th>61</th>\n",
       "      <td>2019-08-31</td>\n",
       "      <td>B</td>\n",
       "      <td>548</td>\n",
       "      <td>528</td>\n",
       "      <td>79651.2</td>\n",
       "      <td>18916</td>\n",
       "    </tr>\n",
       "  </tbody>\n",
       "</table>\n",
       "<p>62 rows × 6 columns</p>\n",
       "</div>"
      ],
      "text/plain": [
       "         fecha grupo  ordenes  compradores   margen  visitas\n",
       "0   2019-08-01     A       23           19   2266.6      719\n",
       "1   2019-08-01     B       17           17    967.2      713\n",
       "2   2019-08-02     A       42           36   3734.9     1338\n",
       "3   2019-08-02     B       40           39   3535.3     1294\n",
       "4   2019-08-03     A       66           60   5550.1     1845\n",
       "..         ...   ...      ...          ...      ...      ...\n",
       "57  2019-08-29     B      510          490  74576.7    17708\n",
       "58  2019-08-30     A      460          437  52363.7    18037\n",
       "59  2019-08-30     B      531          511  77863.5    18198\n",
       "60  2019-08-31     A      468          445  53212.0    18736\n",
       "61  2019-08-31     B      548          528  79651.2    18916\n",
       "\n",
       "[62 rows x 6 columns]"
      ]
     },
     "execution_count": 26,
     "metadata": {},
     "output_type": "execute_result"
    }
   ],
   "source": [
    "datos_acumulados"
   ]
  },
  {
   "cell_type": "code",
   "execution_count": 27,
   "metadata": {},
   "outputs": [],
   "source": [
    "#Separar df por grupo\n",
    "datos_acumulados_a = datos_acumulados.query(\"grupo == 'A'\")\n",
    "\n",
    "datos_acumulados_b = datos_acumulados.query(\"grupo == 'B'\")"
   ]
  },
  {
   "cell_type": "code",
   "execution_count": 28,
   "metadata": {},
   "outputs": [
    {
     "data": {
      "image/png": "[encoded data removed]",
      "text/plain": [
       "<Figure size 1300x500 with 1 Axes>"
      ]
     },
     "metadata": {},
     "output_type": "display_data"
    }
   ],
   "source": [
    "#Graficar ganancias por grupo\n",
    "\n",
    "plt.figure(figsize=(13,5))\n",
    "\n",
    "plt.plot(datos_acumulados_a['fecha'], datos_acumulados_a['margen'], label='Prueba A')\n",
    "\n",
    "plt.plot(datos_acumulados_b['fecha'], datos_acumulados_b['margen'], label='Prueba B')\n",
    "\n",
    "plt.xticks(rotation=45)\n",
    "plt.title('Ganancias acumuladas de cada grupo de testeo')\n",
    "plt.xlabel('Fecha')\n",
    "plt.ylabel('Dólares')\n",
    "plt.legend()\n",
    "\n",
    "plt.show()"
   ]
  },
  {
   "cell_type": "markdown",
   "metadata": {},
   "source": [
    "El gráfico muestra una ganancia acumulada similar entre ambos grupos hasta el 17 de agosto de 2018. A partir de esa fecha, el grupo B aumenta sus ganancias en casi 30,000 dólares más que el grupo A y luego mantiene un crecimiento estable."
   ]
  },
  {
   "cell_type": "code",
   "execution_count": 29,
   "metadata": {},
   "outputs": [
    {
     "data": {
      "image/png": "[encoded data removed]",
      "text/plain": [
       "<Figure size 1300x500 with 1 Axes>"
      ]
     },
     "metadata": {},
     "output_type": "display_data"
    }
   ],
   "source": [
    "#Graficar compra acumulada promedio por grupo\n",
    "\n",
    "plt.figure(figsize=(13,5))\n",
    "\n",
    "plt.plot(datos_acumulados_a['fecha'], datos_acumulados_a['margen'] /datos_acumulados_a['ordenes'] , label='Prueba A')\n",
    "\n",
    "plt.plot(datos_acumulados_b['fecha'], datos_acumulados_b['margen'] / datos_acumulados_b['ordenes'], label='Prueba B')\n",
    "\n",
    "plt.xticks(rotation=45)\n",
    "plt.title('Valor compra acumulada promedio de cada grupo de testeo')\n",
    "plt.xlabel('Fecha')\n",
    "plt.ylabel('Dólares')\n",
    "plt.legend()\n",
    "\n",
    "plt.show()"
   ]
  },
  {
   "cell_type": "markdown",
   "metadata": {},
   "source": [
    "Desde el inicio de las pruebas hasta el 17 de agosto de 2019, los valores promedio de las compras acumuladas presentan fluctuaciones significativas de un día a otro. Además, es difícil determinar cuál grupo es superior, ya que ambos muestran comportamientos variables durante ese período. Sin embargo, entre el 17 y 18 de agosto, se observa un incremento notable en el margen promedio de compra del grupo B, superando al grupo A por aproximadamente 60 dólares. En los días siguientes, el grupo B experimenta una leve disminución en este valor, pero continúa manteniendo una ganancia superior al grupo A, cuyo ingreso promedio por compra se mantiene entre 110 y 120 dólares."
   ]
  },
  {
   "cell_type": "code",
   "execution_count": 30,
   "metadata": {},
   "outputs": [],
   "source": [
    "#Crear df con datos acumulados de ambos grupos de testeo por fecha\n",
    "datos_acumulados_merge = datos_acumulados_a.merge(datos_acumulados_b, how='inner', on='fecha', suffixes=['_a', '_b'])"
   ]
  },
  {
   "cell_type": "code",
   "execution_count": 31,
   "metadata": {},
   "outputs": [
    {
     "data": {
      "text/html": [
       "<div>\n",
       "<style scoped>\n",
       "    .dataframe tbody tr th:only-of-type {\n",
       "        vertical-align: middle;\n",
       "    }\n",
       "\n",
       "    .dataframe tbody tr th {\n",
       "        vertical-align: top;\n",
       "    }\n",
       "\n",
       "    .dataframe thead th {\n",
       "        text-align: right;\n",
       "    }\n",
       "</style>\n",
       "<table border=\"1\" class=\"dataframe\">\n",
       "  <thead>\n",
       "    <tr style=\"text-align: right;\">\n",
       "      <th></th>\n",
       "      <th>fecha</th>\n",
       "      <th>grupo_a</th>\n",
       "      <th>ordenes_a</th>\n",
       "      <th>compradores_a</th>\n",
       "      <th>margen_a</th>\n",
       "      <th>visitas_a</th>\n",
       "      <th>grupo_b</th>\n",
       "      <th>ordenes_b</th>\n",
       "      <th>compradores_b</th>\n",
       "      <th>margen_b</th>\n",
       "      <th>visitas_b</th>\n",
       "    </tr>\n",
       "  </thead>\n",
       "  <tbody>\n",
       "    <tr>\n",
       "      <th>0</th>\n",
       "      <td>2019-08-01</td>\n",
       "      <td>A</td>\n",
       "      <td>23</td>\n",
       "      <td>19</td>\n",
       "      <td>2266.6</td>\n",
       "      <td>719</td>\n",
       "      <td>B</td>\n",
       "      <td>17</td>\n",
       "      <td>17</td>\n",
       "      <td>967.2</td>\n",
       "      <td>713</td>\n",
       "    </tr>\n",
       "    <tr>\n",
       "      <th>1</th>\n",
       "      <td>2019-08-02</td>\n",
       "      <td>A</td>\n",
       "      <td>42</td>\n",
       "      <td>36</td>\n",
       "      <td>3734.9</td>\n",
       "      <td>1338</td>\n",
       "      <td>B</td>\n",
       "      <td>40</td>\n",
       "      <td>39</td>\n",
       "      <td>3535.3</td>\n",
       "      <td>1294</td>\n",
       "    </tr>\n",
       "    <tr>\n",
       "      <th>2</th>\n",
       "      <td>2019-08-03</td>\n",
       "      <td>A</td>\n",
       "      <td>66</td>\n",
       "      <td>60</td>\n",
       "      <td>5550.1</td>\n",
       "      <td>1845</td>\n",
       "      <td>B</td>\n",
       "      <td>54</td>\n",
       "      <td>53</td>\n",
       "      <td>4606.9</td>\n",
       "      <td>1803</td>\n",
       "    </tr>\n",
       "    <tr>\n",
       "      <th>3</th>\n",
       "      <td>2019-08-04</td>\n",
       "      <td>A</td>\n",
       "      <td>77</td>\n",
       "      <td>71</td>\n",
       "      <td>6225.6</td>\n",
       "      <td>2562</td>\n",
       "      <td>B</td>\n",
       "      <td>68</td>\n",
       "      <td>66</td>\n",
       "      <td>6138.5</td>\n",
       "      <td>2573</td>\n",
       "    </tr>\n",
       "    <tr>\n",
       "      <th>4</th>\n",
       "      <td>2019-08-05</td>\n",
       "      <td>A</td>\n",
       "      <td>99</td>\n",
       "      <td>92</td>\n",
       "      <td>7623.6</td>\n",
       "      <td>3318</td>\n",
       "      <td>B</td>\n",
       "      <td>89</td>\n",
       "      <td>87</td>\n",
       "      <td>7587.8</td>\n",
       "      <td>3280</td>\n",
       "    </tr>\n",
       "    <tr>\n",
       "      <th>5</th>\n",
       "      <td>2019-08-06</td>\n",
       "      <td>A</td>\n",
       "      <td>114</td>\n",
       "      <td>104</td>\n",
       "      <td>8292.0</td>\n",
       "      <td>3985</td>\n",
       "      <td>B</td>\n",
       "      <td>112</td>\n",
       "      <td>109</td>\n",
       "      <td>10957.1</td>\n",
       "      <td>3935</td>\n",
       "    </tr>\n",
       "    <tr>\n",
       "      <th>6</th>\n",
       "      <td>2019-08-07</td>\n",
       "      <td>A</td>\n",
       "      <td>130</td>\n",
       "      <td>120</td>\n",
       "      <td>10234.0</td>\n",
       "      <td>4629</td>\n",
       "      <td>B</td>\n",
       "      <td>135</td>\n",
       "      <td>132</td>\n",
       "      <td>14392.7</td>\n",
       "      <td>4644</td>\n",
       "    </tr>\n",
       "    <tr>\n",
       "      <th>7</th>\n",
       "      <td>2019-08-08</td>\n",
       "      <td>A</td>\n",
       "      <td>144</td>\n",
       "      <td>133</td>\n",
       "      <td>11638.8</td>\n",
       "      <td>5239</td>\n",
       "      <td>B</td>\n",
       "      <td>157</td>\n",
       "      <td>154</td>\n",
       "      <td>16772.6</td>\n",
       "      <td>5298</td>\n",
       "    </tr>\n",
       "    <tr>\n",
       "      <th>8</th>\n",
       "      <td>2019-08-09</td>\n",
       "      <td>A</td>\n",
       "      <td>155</td>\n",
       "      <td>143</td>\n",
       "      <td>13734.0</td>\n",
       "      <td>5856</td>\n",
       "      <td>B</td>\n",
       "      <td>176</td>\n",
       "      <td>173</td>\n",
       "      <td>18428.8</td>\n",
       "      <td>5908</td>\n",
       "    </tr>\n",
       "    <tr>\n",
       "      <th>9</th>\n",
       "      <td>2019-08-10</td>\n",
       "      <td>A</td>\n",
       "      <td>170</td>\n",
       "      <td>158</td>\n",
       "      <td>16121.5</td>\n",
       "      <td>6262</td>\n",
       "      <td>B</td>\n",
       "      <td>198</td>\n",
       "      <td>195</td>\n",
       "      <td>20103.6</td>\n",
       "      <td>6277</td>\n",
       "    </tr>\n",
       "    <tr>\n",
       "      <th>10</th>\n",
       "      <td>2019-08-11</td>\n",
       "      <td>A</td>\n",
       "      <td>181</td>\n",
       "      <td>169</td>\n",
       "      <td>17084.9</td>\n",
       "      <td>6980</td>\n",
       "      <td>B</td>\n",
       "      <td>210</td>\n",
       "      <td>207</td>\n",
       "      <td>20959.0</td>\n",
       "      <td>6998</td>\n",
       "    </tr>\n",
       "    <tr>\n",
       "      <th>11</th>\n",
       "      <td>2019-08-12</td>\n",
       "      <td>A</td>\n",
       "      <td>200</td>\n",
       "      <td>188</td>\n",
       "      <td>20533.7</td>\n",
       "      <td>7575</td>\n",
       "      <td>B</td>\n",
       "      <td>229</td>\n",
       "      <td>225</td>\n",
       "      <td>22616.8</td>\n",
       "      <td>7541</td>\n",
       "    </tr>\n",
       "    <tr>\n",
       "      <th>12</th>\n",
       "      <td>2019-08-13</td>\n",
       "      <td>A</td>\n",
       "      <td>214</td>\n",
       "      <td>201</td>\n",
       "      <td>24630.6</td>\n",
       "      <td>8323</td>\n",
       "      <td>B</td>\n",
       "      <td>249</td>\n",
       "      <td>244</td>\n",
       "      <td>24491.3</td>\n",
       "      <td>8310</td>\n",
       "    </tr>\n",
       "    <tr>\n",
       "      <th>13</th>\n",
       "      <td>2019-08-14</td>\n",
       "      <td>A</td>\n",
       "      <td>231</td>\n",
       "      <td>218</td>\n",
       "      <td>25347.2</td>\n",
       "      <td>9058</td>\n",
       "      <td>B</td>\n",
       "      <td>263</td>\n",
       "      <td>258</td>\n",
       "      <td>26183.7</td>\n",
       "      <td>9056</td>\n",
       "    </tr>\n",
       "    <tr>\n",
       "      <th>14</th>\n",
       "      <td>2019-08-15</td>\n",
       "      <td>A</td>\n",
       "      <td>241</td>\n",
       "      <td>228</td>\n",
       "      <td>26622.5</td>\n",
       "      <td>9686</td>\n",
       "      <td>B</td>\n",
       "      <td>289</td>\n",
       "      <td>284</td>\n",
       "      <td>31033.2</td>\n",
       "      <td>9600</td>\n",
       "    </tr>\n",
       "    <tr>\n",
       "      <th>15</th>\n",
       "      <td>2019-08-16</td>\n",
       "      <td>A</td>\n",
       "      <td>259</td>\n",
       "      <td>246</td>\n",
       "      <td>28221.6</td>\n",
       "      <td>10047</td>\n",
       "      <td>B</td>\n",
       "      <td>307</td>\n",
       "      <td>302</td>\n",
       "      <td>32840.2</td>\n",
       "      <td>10013</td>\n",
       "    </tr>\n",
       "    <tr>\n",
       "      <th>16</th>\n",
       "      <td>2019-08-17</td>\n",
       "      <td>A</td>\n",
       "      <td>265</td>\n",
       "      <td>251</td>\n",
       "      <td>28770.1</td>\n",
       "      <td>10459</td>\n",
       "      <td>B</td>\n",
       "      <td>320</td>\n",
       "      <td>314</td>\n",
       "      <td>34116.2</td>\n",
       "      <td>10434</td>\n",
       "    </tr>\n",
       "    <tr>\n",
       "      <th>17</th>\n",
       "      <td>2019-08-18</td>\n",
       "      <td>A</td>\n",
       "      <td>278</td>\n",
       "      <td>264</td>\n",
       "      <td>29735.7</td>\n",
       "      <td>11127</td>\n",
       "      <td>B</td>\n",
       "      <td>327</td>\n",
       "      <td>321</td>\n",
       "      <td>34684.7</td>\n",
       "      <td>11171</td>\n",
       "    </tr>\n",
       "    <tr>\n",
       "      <th>18</th>\n",
       "      <td>2019-08-19</td>\n",
       "      <td>A</td>\n",
       "      <td>299</td>\n",
       "      <td>283</td>\n",
       "      <td>32389.3</td>\n",
       "      <td>11629</td>\n",
       "      <td>B</td>\n",
       "      <td>348</td>\n",
       "      <td>341</td>\n",
       "      <td>56749.6</td>\n",
       "      <td>11658</td>\n",
       "    </tr>\n",
       "    <tr>\n",
       "      <th>19</th>\n",
       "      <td>2019-08-20</td>\n",
       "      <td>A</td>\n",
       "      <td>309</td>\n",
       "      <td>293</td>\n",
       "      <td>33325.3</td>\n",
       "      <td>12204</td>\n",
       "      <td>B</td>\n",
       "      <td>368</td>\n",
       "      <td>360</td>\n",
       "      <td>59074.2</td>\n",
       "      <td>12218</td>\n",
       "    </tr>\n",
       "    <tr>\n",
       "      <th>20</th>\n",
       "      <td>2019-08-21</td>\n",
       "      <td>A</td>\n",
       "      <td>329</td>\n",
       "      <td>311</td>\n",
       "      <td>36004.2</td>\n",
       "      <td>12850</td>\n",
       "      <td>B</td>\n",
       "      <td>380</td>\n",
       "      <td>370</td>\n",
       "      <td>61274.4</td>\n",
       "      <td>12874</td>\n",
       "    </tr>\n",
       "    <tr>\n",
       "      <th>21</th>\n",
       "      <td>2019-08-22</td>\n",
       "      <td>A</td>\n",
       "      <td>339</td>\n",
       "      <td>321</td>\n",
       "      <td>37455.1</td>\n",
       "      <td>13459</td>\n",
       "      <td>B</td>\n",
       "      <td>401</td>\n",
       "      <td>388</td>\n",
       "      <td>63503.9</td>\n",
       "      <td>13524</td>\n",
       "    </tr>\n",
       "    <tr>\n",
       "      <th>22</th>\n",
       "      <td>2019-08-23</td>\n",
       "      <td>A</td>\n",
       "      <td>359</td>\n",
       "      <td>341</td>\n",
       "      <td>38409.2</td>\n",
       "      <td>13927</td>\n",
       "      <td>B</td>\n",
       "      <td>414</td>\n",
       "      <td>400</td>\n",
       "      <td>64732.8</td>\n",
       "      <td>14070</td>\n",
       "    </tr>\n",
       "    <tr>\n",
       "      <th>23</th>\n",
       "      <td>2019-08-24</td>\n",
       "      <td>A</td>\n",
       "      <td>372</td>\n",
       "      <td>354</td>\n",
       "      <td>40321.3</td>\n",
       "      <td>14322</td>\n",
       "      <td>B</td>\n",
       "      <td>428</td>\n",
       "      <td>412</td>\n",
       "      <td>66138.5</td>\n",
       "      <td>14448</td>\n",
       "    </tr>\n",
       "    <tr>\n",
       "      <th>24</th>\n",
       "      <td>2019-08-25</td>\n",
       "      <td>A</td>\n",
       "      <td>380</td>\n",
       "      <td>362</td>\n",
       "      <td>41139.5</td>\n",
       "      <td>14943</td>\n",
       "      <td>B</td>\n",
       "      <td>440</td>\n",
       "      <td>424</td>\n",
       "      <td>67393.8</td>\n",
       "      <td>15127</td>\n",
       "    </tr>\n",
       "    <tr>\n",
       "      <th>25</th>\n",
       "      <td>2019-08-26</td>\n",
       "      <td>A</td>\n",
       "      <td>396</td>\n",
       "      <td>378</td>\n",
       "      <td>43604.3</td>\n",
       "      <td>15665</td>\n",
       "      <td>B</td>\n",
       "      <td>462</td>\n",
       "      <td>446</td>\n",
       "      <td>70138.1</td>\n",
       "      <td>15803</td>\n",
       "    </tr>\n",
       "    <tr>\n",
       "      <th>26</th>\n",
       "      <td>2019-08-27</td>\n",
       "      <td>A</td>\n",
       "      <td>419</td>\n",
       "      <td>400</td>\n",
       "      <td>46539.0</td>\n",
       "      <td>16376</td>\n",
       "      <td>B</td>\n",
       "      <td>473</td>\n",
       "      <td>456</td>\n",
       "      <td>71885.0</td>\n",
       "      <td>16523</td>\n",
       "    </tr>\n",
       "    <tr>\n",
       "      <th>27</th>\n",
       "      <td>2019-08-28</td>\n",
       "      <td>A</td>\n",
       "      <td>434</td>\n",
       "      <td>413</td>\n",
       "      <td>48065.9</td>\n",
       "      <td>16970</td>\n",
       "      <td>B</td>\n",
       "      <td>495</td>\n",
       "      <td>476</td>\n",
       "      <td>72895.5</td>\n",
       "      <td>17177</td>\n",
       "    </tr>\n",
       "    <tr>\n",
       "      <th>28</th>\n",
       "      <td>2019-08-29</td>\n",
       "      <td>A</td>\n",
       "      <td>451</td>\n",
       "      <td>430</td>\n",
       "      <td>51134.8</td>\n",
       "      <td>17547</td>\n",
       "      <td>B</td>\n",
       "      <td>510</td>\n",
       "      <td>490</td>\n",
       "      <td>74576.7</td>\n",
       "      <td>17708</td>\n",
       "    </tr>\n",
       "    <tr>\n",
       "      <th>29</th>\n",
       "      <td>2019-08-30</td>\n",
       "      <td>A</td>\n",
       "      <td>460</td>\n",
       "      <td>437</td>\n",
       "      <td>52363.7</td>\n",
       "      <td>18037</td>\n",
       "      <td>B</td>\n",
       "      <td>531</td>\n",
       "      <td>511</td>\n",
       "      <td>77863.5</td>\n",
       "      <td>18198</td>\n",
       "    </tr>\n",
       "    <tr>\n",
       "      <th>30</th>\n",
       "      <td>2019-08-31</td>\n",
       "      <td>A</td>\n",
       "      <td>468</td>\n",
       "      <td>445</td>\n",
       "      <td>53212.0</td>\n",
       "      <td>18736</td>\n",
       "      <td>B</td>\n",
       "      <td>548</td>\n",
       "      <td>528</td>\n",
       "      <td>79651.2</td>\n",
       "      <td>18916</td>\n",
       "    </tr>\n",
       "  </tbody>\n",
       "</table>\n",
       "</div>"
      ],
      "text/plain": [
       "         fecha grupo_a  ordenes_a  compradores_a  margen_a  visitas_a grupo_b  \\\n",
       "0   2019-08-01       A         23             19    2266.6        719       B   \n",
       "1   2019-08-02       A         42             36    3734.9       1338       B   \n",
       "2   2019-08-03       A         66             60    5550.1       1845       B   \n",
       "3   2019-08-04       A         77             71    6225.6       2562       B   \n",
       "4   2019-08-05       A         99             92    7623.6       3318       B   \n",
       "5   2019-08-06       A        114            104    8292.0       3985       B   \n",
       "6   2019-08-07       A        130            120   10234.0       4629       B   \n",
       "7   2019-08-08       A        144            133   11638.8       5239       B   \n",
       "8   2019-08-09       A        155            143   13734.0       5856       B   \n",
       "9   2019-08-10       A        170            158   16121.5       6262       B   \n",
       "10  2019-08-11       A        181            169   17084.9       6980       B   \n",
       "11  2019-08-12       A        200            188   20533.7       7575       B   \n",
       "12  2019-08-13       A        214            201   24630.6       8323       B   \n",
       "13  2019-08-14       A        231            218   25347.2       9058       B   \n",
       "14  2019-08-15       A        241            228   26622.5       9686       B   \n",
       "15  2019-08-16       A        259            246   28221.6      10047       B   \n",
       "16  2019-08-17       A        265            251   28770.1      10459       B   \n",
       "17  2019-08-18       A        278            264   29735.7      11127       B   \n",
       "18  2019-08-19       A        299            283   32389.3      11629       B   \n",
       "19  2019-08-20       A        309            293   33325.3      12204       B   \n",
       "20  2019-08-21       A        329            311   36004.2      12850       B   \n",
       "21  2019-08-22       A        339            321   37455.1      13459       B   \n",
       "22  2019-08-23       A        359            341   38409.2      13927       B   \n",
       "23  2019-08-24       A        372            354   40321.3      14322       B   \n",
       "24  2019-08-25       A        380            362   41139.5      14943       B   \n",
       "25  2019-08-26       A        396            378   43604.3      15665       B   \n",
       "26  2019-08-27       A        419            400   46539.0      16376       B   \n",
       "27  2019-08-28       A        434            413   48065.9      16970       B   \n",
       "28  2019-08-29       A        451            430   51134.8      17547       B   \n",
       "29  2019-08-30       A        460            437   52363.7      18037       B   \n",
       "30  2019-08-31       A        468            445   53212.0      18736       B   \n",
       "\n",
       "    ordenes_b  compradores_b  margen_b  visitas_b  \n",
       "0          17             17     967.2        713  \n",
       "1          40             39    3535.3       1294  \n",
       "2          54             53    4606.9       1803  \n",
       "3          68             66    6138.5       2573  \n",
       "4          89             87    7587.8       3280  \n",
       "5         112            109   10957.1       3935  \n",
       "6         135            132   14392.7       4644  \n",
       "7         157            154   16772.6       5298  \n",
       "8         176            173   18428.8       5908  \n",
       "9         198            195   20103.6       6277  \n",
       "10        210            207   20959.0       6998  \n",
       "11        229            225   22616.8       7541  \n",
       "12        249            244   24491.3       8310  \n",
       "13        263            258   26183.7       9056  \n",
       "14        289            284   31033.2       9600  \n",
       "15        307            302   32840.2      10013  \n",
       "16        320            314   34116.2      10434  \n",
       "17        327            321   34684.7      11171  \n",
       "18        348            341   56749.6      11658  \n",
       "19        368            360   59074.2      12218  \n",
       "20        380            370   61274.4      12874  \n",
       "21        401            388   63503.9      13524  \n",
       "22        414            400   64732.8      14070  \n",
       "23        428            412   66138.5      14448  \n",
       "24        440            424   67393.8      15127  \n",
       "25        462            446   70138.1      15803  \n",
       "26        473            456   71885.0      16523  \n",
       "27        495            476   72895.5      17177  \n",
       "28        510            490   74576.7      17708  \n",
       "29        531            511   77863.5      18198  \n",
       "30        548            528   79651.2      18916  "
      ]
     },
     "execution_count": 31,
     "metadata": {},
     "output_type": "execute_result"
    }
   ],
   "source": [
    "datos_acumulados_merge"
   ]
  },
  {
   "cell_type": "code",
   "execution_count": 32,
   "metadata": {},
   "outputs": [
    {
     "data": {
      "image/png": "[encoded data removed]",
      "text/plain": [
       "<Figure size 1300x500 with 1 Axes>"
      ]
     },
     "metadata": {},
     "output_type": "display_data"
    }
   ],
   "source": [
    "#Graficar la comparación de ganancias promedio del grupo de testeo B con respecto al grupo A\n",
    "\n",
    "plt.figure(figsize=(13,5))\n",
    "\n",
    "plt.plot(\n",
    "    datos_acumulados_merge['fecha'], \n",
    "    ((datos_acumulados_merge['margen_b'] / datos_acumulados_merge['ordenes_b'])/(datos_acumulados_merge['margen_a'] / datos_acumulados_merge['ordenes_a'])) -1 \n",
    ")\n",
    "\n",
    "plt.xticks(rotation=45)\n",
    "plt.title('Ganancias promedio del grupo B vs Grupo A por compra (acumulada)')\n",
    "plt.xlabel('Fecha')\n",
    "plt.ylabel('Porcentaje')\n",
    "plt.axhline(y=0, color='black', linestyle='--')\n",
    "\n",
    "plt.show()"
   ]
  },
  {
   "cell_type": "markdown",
   "metadata": {},
   "source": [
    "El gráfico muestra que, aunque al inicio de las pruebas el grupo B generaba casi un 40% menos en ganancias que el grupo A, logró registrar ingresos superiores durante gran parte del período de prueba. Una excepción notable ocurrió entre los días 10 y 17 de agosto, cuando el grupo B presentó compras de menor valor en comparación con el grupo de control. Esto podría deberse a un período de ajuste por parte de los visitantes, quienes, tras adaptarse a los cambios, parecen haber respondido positivamente. A partir del 18 de agosto, se observa un pico de crecimiento en el valor promedio de las compras del grupo B, alcanzando casi un 50% más que las del grupo A y manteniendo consistentemente mejores resultados en ventas."
   ]
  },
  {
   "cell_type": "code",
   "execution_count": 33,
   "metadata": {},
   "outputs": [],
   "source": [
    "#Calcular conversión acumulada\n",
    "\n",
    "conver_acum_a = datos_acumulados_merge['ordenes_a'] / datos_acumulados_merge['visitas_a']\n",
    "\n",
    "conver_acum_b = datos_acumulados_merge['ordenes_b'] / datos_acumulados_merge['visitas_b']"
   ]
  },
  {
   "cell_type": "code",
   "execution_count": 34,
   "metadata": {},
   "outputs": [
    {
     "data": {
      "image/png": "[encoded data removed]",
      "text/plain": [
       "<Figure size 1300x500 with 1 Axes>"
      ]
     },
     "metadata": {},
     "output_type": "display_data"
    }
   ],
   "source": [
    "#Graficar conversión gráfica de cada grupo\n",
    "\n",
    "plt.figure(figsize=(13,5))\n",
    "\n",
    "plt.plot(datos_acumulados_a['fecha'], conver_acum_a , label='Prueba A')\n",
    "\n",
    "plt.plot(datos_acumulados_b['fecha'], conver_acum_b, label='Prueba B')\n",
    "\n",
    "plt.xticks(rotation=45)\n",
    "plt.title('Conversión promedio de cada grupo de testeo')\n",
    "plt.xlabel('Fecha')\n",
    "plt.ylabel('Compradores')\n",
    "plt.legend()\n",
    "\n",
    "plt.show()"
   ]
  },
  {
   "cell_type": "markdown",
   "metadata": {},
   "source": [
    "Al inicio, las tasas de conversión son mayores en el grupo A, posiblemente debido a la familiaridad de los visitantes con la plataforma. Sin embargo, el grupo B logra recuperarse, y a partir del 5 de agosto comienza a registrar porcentajes de conversión superiores, mientras que los del grupo A disminuyen. Ambas tasas presentan fluctuaciones leves hasta el 20 de agosto, momento en el que los datos comienzan a estabilizarse."
   ]
  },
  {
   "cell_type": "code",
   "execution_count": 35,
   "metadata": {},
   "outputs": [],
   "source": [
    "#Crear df con cantidad de pedidos por usuarios \n",
    "\n",
    "ordenes_por_usuario = (\n",
    "     orders_filtered.drop(['group', 'revenue', 'date'], axis=1)\n",
    "    .groupby('visitor_id', as_index=False)\n",
    "    .agg({'transaction_id': pd.Series.nunique})\n",
    ")\n",
    "\n",
    "ordenes_por_usuario.columns = ['visitante', 'ordenes']"
   ]
  },
  {
   "cell_type": "code",
   "execution_count": 36,
   "metadata": {},
   "outputs": [
    {
     "name": "stdout",
     "output_type": "stream",
     "text": [
      "      visitante  ordenes\n",
      "0       5114589        1\n",
      "1       6958315        1\n",
      "2      11685486        1\n",
      "3      39475350        1\n",
      "4      47206413        1\n",
      "..          ...      ...\n",
      "968  4259830713        1\n",
      "969  4278982564        1\n",
      "970  4279090005        1\n",
      "971  4281247801        1\n",
      "972  4283872382        1\n",
      "\n",
      "[973 rows x 2 columns]\n"
     ]
    }
   ],
   "source": [
    "print(ordenes_por_usuario)"
   ]
  },
  {
   "cell_type": "code",
   "execution_count": 37,
   "metadata": {},
   "outputs": [
    {
     "data": {
      "image/png": "[encoded data removed]",
      "text/plain": [
       "<Figure size 1300x500 with 1 Axes>"
      ]
     },
     "metadata": {},
     "output_type": "display_data"
    }
   ],
   "source": [
    "#Trazar gráfico de dispersión de las compras por usuario\n",
    "\n",
    "valores_x = pd.Series(range(0,len(ordenes_por_usuario)))\n",
    "\n",
    "plt.figure(figsize=(13,5))\n",
    "plt.scatter(valores_x, ordenes_por_usuario['ordenes'])\n",
    "plt.title('Cantidad de compras de cada usuario')\n",
    "plt.xlabel('N° de usuario')\n",
    "plt.ylabel('N° de compras')\n",
    "\n",
    "plt.show()"
   ]
  },
  {
   "cell_type": "code",
   "execution_count": 64,
   "metadata": {},
   "outputs": [
    {
     "data": {
      "image/png": "[encoded data removed]",
      "text/plain": [
       "<Figure size 1300x500 with 1 Axes>"
      ]
     },
     "metadata": {},
     "output_type": "display_data"
    }
   ],
   "source": [
    "#graficar histograma con los mismos valores \n",
    "\n",
    "plt.figure(figsize=(13,5))\n",
    "plt.hist(ordenes_por_usuario['ordenes'], bins=50)\n",
    "plt.title('Cantidad de compras de cada usuario')\n",
    "plt.xlabel('Cantidad de compras')\n",
    "plt.ylabel('Usuarios')\n",
    "\n",
    "plt.show()"
   ]
  },
  {
   "cell_type": "code",
   "execution_count": 39,
   "metadata": {},
   "outputs": [
    {
     "data": {
      "text/plain": [
       "array([1., 2.])"
      ]
     },
     "execution_count": 39,
     "metadata": {},
     "output_type": "execute_result"
    }
   ],
   "source": [
    "#Calcular los percentiles 95 y 99 del número de pedidos por usuario\n",
    "\n",
    "np.percentile(ordenes_por_usuario['ordenes'], [95, 99])"
   ]
  },
  {
   "cell_type": "markdown",
   "metadata": {},
   "source": [
    "Al revisar el gráfico de pedidos por usuario y los percentiles 95 y 99, podemos confirmar que la gran mayoría de los usuarios realizan un pedido, solo el 5% compra más de 1 vez y el 1% compra más de 2 veces. "
   ]
  },
  {
   "cell_type": "code",
   "execution_count": 40,
   "metadata": {},
   "outputs": [
    {
     "data": {
      "image/png": "[encoded data removed]",
      "text/plain": [
       "<Figure size 1300x500 with 1 Axes>"
      ]
     },
     "metadata": {},
     "output_type": "display_data"
    }
   ],
   "source": [
    "#Trazar gráfico de dispersión del tamaño de las compras\n",
    "valores_x= pd.Series(range(0, len(orders_filtered['revenue'])))\n",
    "\n",
    "plt.figure(figsize=(13,5))\n",
    "plt.scatter(valores_x, orders_filtered['revenue'])\n",
    "plt.title('Tamaño de las compras')\n",
    "plt.xlabel('Compra')\n",
    "plt.ylabel('Ganancia')\n",
    "\n",
    "plt.show()"
   ]
  },
  {
   "cell_type": "code",
   "execution_count": 41,
   "metadata": {},
   "outputs": [
    {
     "data": {
      "image/png": "[encoded data removed]",
      "text/plain": [
       "<Figure size 1300x500 with 1 Axes>"
      ]
     },
     "metadata": {},
     "output_type": "display_data"
    }
   ],
   "source": [
    "#Cambio visualización gráfico tamaño de las compras \n",
    "\n",
    "valores_x= pd.Series(range(0, len(orders_filtered['revenue'])))\n",
    "\n",
    "plt.figure(figsize=(13,5))\n",
    "plt.scatter(valores_x, orders_filtered['revenue'])\n",
    "plt.title('Tamaño de las compras')\n",
    "plt.xlabel('Compra')\n",
    "plt.ylabel('Dólares')\n",
    "plt.ylim((0,3500))\n",
    "\n",
    "plt.show()"
   ]
  },
  {
   "cell_type": "code",
   "execution_count": 42,
   "metadata": {},
   "outputs": [
    {
     "data": {
      "text/plain": [
       "array([414.275, 830.3  ])"
      ]
     },
     "execution_count": 42,
     "metadata": {},
     "output_type": "execute_result"
    }
   ],
   "source": [
    "#Calcular los percentiles 95 y 99 de los precios de los pedidos\n",
    "\n",
    "np.percentile(orders_filtered['revenue'], [95, 99])"
   ]
  },
  {
   "cell_type": "markdown",
   "metadata": {},
   "source": [
    "Como se puede apreciar en la gráfica anterior, la mayoría de las compras tienen un valor inferior a los 500 dólares. Al revisar los percentiles, confrimamos que no más del 5% realiza compra sobre los 414 dólares y solo un 1% tiene compras avaluadas en más de 830 dólares. "
   ]
  },
  {
   "cell_type": "code",
   "execution_count": 43,
   "metadata": {},
   "outputs": [],
   "source": [
    "#Calcular significancia estadística de la diferencia en la conversión entre los grupos utilizando los datos en bruto\n",
    "\n",
    "    #crear variables con número de órdenes por usuario\n",
    "    \n",
    "ordenes_usuario_a = orders_filtered[orders_filtered['group']=='A'].groupby('visitor_id', as_index=False).agg({'transaction_id' : pd.Series.nunique})\n",
    "ordenes_usuario_a.columns = ['id_usuario', 'ordenes']\n",
    "\n",
    "ordenes_usuario_b = orders_filtered[orders_filtered['group']=='B'].groupby('visitor_id', as_index=False).agg({'transaction_id' : pd.Series.nunique})\n",
    "ordenes_usuario_b.columns = ['id_usuario', 'ordenes']\n"
   ]
  },
  {
   "cell_type": "code",
   "execution_count": 44,
   "metadata": {},
   "outputs": [],
   "source": [
    "    #crear variables de muestras para cada grupo\n",
    "\n",
    "longitud_a = pd.Series(0, index=np.arange(visits[visits['group'] == 'A']['visits'].sum() - len(ordenes_usuario_a ['ordenes'])), name ='ordenes')\n",
    "muestra_a = pd.concat([ordenes_usuario_a ['ordenes'], longitud_a], axis=0)\n",
    "\n",
    "longitud_b = pd.Series(0, index=np.arange(visits[visits['group'] == 'B']['visits'].sum() - len(ordenes_usuario_b ['ordenes'])), name ='ordenes')\n",
    "muestra_b = pd.concat([ordenes_usuario_b ['ordenes'], longitud_b], axis=0)"
   ]
  },
  {
   "cell_type": "code",
   "execution_count": 45,
   "metadata": {},
   "outputs": [
    {
     "name": "stdout",
     "output_type": "stream",
     "text": [
      "0.011\n",
      "0.160\n"
     ]
    }
   ],
   "source": [
    "    #calcular \n",
    "\n",
    "print(\"{0:.3f}\".format(st.mannwhitneyu(muestra_a, muestra_b)[1]))\n",
    "\n",
    "print(\"{0:.3f}\".format(muestra_b.mean()/muestra_a.mean()-1))"
   ]
  },
  {
   "cell_type": "markdown",
   "metadata": {},
   "source": [
    "Al estudiar los datos en bruto, podemos dar cuenta que sí hay una diferencia estadística en la conversión promedio de ambos grupos porque el valor p es menor a 0.05. Además podemos dar cuenta que la conversión del grupo B es 16% mejor que las del grupo de control. Esto confirma lo visualizado en los gráficos. "
   ]
  },
  {
   "cell_type": "code",
   "execution_count": 46,
   "metadata": {},
   "outputs": [
    {
     "name": "stdout",
     "output_type": "stream",
     "text": [
      "0.862\n",
      "0.278\n"
     ]
    }
   ],
   "source": [
    "#Calcular la diferencia relativa en el tamaño promedio de pedido entre los grupos\n",
    "\n",
    "print('{0:.3f}'.format(st.mannwhitneyu(orders_filtered[orders_filtered['group']=='A']['revenue'], orders_filtered[orders_filtered['group']=='B']['revenue'])[1]))\n",
    "print('{0:.3f}'.format(orders_filtered[orders_filtered['group']=='B']['revenue'].mean()/orders_filtered[orders_filtered['group']=='A']['revenue'].mean()-1))"
   ]
  },
  {
   "cell_type": "markdown",
   "metadata": {},
   "source": [
    "En caso contrario, no se puede descartar que la distribución de ambos grupos sea diferente. Sin embargo, se puede confirmar que el grupo B tiene una ganancia superior al grupo A en casi un 27%"
   ]
  },
  {
   "cell_type": "code",
   "execution_count": 47,
   "metadata": {},
   "outputs": [
    {
     "name": "stdout",
     "output_type": "stream",
     "text": [
      "568     113298937\n",
      "1099    148427295\n",
      "928     204675465\n",
      "33      249864742\n",
      "684     358944393\n",
      "dtype: int64\n",
      "(86,)\n"
     ]
    }
   ],
   "source": [
    "#Calcular significancia estadística de la diferencia en la conversión entre los grupos utilizando los datos filtrados\n",
    "\n",
    "    #encontrar usuarios con compras anómalas\n",
    "muchas_ordenes= pd.concat([ordenes_usuario_a[ordenes_usuario_a['ordenes'] > 1]['id_usuario'], ordenes_usuario_b[ordenes_usuario_b['ordenes'] > 1]['id_usuario']], axis = 0)\n",
    "ordenes_caras = orders_filtered[orders_filtered['revenue'] > 415]['visitor_id']\n",
    "compras_anomalas = pd.concat([muchas_ordenes, ordenes_caras], axis = 0).drop_duplicates().sort_values()\n",
    "print(compras_anomalas.head())\n",
    "print(compras_anomalas.shape)"
   ]
  },
  {
   "cell_type": "code",
   "execution_count": 48,
   "metadata": {},
   "outputs": [],
   "source": [
    "    #filtrar muestras \n",
    "muestra_a_filtrada = pd.concat([ordenes_usuario_a[np.logical_not(ordenes_usuario_a['id_usuario'].isin(compras_anomalas))]['ordenes'],pd.Series(0, index=np.arange(visits[visits['group']=='A']['visits'].sum() - len(ordenes_usuario_a['ordenes'])),name='ordenes')],axis=0)\n",
    "\n",
    "muestra_b_filtrada = pd.concat([ordenes_usuario_b[np.logical_not(ordenes_usuario_b['id_usuario'].isin(compras_anomalas))]['ordenes'],pd.Series(0, index=np.arange(visits[visits['group']=='A']['visits'].sum() - len(ordenes_usuario_b['ordenes'])),name='ordenes')],axis=0)"
   ]
  },
  {
   "cell_type": "code",
   "execution_count": 49,
   "metadata": {},
   "outputs": [
    {
     "name": "stdout",
     "output_type": "stream",
     "text": [
      "0.011\n",
      "0.185\n"
     ]
    }
   ],
   "source": [
    "    #calcular destribuciones y diferencia significativa\n",
    "print(\"{0:.3f}\".format(st.mannwhitneyu(muestra_a_filtrada, muestra_b_filtrada)[1]))\n",
    "\n",
    "print(\"{0:.3f}\".format(muestra_b_filtrada.mean()/muestra_a_filtrada.mean()-1))   "
   ]
  },
  {
   "cell_type": "markdown",
   "metadata": {},
   "source": [
    "Al eliminar los datos anómalos y realizar nuevamente las pruebas estadísticas, confirmamos que las distribuciones de conversión en ambos grupos son diferentes, reafirmando que el grupo B tiene un porcentaje de conversión superior, ahora casi un 19% mayor que el del grupo A."
   ]
  },
  {
   "cell_type": "code",
   "execution_count": 50,
   "metadata": {},
   "outputs": [
    {
     "name": "stdout",
     "output_type": "stream",
     "text": [
      "0.771\n",
      "-0.033\n"
     ]
    }
   ],
   "source": [
    "#Calcular la diferencia relativa en el tamaño promedio de pedido entre los grupos con datos filtrados\n",
    "\n",
    "    #calcular diferencia en distribuciones\n",
    "print(\"{0:.3f}\".format(st.mannwhitneyu(\n",
    "    orders_filtered[np.logical_and(\n",
    "        orders_filtered['group']=='A',  \n",
    "        np.logical_not(orders_filtered['visitor_id'].isin(compras_anomalas)))]['revenue'],  \n",
    "    orders_filtered[np.logical_and(\n",
    "        orders_filtered['group']=='B',\n",
    "        np.logical_not(orders_filtered['visitor_id'].isin(compras_anomalas)))]['revenue']  \n",
    ")[1]))  \n",
    "\n",
    "    #mostrar la diferencia relativa en el ingreso medio entre los grupos B y A\n",
    "print(\"{0:.3f}\".format(\n",
    "    orders_filtered[np.logical_and(orders_filtered['group']=='B',  \n",
    "           np.logical_not(orders_filtered['visitor_id'].isin(compras_anomalas)))]['revenue'].mean() / \n",
    "    orders_filtered[np.logical_and(orders_filtered['group']=='A',  \n",
    "           np.logical_not(orders_filtered['visitor_id'].isin(compras_anomalas)))]['revenue'].mean() - 1))  "
   ]
  },
  {
   "cell_type": "markdown",
   "metadata": {},
   "source": [
    "Esta vez, sin los datos anómalos, nuevamente rechazamos la hipótesis de que las distribuciones del tamaño de las compras en ambos grupos sean diferentes. A diferencia de la prueba con los datos sin filtrar, en esta ocasión los resultados reflejan que las ganancias promedio por compra del grupo B son un 3% menores que las del grupo A."
   ]
  },
  {
   "cell_type": "markdown",
   "metadata": {},
   "source": [
    "#### Conclusiones\n",
    "Se recomienda concluir el testeo, ya que las gráficas muestran una estabilización de los datos en el tiempo. Estas observaciones destacan la superioridad del grupo B en ingresos, tasas de conversión y valor promedio de compra, lo cual ha sido corroborado mediante cálculos estadísticos. Aunque el margen de ganancias ha variado según se incluyeran o no datos filtrados, con un aumento del 27% para el grupo B en los datos brutos y una disminución del 3% al excluir anomalías, las demás métricas han mantenido una tendencia consistente. Dado que los datos anómalos también representan ingresos reales, se considera que el grupo B supera al grupo de control A."
   ]
  }
 ],
 "metadata": {
  "ExecuteTimeLog": [
   {
    "duration": 2558,
    "start_time": "2024-11-05T21:10:41.501Z"
   },
   {
    "duration": 17,
    "start_time": "2024-11-05T21:16:13.227Z"
   },
   {
    "duration": 4,
    "start_time": "2024-11-05T21:18:03.135Z"
   },
   {
    "duration": 2,
    "start_time": "2024-11-05T21:18:20.014Z"
   },
   {
    "duration": 3,
    "start_time": "2024-11-05T21:18:39.498Z"
   },
   {
    "duration": 5,
    "start_time": "2024-11-05T21:18:46.661Z"
   },
   {
    "duration": 21,
    "start_time": "2024-11-05T21:18:58.883Z"
   },
   {
    "duration": 12,
    "start_time": "2024-11-05T21:20:21.704Z"
   },
   {
    "duration": 3,
    "start_time": "2024-11-05T21:20:24.841Z"
   },
   {
    "duration": 23,
    "start_time": "2024-11-05T21:23:30.859Z"
   },
   {
    "duration": 20,
    "start_time": "2024-11-05T21:24:38.821Z"
   },
   {
    "duration": 3,
    "start_time": "2024-11-05T21:27:51.907Z"
   },
   {
    "duration": 19,
    "start_time": "2024-11-05T21:27:53.742Z"
   },
   {
    "duration": 20,
    "start_time": "2024-11-05T21:28:16.468Z"
   },
   {
    "duration": 14,
    "start_time": "2024-11-05T21:28:46.292Z"
   },
   {
    "duration": 134,
    "start_time": "2024-11-05T21:35:13.958Z"
   },
   {
    "duration": 12,
    "start_time": "2024-11-05T21:35:19.016Z"
   },
   {
    "duration": 12,
    "start_time": "2024-11-05T21:35:27.286Z"
   },
   {
    "duration": 410,
    "start_time": "2024-11-05T21:36:00.304Z"
   },
   {
    "duration": 3,
    "start_time": "2024-11-05T21:37:38.422Z"
   },
   {
    "duration": 3,
    "start_time": "2024-11-05T21:37:47.393Z"
   },
   {
    "duration": 3,
    "start_time": "2024-11-05T21:38:13.241Z"
   },
   {
    "duration": 8,
    "start_time": "2024-11-05T21:41:25.548Z"
   },
   {
    "duration": 2512,
    "start_time": "2024-11-05T23:27:50.103Z"
   },
   {
    "duration": 23,
    "start_time": "2024-11-05T23:27:52.617Z"
   },
   {
    "duration": 3,
    "start_time": "2024-11-05T23:27:52.642Z"
   },
   {
    "duration": 20,
    "start_time": "2024-11-05T23:27:52.647Z"
   },
   {
    "duration": 18,
    "start_time": "2024-11-05T23:27:52.668Z"
   },
   {
    "duration": 8,
    "start_time": "2024-11-05T23:27:52.687Z"
   },
   {
    "duration": 14,
    "start_time": "2024-11-05T23:27:52.711Z"
   },
   {
    "duration": 3,
    "start_time": "2024-11-05T23:29:13.913Z"
   },
   {
    "duration": 5,
    "start_time": "2024-11-05T23:29:36.669Z"
   },
   {
    "duration": 3,
    "start_time": "2024-11-05T23:30:19.642Z"
   },
   {
    "duration": 7,
    "start_time": "2024-11-05T23:30:27.217Z"
   },
   {
    "duration": 234,
    "start_time": "2024-11-05T23:31:30.353Z"
   },
   {
    "duration": 12,
    "start_time": "2024-11-05T23:31:38.365Z"
   },
   {
    "duration": 9,
    "start_time": "2024-11-05T23:35:45.523Z"
   },
   {
    "duration": 12,
    "start_time": "2024-11-05T23:41:50.350Z"
   },
   {
    "duration": 3,
    "start_time": "2024-11-05T23:51:54.247Z"
   },
   {
    "duration": 740,
    "start_time": "2024-11-05T23:52:01.223Z"
   },
   {
    "duration": 10,
    "start_time": "2024-11-05T23:52:11.839Z"
   },
   {
    "duration": 14,
    "start_time": "2024-11-05T23:52:44.268Z"
   },
   {
    "duration": 10,
    "start_time": "2024-11-05T23:53:01.574Z"
   },
   {
    "duration": 14,
    "start_time": "2024-11-05T23:53:17.343Z"
   },
   {
    "duration": 22,
    "start_time": "2024-11-05T23:55:40.470Z"
   },
   {
    "duration": 12,
    "start_time": "2024-11-05T23:56:23.307Z"
   },
   {
    "duration": 18,
    "start_time": "2024-11-05T23:56:28.759Z"
   },
   {
    "duration": 16,
    "start_time": "2024-11-06T00:05:41.631Z"
   },
   {
    "duration": 17,
    "start_time": "2024-11-06T00:05:47.214Z"
   },
   {
    "duration": 3,
    "start_time": "2024-11-06T00:05:52.348Z"
   },
   {
    "duration": 11,
    "start_time": "2024-11-06T00:08:08.735Z"
   },
   {
    "duration": 3,
    "start_time": "2024-11-06T00:08:23.486Z"
   },
   {
    "duration": 12,
    "start_time": "2024-11-06T00:08:29.477Z"
   },
   {
    "duration": 849,
    "start_time": "2024-11-06T00:24:59.645Z"
   },
   {
    "duration": 15,
    "start_time": "2024-11-06T00:25:00.497Z"
   },
   {
    "duration": 4,
    "start_time": "2024-11-06T00:25:00.513Z"
   },
   {
    "duration": 21,
    "start_time": "2024-11-06T00:25:00.518Z"
   },
   {
    "duration": 17,
    "start_time": "2024-11-06T00:25:00.542Z"
   },
   {
    "duration": 14,
    "start_time": "2024-11-06T00:25:00.560Z"
   },
   {
    "duration": 395,
    "start_time": "2024-11-06T00:25:00.575Z"
   },
   {
    "duration": 0,
    "start_time": "2024-11-06T00:25:00.972Z"
   },
   {
    "duration": 0,
    "start_time": "2024-11-06T00:25:00.973Z"
   },
   {
    "duration": 0,
    "start_time": "2024-11-06T00:25:00.974Z"
   },
   {
    "duration": 832,
    "start_time": "2024-11-06T00:25:22.876Z"
   },
   {
    "duration": 12,
    "start_time": "2024-11-06T00:25:23.710Z"
   },
   {
    "duration": 3,
    "start_time": "2024-11-06T00:25:23.724Z"
   },
   {
    "duration": 19,
    "start_time": "2024-11-06T00:25:23.730Z"
   },
   {
    "duration": 21,
    "start_time": "2024-11-06T00:25:23.751Z"
   },
   {
    "duration": 39,
    "start_time": "2024-11-06T00:25:23.773Z"
   },
   {
    "duration": 6,
    "start_time": "2024-11-06T00:25:23.813Z"
   },
   {
    "duration": 14,
    "start_time": "2024-11-06T00:25:23.821Z"
   },
   {
    "duration": 3,
    "start_time": "2024-11-06T00:25:23.837Z"
   },
   {
    "duration": 11,
    "start_time": "2024-11-06T00:25:23.842Z"
   },
   {
    "duration": 3,
    "start_time": "2024-11-06T00:26:48.951Z"
   },
   {
    "duration": 3,
    "start_time": "2024-11-06T00:26:52.067Z"
   },
   {
    "duration": 563,
    "start_time": "2024-11-06T00:27:00.128Z"
   },
   {
    "duration": 804,
    "start_time": "2024-11-06T00:27:09.991Z"
   },
   {
    "duration": 14,
    "start_time": "2024-11-06T00:27:10.797Z"
   },
   {
    "duration": 3,
    "start_time": "2024-11-06T00:27:10.813Z"
   },
   {
    "duration": 19,
    "start_time": "2024-11-06T00:27:10.818Z"
   },
   {
    "duration": 18,
    "start_time": "2024-11-06T00:27:10.839Z"
   },
   {
    "duration": 13,
    "start_time": "2024-11-06T00:27:10.858Z"
   },
   {
    "duration": 5,
    "start_time": "2024-11-06T00:27:10.872Z"
   },
   {
    "duration": 44,
    "start_time": "2024-11-06T00:27:10.879Z"
   },
   {
    "duration": 3,
    "start_time": "2024-11-06T00:27:10.926Z"
   },
   {
    "duration": 14,
    "start_time": "2024-11-06T00:27:10.932Z"
   },
   {
    "duration": 870,
    "start_time": "2024-11-06T00:27:59.247Z"
   },
   {
    "duration": 12,
    "start_time": "2024-11-06T00:28:00.120Z"
   },
   {
    "duration": 4,
    "start_time": "2024-11-06T00:28:00.133Z"
   },
   {
    "duration": 21,
    "start_time": "2024-11-06T00:28:00.139Z"
   },
   {
    "duration": 18,
    "start_time": "2024-11-06T00:28:00.161Z"
   },
   {
    "duration": 38,
    "start_time": "2024-11-06T00:28:00.181Z"
   },
   {
    "duration": 5,
    "start_time": "2024-11-06T00:28:00.221Z"
   },
   {
    "duration": 14,
    "start_time": "2024-11-06T00:28:00.228Z"
   },
   {
    "duration": 4,
    "start_time": "2024-11-06T00:28:00.243Z"
   },
   {
    "duration": 2,
    "start_time": "2024-11-06T00:28:00.250Z"
   },
   {
    "duration": 693,
    "start_time": "2024-11-06T00:28:45.866Z"
   },
   {
    "duration": 7,
    "start_time": "2024-11-06T00:29:23.264Z"
   },
   {
    "duration": 15,
    "start_time": "2024-11-06T00:29:27.345Z"
   },
   {
    "duration": 15,
    "start_time": "2024-11-06T00:29:37.601Z"
   },
   {
    "duration": 13,
    "start_time": "2024-11-06T00:30:29.069Z"
   },
   {
    "duration": 3215,
    "start_time": "2024-11-06T16:08:00.985Z"
   },
   {
    "duration": 24,
    "start_time": "2024-11-06T16:08:04.202Z"
   },
   {
    "duration": 4,
    "start_time": "2024-11-06T16:08:04.227Z"
   },
   {
    "duration": 32,
    "start_time": "2024-11-06T16:08:04.235Z"
   },
   {
    "duration": 18,
    "start_time": "2024-11-06T16:08:04.269Z"
   },
   {
    "duration": 13,
    "start_time": "2024-11-06T16:08:04.289Z"
   },
   {
    "duration": 24,
    "start_time": "2024-11-06T16:08:04.304Z"
   },
   {
    "duration": 17,
    "start_time": "2024-11-06T16:08:04.330Z"
   },
   {
    "duration": 3,
    "start_time": "2024-11-06T16:08:04.349Z"
   },
   {
    "duration": 2,
    "start_time": "2024-11-06T16:08:04.354Z"
   },
   {
    "duration": 14,
    "start_time": "2024-11-06T16:08:55.466Z"
   },
   {
    "duration": 17,
    "start_time": "2024-11-06T16:09:51.543Z"
   },
   {
    "duration": 15,
    "start_time": "2024-11-06T16:10:27.941Z"
   },
   {
    "duration": 1030,
    "start_time": "2024-11-06T16:12:56.796Z"
   },
   {
    "duration": 30,
    "start_time": "2024-11-06T16:13:08.444Z"
   },
   {
    "duration": 207,
    "start_time": "2024-11-06T16:15:04.114Z"
   },
   {
    "duration": 27,
    "start_time": "2024-11-06T16:15:13.036Z"
   },
   {
    "duration": 27,
    "start_time": "2024-11-06T16:15:20.658Z"
   },
   {
    "duration": 21,
    "start_time": "2024-11-06T16:22:23.983Z"
   },
   {
    "duration": 57,
    "start_time": "2024-11-06T16:30:43.032Z"
   },
   {
    "duration": 961,
    "start_time": "2024-11-06T16:30:51.122Z"
   },
   {
    "duration": 17,
    "start_time": "2024-11-06T16:30:52.085Z"
   },
   {
    "duration": 3,
    "start_time": "2024-11-06T16:30:52.104Z"
   },
   {
    "duration": 37,
    "start_time": "2024-11-06T16:30:52.110Z"
   },
   {
    "duration": 5,
    "start_time": "2024-11-06T16:30:52.153Z"
   },
   {
    "duration": 23,
    "start_time": "2024-11-06T16:30:52.163Z"
   },
   {
    "duration": 197,
    "start_time": "2024-11-06T16:30:52.188Z"
   },
   {
    "duration": 27,
    "start_time": "2024-11-06T16:30:52.387Z"
   },
   {
    "duration": 263,
    "start_time": "2024-11-06T16:30:52.425Z"
   },
   {
    "duration": 0,
    "start_time": "2024-11-06T16:30:52.690Z"
   },
   {
    "duration": 0,
    "start_time": "2024-11-06T16:30:52.691Z"
   },
   {
    "duration": 0,
    "start_time": "2024-11-06T16:30:52.692Z"
   },
   {
    "duration": 0,
    "start_time": "2024-11-06T16:30:52.693Z"
   },
   {
    "duration": 161,
    "start_time": "2024-11-06T18:32:23.235Z"
   },
   {
    "duration": 2537,
    "start_time": "2024-11-06T18:32:37.567Z"
   },
   {
    "duration": 14,
    "start_time": "2024-11-06T18:32:40.106Z"
   },
   {
    "duration": 2,
    "start_time": "2024-11-06T18:32:40.122Z"
   },
   {
    "duration": 21,
    "start_time": "2024-11-06T18:32:40.126Z"
   },
   {
    "duration": 3,
    "start_time": "2024-11-06T18:32:40.150Z"
   },
   {
    "duration": 18,
    "start_time": "2024-11-06T18:32:40.170Z"
   },
   {
    "duration": 144,
    "start_time": "2024-11-06T18:32:40.190Z"
   },
   {
    "duration": 22,
    "start_time": "2024-11-06T18:32:40.337Z"
   },
   {
    "duration": 146,
    "start_time": "2024-11-06T18:32:40.370Z"
   },
   {
    "duration": 0,
    "start_time": "2024-11-06T18:32:40.518Z"
   },
   {
    "duration": 0,
    "start_time": "2024-11-06T18:32:40.519Z"
   },
   {
    "duration": 0,
    "start_time": "2024-11-06T18:32:40.521Z"
   },
   {
    "duration": 0,
    "start_time": "2024-11-06T18:32:40.522Z"
   },
   {
    "duration": 21,
    "start_time": "2024-11-06T18:33:09.515Z"
   },
   {
    "duration": 6,
    "start_time": "2024-11-06T18:33:13.964Z"
   },
   {
    "duration": 843,
    "start_time": "2024-11-06T18:34:04.096Z"
   },
   {
    "duration": 11,
    "start_time": "2024-11-06T18:34:04.941Z"
   },
   {
    "duration": 3,
    "start_time": "2024-11-06T18:34:04.953Z"
   },
   {
    "duration": 18,
    "start_time": "2024-11-06T18:34:04.971Z"
   },
   {
    "duration": 3,
    "start_time": "2024-11-06T18:34:04.991Z"
   },
   {
    "duration": 18,
    "start_time": "2024-11-06T18:34:04.996Z"
   },
   {
    "duration": 154,
    "start_time": "2024-11-06T18:34:05.016Z"
   },
   {
    "duration": 3,
    "start_time": "2024-11-06T18:34:05.171Z"
   },
   {
    "duration": 6,
    "start_time": "2024-11-06T18:34:05.175Z"
   },
   {
    "duration": 13,
    "start_time": "2024-11-06T18:34:05.184Z"
   },
   {
    "duration": 3,
    "start_time": "2024-11-06T18:34:05.198Z"
   },
   {
    "duration": 2,
    "start_time": "2024-11-06T18:34:05.203Z"
   },
   {
    "duration": 2,
    "start_time": "2024-11-06T18:34:05.207Z"
   },
   {
    "duration": 292,
    "start_time": "2024-11-06T18:37:22.124Z"
   },
   {
    "duration": 3,
    "start_time": "2024-11-06T18:39:17.636Z"
   },
   {
    "duration": 33,
    "start_time": "2024-11-06T18:39:21.686Z"
   },
   {
    "duration": 31,
    "start_time": "2024-11-06T18:39:32.335Z"
   },
   {
    "duration": 34,
    "start_time": "2024-11-06T18:41:25.926Z"
   },
   {
    "duration": 33,
    "start_time": "2024-11-06T18:41:32.445Z"
   },
   {
    "duration": 33,
    "start_time": "2024-11-06T18:41:58.193Z"
   },
   {
    "duration": 9,
    "start_time": "2024-11-06T18:42:06.076Z"
   },
   {
    "duration": 13,
    "start_time": "2024-11-06T18:42:18.889Z"
   },
   {
    "duration": 4,
    "start_time": "2024-11-06T18:42:31.589Z"
   },
   {
    "duration": 779,
    "start_time": "2024-11-06T18:43:04.973Z"
   },
   {
    "duration": 11,
    "start_time": "2024-11-06T18:43:05.755Z"
   },
   {
    "duration": 3,
    "start_time": "2024-11-06T18:43:05.767Z"
   },
   {
    "duration": 19,
    "start_time": "2024-11-06T18:43:05.773Z"
   },
   {
    "duration": 3,
    "start_time": "2024-11-06T18:43:05.793Z"
   },
   {
    "duration": 17,
    "start_time": "2024-11-06T18:43:05.798Z"
   },
   {
    "duration": 157,
    "start_time": "2024-11-06T18:43:05.817Z"
   },
   {
    "duration": 2,
    "start_time": "2024-11-06T18:43:05.977Z"
   },
   {
    "duration": 9,
    "start_time": "2024-11-06T18:43:05.981Z"
   },
   {
    "duration": 16,
    "start_time": "2024-11-06T18:43:05.992Z"
   },
   {
    "duration": 6,
    "start_time": "2024-11-06T18:43:06.010Z"
   },
   {
    "duration": 5,
    "start_time": "2024-11-06T18:43:06.018Z"
   },
   {
    "duration": 11,
    "start_time": "2024-11-06T18:43:06.025Z"
   },
   {
    "duration": 281,
    "start_time": "2024-11-06T18:45:12.262Z"
   },
   {
    "duration": 35,
    "start_time": "2024-11-06T18:46:02.349Z"
   },
   {
    "duration": 9,
    "start_time": "2024-11-06T18:46:24.632Z"
   },
   {
    "duration": 8,
    "start_time": "2024-11-06T18:46:44.502Z"
   },
   {
    "duration": 5,
    "start_time": "2024-11-06T18:47:22.521Z"
   },
   {
    "duration": 33,
    "start_time": "2024-11-06T18:47:34.084Z"
   },
   {
    "duration": 9,
    "start_time": "2024-11-06T18:47:48.003Z"
   },
   {
    "duration": 19,
    "start_time": "2024-11-06T18:48:15.340Z"
   },
   {
    "duration": 3,
    "start_time": "2024-11-06T18:48:59.156Z"
   },
   {
    "duration": 12,
    "start_time": "2024-11-06T18:48:59.162Z"
   },
   {
    "duration": 3,
    "start_time": "2024-11-06T18:48:59.175Z"
   },
   {
    "duration": 18,
    "start_time": "2024-11-06T18:48:59.180Z"
   },
   {
    "duration": 3,
    "start_time": "2024-11-06T18:48:59.200Z"
   },
   {
    "duration": 19,
    "start_time": "2024-11-06T18:48:59.205Z"
   },
   {
    "duration": 45,
    "start_time": "2024-11-06T18:48:59.225Z"
   },
   {
    "duration": 2,
    "start_time": "2024-11-06T18:48:59.272Z"
   },
   {
    "duration": 5,
    "start_time": "2024-11-06T18:48:59.276Z"
   },
   {
    "duration": 14,
    "start_time": "2024-11-06T18:48:59.284Z"
   },
   {
    "duration": 2,
    "start_time": "2024-11-06T18:48:59.300Z"
   },
   {
    "duration": 4,
    "start_time": "2024-11-06T18:48:59.304Z"
   },
   {
    "duration": 33,
    "start_time": "2024-11-06T18:48:59.310Z"
   },
   {
    "duration": 27,
    "start_time": "2024-11-06T18:48:59.345Z"
   },
   {
    "duration": 4,
    "start_time": "2024-11-06T18:48:59.374Z"
   },
   {
    "duration": 21,
    "start_time": "2024-11-06T18:48:59.380Z"
   },
   {
    "duration": 9,
    "start_time": "2024-11-06T18:54:57.507Z"
   },
   {
    "duration": 6,
    "start_time": "2024-11-06T18:55:21.771Z"
   },
   {
    "duration": 6,
    "start_time": "2024-11-06T19:00:01.062Z"
   },
   {
    "duration": 7,
    "start_time": "2024-11-06T19:01:34.145Z"
   },
   {
    "duration": 2534,
    "start_time": "2024-11-07T02:11:14.420Z"
   },
   {
    "duration": 24,
    "start_time": "2024-11-07T02:11:16.956Z"
   },
   {
    "duration": 4,
    "start_time": "2024-11-07T02:11:16.982Z"
   },
   {
    "duration": 20,
    "start_time": "2024-11-07T02:11:16.989Z"
   },
   {
    "duration": 6,
    "start_time": "2024-11-07T02:11:17.010Z"
   },
   {
    "duration": 21,
    "start_time": "2024-11-07T02:11:17.019Z"
   },
   {
    "duration": 139,
    "start_time": "2024-11-07T02:11:17.042Z"
   },
   {
    "duration": 3,
    "start_time": "2024-11-07T02:11:17.183Z"
   },
   {
    "duration": 6,
    "start_time": "2024-11-07T02:11:17.187Z"
   },
   {
    "duration": 34,
    "start_time": "2024-11-07T02:11:17.195Z"
   },
   {
    "duration": 3,
    "start_time": "2024-11-07T02:11:17.230Z"
   },
   {
    "duration": 3,
    "start_time": "2024-11-07T02:11:17.235Z"
   },
   {
    "duration": 10,
    "start_time": "2024-11-07T02:11:17.240Z"
   },
   {
    "duration": 9,
    "start_time": "2024-11-07T02:11:17.251Z"
   },
   {
    "duration": 4,
    "start_time": "2024-11-07T02:11:17.262Z"
   },
   {
    "duration": 20,
    "start_time": "2024-11-07T02:11:17.268Z"
   },
   {
    "duration": 39,
    "start_time": "2024-11-07T02:11:17.290Z"
   },
   {
    "duration": 6,
    "start_time": "2024-11-07T02:11:17.331Z"
   },
   {
    "duration": 6,
    "start_time": "2024-11-07T02:11:17.339Z"
   },
   {
    "duration": 301,
    "start_time": "2024-11-07T02:14:01.564Z"
   },
   {
    "duration": 3,
    "start_time": "2024-11-07T02:15:57.563Z"
   },
   {
    "duration": 13,
    "start_time": "2024-11-07T02:15:57.577Z"
   },
   {
    "duration": 3,
    "start_time": "2024-11-07T02:15:57.592Z"
   },
   {
    "duration": 19,
    "start_time": "2024-11-07T02:15:57.596Z"
   },
   {
    "duration": 3,
    "start_time": "2024-11-07T02:15:57.617Z"
   },
   {
    "duration": 22,
    "start_time": "2024-11-07T02:15:57.623Z"
   },
   {
    "duration": 23,
    "start_time": "2024-11-07T02:15:57.648Z"
   },
   {
    "duration": 2,
    "start_time": "2024-11-07T02:15:57.674Z"
   },
   {
    "duration": 5,
    "start_time": "2024-11-07T02:15:57.678Z"
   },
   {
    "duration": 17,
    "start_time": "2024-11-07T02:15:57.684Z"
   },
   {
    "duration": 3,
    "start_time": "2024-11-07T02:15:57.724Z"
   },
   {
    "duration": 13,
    "start_time": "2024-11-07T02:15:57.730Z"
   },
   {
    "duration": 12,
    "start_time": "2024-11-07T02:15:57.745Z"
   },
   {
    "duration": 4,
    "start_time": "2024-11-07T02:15:57.758Z"
   },
   {
    "duration": 19,
    "start_time": "2024-11-07T02:15:57.766Z"
   },
   {
    "duration": 7,
    "start_time": "2024-11-07T02:15:57.787Z"
   },
   {
    "duration": 11,
    "start_time": "2024-11-07T02:15:57.825Z"
   },
   {
    "duration": 8,
    "start_time": "2024-11-07T02:15:57.838Z"
   },
   {
    "duration": 11,
    "start_time": "2024-11-07T02:16:28.299Z"
   },
   {
    "duration": 3,
    "start_time": "2024-11-07T02:16:41.365Z"
   },
   {
    "duration": 14,
    "start_time": "2024-11-07T02:17:03.493Z"
   },
   {
    "duration": 8,
    "start_time": "2024-11-07T02:19:30.042Z"
   },
   {
    "duration": 9,
    "start_time": "2024-11-07T02:20:14.422Z"
   },
   {
    "duration": 135,
    "start_time": "2024-11-07T02:34:46.669Z"
   },
   {
    "duration": 9,
    "start_time": "2024-11-07T02:34:55.819Z"
   },
   {
    "duration": 6,
    "start_time": "2024-11-07T02:36:24.332Z"
   },
   {
    "duration": 103,
    "start_time": "2024-11-07T02:36:54.539Z"
   },
   {
    "duration": 99,
    "start_time": "2024-11-07T02:37:20.662Z"
   },
   {
    "duration": 10,
    "start_time": "2024-11-07T02:37:23.593Z"
   },
   {
    "duration": 282,
    "start_time": "2024-11-07T02:40:54.371Z"
   },
   {
    "duration": 17,
    "start_time": "2024-11-07T02:41:28.245Z"
   },
   {
    "duration": 17,
    "start_time": "2024-11-07T02:41:57.918Z"
   },
   {
    "duration": 14,
    "start_time": "2024-11-07T02:42:11.563Z"
   },
   {
    "duration": 15,
    "start_time": "2024-11-07T02:42:32.703Z"
   },
   {
    "duration": 14,
    "start_time": "2024-11-07T02:42:51.442Z"
   },
   {
    "duration": 146,
    "start_time": "2024-11-07T02:42:56.792Z"
   },
   {
    "duration": 20,
    "start_time": "2024-11-07T02:44:07.502Z"
   },
   {
    "duration": 35,
    "start_time": "2024-11-07T02:45:06.514Z"
   },
   {
    "duration": 3,
    "start_time": "2024-11-07T02:45:42.526Z"
   },
   {
    "duration": 11,
    "start_time": "2024-11-07T02:45:42.532Z"
   },
   {
    "duration": 3,
    "start_time": "2024-11-07T02:45:42.545Z"
   },
   {
    "duration": 18,
    "start_time": "2024-11-07T02:45:42.550Z"
   },
   {
    "duration": 3,
    "start_time": "2024-11-07T02:45:42.571Z"
   },
   {
    "duration": 16,
    "start_time": "2024-11-07T02:45:42.576Z"
   },
   {
    "duration": 19,
    "start_time": "2024-11-07T02:45:42.624Z"
   },
   {
    "duration": 2,
    "start_time": "2024-11-07T02:45:42.645Z"
   },
   {
    "duration": 4,
    "start_time": "2024-11-07T02:45:42.649Z"
   },
   {
    "duration": 14,
    "start_time": "2024-11-07T02:45:42.655Z"
   },
   {
    "duration": 3,
    "start_time": "2024-11-07T02:45:42.670Z"
   },
   {
    "duration": 3,
    "start_time": "2024-11-07T02:45:42.675Z"
   },
   {
    "duration": 45,
    "start_time": "2024-11-07T02:45:42.680Z"
   },
   {
    "duration": 5,
    "start_time": "2024-11-07T02:45:42.728Z"
   },
   {
    "duration": 14,
    "start_time": "2024-11-07T02:45:42.735Z"
   },
   {
    "duration": 6,
    "start_time": "2024-11-07T02:45:42.751Z"
   },
   {
    "duration": 6,
    "start_time": "2024-11-07T02:45:42.759Z"
   },
   {
    "duration": 6,
    "start_time": "2024-11-07T02:45:42.766Z"
   },
   {
    "duration": 50,
    "start_time": "2024-11-07T02:45:42.774Z"
   },
   {
    "duration": 138,
    "start_time": "2024-11-07T02:45:42.825Z"
   },
   {
    "duration": 9,
    "start_time": "2024-11-07T02:45:42.964Z"
   },
   {
    "duration": 6,
    "start_time": "2024-11-07T02:45:42.975Z"
   },
   {
    "duration": 115,
    "start_time": "2024-11-07T02:45:42.983Z"
   },
   {
    "duration": 25,
    "start_time": "2024-11-07T02:45:43.100Z"
   },
   {
    "duration": 13,
    "start_time": "2024-11-07T02:45:43.126Z"
   },
   {
    "duration": 92,
    "start_time": "2024-11-07T02:46:37.802Z"
   },
   {
    "duration": 9,
    "start_time": "2024-11-07T02:46:42.080Z"
   },
   {
    "duration": 15,
    "start_time": "2024-11-07T02:46:43.295Z"
   },
   {
    "duration": 5,
    "start_time": "2024-11-07T02:48:31.603Z"
   },
   {
    "duration": 12,
    "start_time": "2024-11-07T02:48:38.471Z"
   },
   {
    "duration": 6,
    "start_time": "2024-11-07T02:49:24.642Z"
   },
   {
    "duration": 6,
    "start_time": "2024-11-07T02:49:39.463Z"
   },
   {
    "duration": 192,
    "start_time": "2024-11-07T02:52:00.562Z"
   },
   {
    "duration": 1051,
    "start_time": "2024-11-07T02:52:29.882Z"
   },
   {
    "duration": 193,
    "start_time": "2024-11-07T02:53:04.789Z"
   },
   {
    "duration": 198,
    "start_time": "2024-11-07T02:53:10.993Z"
   },
   {
    "duration": 180,
    "start_time": "2024-11-07T02:54:36.793Z"
   },
   {
    "duration": 199,
    "start_time": "2024-11-07T02:54:52.766Z"
   },
   {
    "duration": 211,
    "start_time": "2024-11-07T02:55:01.077Z"
   },
   {
    "duration": 6,
    "start_time": "2024-11-07T02:57:15.137Z"
   },
   {
    "duration": 14,
    "start_time": "2024-11-07T02:57:21.782Z"
   },
   {
    "duration": 6,
    "start_time": "2024-11-07T02:57:37.272Z"
   },
   {
    "duration": 16,
    "start_time": "2024-11-07T02:57:39.871Z"
   },
   {
    "duration": 165,
    "start_time": "2024-11-07T03:01:41.973Z"
   },
   {
    "duration": 413,
    "start_time": "2024-11-07T03:02:31.532Z"
   },
   {
    "duration": 268,
    "start_time": "2024-11-07T03:03:10.243Z"
   },
   {
    "duration": 6,
    "start_time": "2024-11-07T03:07:20.492Z"
   },
   {
    "duration": 14,
    "start_time": "2024-11-07T03:07:22.892Z"
   },
   {
    "duration": 251,
    "start_time": "2024-11-07T03:07:42.386Z"
   },
   {
    "duration": 2649,
    "start_time": "2024-11-08T01:08:16.033Z"
   },
   {
    "duration": 18,
    "start_time": "2024-11-08T01:08:18.684Z"
   },
   {
    "duration": 3,
    "start_time": "2024-11-08T01:08:18.704Z"
   },
   {
    "duration": 23,
    "start_time": "2024-11-08T01:08:18.710Z"
   },
   {
    "duration": 3,
    "start_time": "2024-11-08T01:08:18.735Z"
   },
   {
    "duration": 21,
    "start_time": "2024-11-08T01:08:18.740Z"
   },
   {
    "duration": 168,
    "start_time": "2024-11-08T01:08:18.763Z"
   },
   {
    "duration": 2,
    "start_time": "2024-11-08T01:08:18.933Z"
   },
   {
    "duration": 6,
    "start_time": "2024-11-08T01:08:18.936Z"
   },
   {
    "duration": 15,
    "start_time": "2024-11-08T01:08:18.946Z"
   },
   {
    "duration": 3,
    "start_time": "2024-11-08T01:08:18.963Z"
   },
   {
    "duration": 4,
    "start_time": "2024-11-08T01:08:18.967Z"
   },
   {
    "duration": 12,
    "start_time": "2024-11-08T01:08:18.972Z"
   },
   {
    "duration": 5,
    "start_time": "2024-11-08T01:08:18.986Z"
   },
   {
    "duration": 50,
    "start_time": "2024-11-08T01:08:18.992Z"
   },
   {
    "duration": 8,
    "start_time": "2024-11-08T01:08:19.044Z"
   },
   {
    "duration": 6,
    "start_time": "2024-11-08T01:08:19.054Z"
   },
   {
    "duration": 6,
    "start_time": "2024-11-08T01:08:19.062Z"
   },
   {
    "duration": 8,
    "start_time": "2024-11-08T01:08:19.070Z"
   },
   {
    "duration": 171,
    "start_time": "2024-11-08T01:08:19.080Z"
   },
   {
    "duration": 10,
    "start_time": "2024-11-08T01:08:19.253Z"
   },
   {
    "duration": 6,
    "start_time": "2024-11-08T01:08:19.264Z"
   },
   {
    "duration": 105,
    "start_time": "2024-11-08T01:08:19.272Z"
   },
   {
    "duration": 9,
    "start_time": "2024-11-08T01:08:19.379Z"
   },
   {
    "duration": 5,
    "start_time": "2024-11-08T01:08:19.389Z"
   },
   {
    "duration": 10,
    "start_time": "2024-11-08T01:08:19.396Z"
   },
   {
    "duration": 27,
    "start_time": "2024-11-08T01:08:19.408Z"
   },
   {
    "duration": 216,
    "start_time": "2024-11-08T01:08:19.441Z"
   },
   {
    "duration": 239,
    "start_time": "2024-11-08T01:08:19.658Z"
   },
   {
    "duration": 7,
    "start_time": "2024-11-08T01:08:19.899Z"
   },
   {
    "duration": 30,
    "start_time": "2024-11-08T01:08:19.908Z"
   },
   {
    "duration": 308,
    "start_time": "2024-11-08T01:08:19.940Z"
   },
   {
    "duration": 203,
    "start_time": "2024-11-08T01:21:02.913Z"
   },
   {
    "duration": 206,
    "start_time": "2024-11-08T01:21:07.754Z"
   },
   {
    "duration": 272,
    "start_time": "2024-11-08T01:21:17.775Z"
   },
   {
    "duration": 209,
    "start_time": "2024-11-08T01:21:49.529Z"
   },
   {
    "duration": 2,
    "start_time": "2024-11-08T01:23:31.339Z"
   },
   {
    "duration": 14,
    "start_time": "2024-11-08T01:23:31.348Z"
   },
   {
    "duration": 5,
    "start_time": "2024-11-08T01:23:31.364Z"
   },
   {
    "duration": 21,
    "start_time": "2024-11-08T01:23:31.385Z"
   },
   {
    "duration": 3,
    "start_time": "2024-11-08T01:23:31.408Z"
   },
   {
    "duration": 21,
    "start_time": "2024-11-08T01:23:31.412Z"
   },
   {
    "duration": 19,
    "start_time": "2024-11-08T01:23:31.434Z"
   },
   {
    "duration": 2,
    "start_time": "2024-11-08T01:23:31.456Z"
   },
   {
    "duration": 8,
    "start_time": "2024-11-08T01:23:31.460Z"
   },
   {
    "duration": 18,
    "start_time": "2024-11-08T01:23:31.470Z"
   },
   {
    "duration": 4,
    "start_time": "2024-11-08T01:23:31.489Z"
   },
   {
    "duration": 8,
    "start_time": "2024-11-08T01:23:31.494Z"
   },
   {
    "duration": 32,
    "start_time": "2024-11-08T01:23:31.504Z"
   },
   {
    "duration": 6,
    "start_time": "2024-11-08T01:23:31.538Z"
   },
   {
    "duration": 13,
    "start_time": "2024-11-08T01:23:31.545Z"
   },
   {
    "duration": 8,
    "start_time": "2024-11-08T01:23:31.560Z"
   },
   {
    "duration": 9,
    "start_time": "2024-11-08T01:23:31.571Z"
   },
   {
    "duration": 11,
    "start_time": "2024-11-08T01:23:31.581Z"
   },
   {
    "duration": 42,
    "start_time": "2024-11-08T01:23:31.593Z"
   },
   {
    "duration": 138,
    "start_time": "2024-11-08T01:23:31.636Z"
   },
   {
    "duration": 10,
    "start_time": "2024-11-08T01:23:31.776Z"
   },
   {
    "duration": 86,
    "start_time": "2024-11-08T01:23:31.788Z"
   },
   {
    "duration": 8,
    "start_time": "2024-11-08T01:23:31.876Z"
   },
   {
    "duration": 11,
    "start_time": "2024-11-08T01:23:31.885Z"
   },
   {
    "duration": 16,
    "start_time": "2024-11-08T01:23:31.898Z"
   },
   {
    "duration": 17,
    "start_time": "2024-11-08T01:23:31.916Z"
   },
   {
    "duration": 222,
    "start_time": "2024-11-08T01:23:31.935Z"
   },
   {
    "duration": 215,
    "start_time": "2024-11-08T01:23:32.159Z"
   },
   {
    "duration": 8,
    "start_time": "2024-11-08T01:23:32.376Z"
   },
   {
    "duration": 14,
    "start_time": "2024-11-08T01:23:32.386Z"
   },
   {
    "duration": 305,
    "start_time": "2024-11-08T01:23:32.403Z"
   },
   {
    "duration": 282,
    "start_time": "2024-11-08T01:24:08.808Z"
   },
   {
    "duration": 282,
    "start_time": "2024-11-08T01:24:28.153Z"
   },
   {
    "duration": 315,
    "start_time": "2024-11-08T01:25:49.495Z"
   },
   {
    "duration": 329,
    "start_time": "2024-11-08T01:25:55.717Z"
   },
   {
    "duration": 325,
    "start_time": "2024-11-08T01:26:03.111Z"
   },
   {
    "duration": 336,
    "start_time": "2024-11-08T01:26:42.216Z"
   },
   {
    "duration": 243,
    "start_time": "2024-11-08T01:27:48.494Z"
   },
   {
    "duration": 239,
    "start_time": "2024-11-08T01:27:54.606Z"
   },
   {
    "duration": 289,
    "start_time": "2024-11-08T01:33:52.285Z"
   },
   {
    "duration": 239,
    "start_time": "2024-11-08T01:35:04.381Z"
   },
   {
    "duration": 538,
    "start_time": "2024-11-08T01:37:52.962Z"
   },
   {
    "duration": 3,
    "start_time": "2024-11-08T01:38:03.910Z"
   },
   {
    "duration": 2,
    "start_time": "2024-11-08T01:38:29.660Z"
   },
   {
    "duration": 235,
    "start_time": "2024-11-08T01:42:02.943Z"
   },
   {
    "duration": 258,
    "start_time": "2024-11-08T01:50:47.862Z"
   },
   {
    "duration": 313,
    "start_time": "2024-11-08T01:51:35.672Z"
   },
   {
    "duration": 10,
    "start_time": "2024-11-08T01:52:32.198Z"
   },
   {
    "duration": 13,
    "start_time": "2024-11-08T01:55:43.267Z"
   },
   {
    "duration": 11,
    "start_time": "2024-11-08T01:55:54.172Z"
   },
   {
    "duration": 578,
    "start_time": "2024-11-08T01:57:09.847Z"
   },
   {
    "duration": 236,
    "start_time": "2024-11-08T01:57:33.066Z"
   },
   {
    "duration": 13,
    "start_time": "2024-11-08T01:58:25.844Z"
   },
   {
    "duration": 260,
    "start_time": "2024-11-08T01:59:10.129Z"
   },
   {
    "duration": 11,
    "start_time": "2024-11-08T02:07:37.669Z"
   },
   {
    "duration": 121,
    "start_time": "2024-11-08T02:08:30.731Z"
   },
   {
    "duration": 6,
    "start_time": "2024-11-08T02:08:50.761Z"
   },
   {
    "duration": 15,
    "start_time": "2024-11-08T02:09:58.166Z"
   },
   {
    "duration": 103,
    "start_time": "2024-11-08T02:10:06.652Z"
   },
   {
    "duration": 115,
    "start_time": "2024-11-08T02:12:06.739Z"
   },
   {
    "duration": 137,
    "start_time": "2024-11-08T02:12:52.171Z"
   },
   {
    "duration": 4,
    "start_time": "2024-11-08T02:14:08.273Z"
   },
   {
    "duration": 11,
    "start_time": "2024-11-08T02:17:33.753Z"
   },
   {
    "duration": 136,
    "start_time": "2024-11-08T02:18:44.528Z"
   },
   {
    "duration": 144,
    "start_time": "2024-11-08T02:20:42.689Z"
   },
   {
    "duration": 156,
    "start_time": "2024-11-08T02:20:55.960Z"
   },
   {
    "duration": 127,
    "start_time": "2024-11-08T02:21:09.581Z"
   },
   {
    "duration": 126,
    "start_time": "2024-11-08T02:21:20.922Z"
   },
   {
    "duration": 40,
    "start_time": "2024-11-08T02:22:39.320Z"
   },
   {
    "duration": 4,
    "start_time": "2024-11-08T02:22:45.269Z"
   },
   {
    "duration": 5,
    "start_time": "2024-11-08T02:23:54.250Z"
   },
   {
    "duration": 4,
    "start_time": "2024-11-08T02:24:05.878Z"
   },
   {
    "duration": 2614,
    "start_time": "2024-11-08T14:43:15.846Z"
   },
   {
    "duration": 19,
    "start_time": "2024-11-08T14:43:18.462Z"
   },
   {
    "duration": 3,
    "start_time": "2024-11-08T14:43:18.483Z"
   },
   {
    "duration": 18,
    "start_time": "2024-11-08T14:43:18.489Z"
   },
   {
    "duration": 15,
    "start_time": "2024-11-08T14:43:18.509Z"
   },
   {
    "duration": 18,
    "start_time": "2024-11-08T14:43:18.525Z"
   },
   {
    "duration": 144,
    "start_time": "2024-11-08T14:43:18.544Z"
   },
   {
    "duration": 3,
    "start_time": "2024-11-08T14:43:18.689Z"
   },
   {
    "duration": 8,
    "start_time": "2024-11-08T14:43:18.693Z"
   },
   {
    "duration": 28,
    "start_time": "2024-11-08T14:43:18.704Z"
   },
   {
    "duration": 3,
    "start_time": "2024-11-08T14:43:18.734Z"
   },
   {
    "duration": 3,
    "start_time": "2024-11-08T14:43:18.739Z"
   },
   {
    "duration": 11,
    "start_time": "2024-11-08T14:43:18.743Z"
   },
   {
    "duration": 6,
    "start_time": "2024-11-08T14:43:18.755Z"
   },
   {
    "duration": 12,
    "start_time": "2024-11-08T14:43:18.763Z"
   },
   {
    "duration": 7,
    "start_time": "2024-11-08T14:43:18.776Z"
   },
   {
    "duration": 43,
    "start_time": "2024-11-08T14:43:18.785Z"
   },
   {
    "duration": 6,
    "start_time": "2024-11-08T14:43:18.830Z"
   },
   {
    "duration": 9,
    "start_time": "2024-11-08T14:43:18.837Z"
   },
   {
    "duration": 148,
    "start_time": "2024-11-08T14:43:18.847Z"
   },
   {
    "duration": 9,
    "start_time": "2024-11-08T14:43:18.997Z"
   },
   {
    "duration": 90,
    "start_time": "2024-11-08T14:43:19.007Z"
   },
   {
    "duration": 7,
    "start_time": "2024-11-08T14:43:19.099Z"
   },
   {
    "duration": 19,
    "start_time": "2024-11-08T14:43:19.107Z"
   },
   {
    "duration": 11,
    "start_time": "2024-11-08T14:43:19.127Z"
   },
   {
    "duration": 7,
    "start_time": "2024-11-08T14:43:19.139Z"
   },
   {
    "duration": 281,
    "start_time": "2024-11-08T14:43:19.147Z"
   },
   {
    "duration": 232,
    "start_time": "2024-11-08T14:43:19.432Z"
   },
   {
    "duration": 5,
    "start_time": "2024-11-08T14:43:19.666Z"
   },
   {
    "duration": 13,
    "start_time": "2024-11-08T14:43:19.673Z"
   },
   {
    "duration": 369,
    "start_time": "2024-11-08T14:43:19.689Z"
   },
   {
    "duration": 4,
    "start_time": "2024-11-08T14:43:20.060Z"
   },
   {
    "duration": 241,
    "start_time": "2024-11-08T14:43:20.065Z"
   },
   {
    "duration": 2,
    "start_time": "2024-11-08T14:43:20.308Z"
   },
   {
    "duration": 13,
    "start_time": "2024-11-08T14:43:20.312Z"
   },
   {
    "duration": 10,
    "start_time": "2024-11-08T14:43:20.326Z"
   },
   {
    "duration": 117,
    "start_time": "2024-11-08T14:43:20.338Z"
   },
   {
    "duration": 5,
    "start_time": "2024-11-08T14:43:20.457Z"
   },
   {
    "duration": 141,
    "start_time": "2024-11-08T14:43:20.464Z"
   },
   {
    "duration": 5,
    "start_time": "2024-11-08T14:43:20.607Z"
   },
   {
    "duration": 10,
    "start_time": "2024-11-08T14:43:20.624Z"
   },
   {
    "duration": 194,
    "start_time": "2024-11-08T14:43:20.635Z"
   },
   {
    "duration": 131,
    "start_time": "2024-11-08T14:43:20.831Z"
   },
   {
    "duration": 4,
    "start_time": "2024-11-08T14:43:20.964Z"
   },
   {
    "duration": 99,
    "start_time": "2024-11-08T16:18:03.041Z"
   },
   {
    "duration": 8,
    "start_time": "2024-11-08T16:26:03.775Z"
   },
   {
    "duration": 10,
    "start_time": "2024-11-08T16:26:21.648Z"
   },
   {
    "duration": 158,
    "start_time": "2024-11-08T16:27:10.738Z"
   },
   {
    "duration": 14,
    "start_time": "2024-11-08T16:27:14.311Z"
   },
   {
    "duration": 834,
    "start_time": "2024-11-08T16:27:22.085Z"
   },
   {
    "duration": 19,
    "start_time": "2024-11-08T16:27:22.921Z"
   },
   {
    "duration": 3,
    "start_time": "2024-11-08T16:27:22.941Z"
   },
   {
    "duration": 20,
    "start_time": "2024-11-08T16:27:22.946Z"
   },
   {
    "duration": 3,
    "start_time": "2024-11-08T16:27:22.968Z"
   },
   {
    "duration": 17,
    "start_time": "2024-11-08T16:27:22.973Z"
   },
   {
    "duration": 151,
    "start_time": "2024-11-08T16:27:22.992Z"
   },
   {
    "duration": 3,
    "start_time": "2024-11-08T16:27:23.144Z"
   },
   {
    "duration": 6,
    "start_time": "2024-11-08T16:27:23.148Z"
   },
   {
    "duration": 16,
    "start_time": "2024-11-08T16:27:23.158Z"
   },
   {
    "duration": 3,
    "start_time": "2024-11-08T16:27:23.176Z"
   },
   {
    "duration": 3,
    "start_time": "2024-11-08T16:27:23.182Z"
   },
   {
    "duration": 39,
    "start_time": "2024-11-08T16:27:23.187Z"
   },
   {
    "duration": 6,
    "start_time": "2024-11-08T16:27:23.228Z"
   },
   {
    "duration": 19,
    "start_time": "2024-11-08T16:27:23.236Z"
   },
   {
    "duration": 15,
    "start_time": "2024-11-08T16:27:23.256Z"
   },
   {
    "duration": 9,
    "start_time": "2024-11-08T16:27:23.273Z"
   },
   {
    "duration": 8,
    "start_time": "2024-11-08T16:27:23.284Z"
   },
   {
    "duration": 33,
    "start_time": "2024-11-08T16:27:23.294Z"
   },
   {
    "duration": 150,
    "start_time": "2024-11-08T16:27:23.329Z"
   },
   {
    "duration": 9,
    "start_time": "2024-11-08T16:27:23.480Z"
   },
   {
    "duration": 91,
    "start_time": "2024-11-08T16:27:23.491Z"
   },
   {
    "duration": 7,
    "start_time": "2024-11-08T16:27:23.584Z"
   },
   {
    "duration": 5,
    "start_time": "2024-11-08T16:27:23.593Z"
   },
   {
    "duration": 29,
    "start_time": "2024-11-08T16:27:23.599Z"
   },
   {
    "duration": 6,
    "start_time": "2024-11-08T16:27:23.630Z"
   },
   {
    "duration": 288,
    "start_time": "2024-11-08T16:27:23.637Z"
   },
   {
    "duration": 279,
    "start_time": "2024-11-08T16:27:23.929Z"
   },
   {
    "duration": 14,
    "start_time": "2024-11-08T16:27:24.210Z"
   },
   {
    "duration": 14,
    "start_time": "2024-11-08T16:27:24.226Z"
   },
   {
    "duration": 319,
    "start_time": "2024-11-08T16:27:24.241Z"
   },
   {
    "duration": 3,
    "start_time": "2024-11-08T16:27:24.562Z"
   },
   {
    "duration": 243,
    "start_time": "2024-11-08T16:27:24.566Z"
   },
   {
    "duration": 13,
    "start_time": "2024-11-08T16:27:24.811Z"
   },
   {
    "duration": 2,
    "start_time": "2024-11-08T16:27:24.826Z"
   },
   {
    "duration": 10,
    "start_time": "2024-11-08T16:27:24.830Z"
   },
   {
    "duration": 145,
    "start_time": "2024-11-08T16:27:24.842Z"
   },
   {
    "duration": 5,
    "start_time": "2024-11-08T16:27:24.989Z"
   },
   {
    "duration": 142,
    "start_time": "2024-11-08T16:27:24.995Z"
   },
   {
    "duration": 5,
    "start_time": "2024-11-08T16:27:25.139Z"
   },
   {
    "duration": 10,
    "start_time": "2024-11-08T16:27:25.146Z"
   },
   {
    "duration": 153,
    "start_time": "2024-11-08T16:27:25.158Z"
   },
   {
    "duration": 135,
    "start_time": "2024-11-08T16:27:25.313Z"
   },
   {
    "duration": 5,
    "start_time": "2024-11-08T16:27:25.450Z"
   },
   {
    "duration": 123,
    "start_time": "2024-11-08T16:27:25.457Z"
   },
   {
    "duration": 10,
    "start_time": "2024-11-08T16:27:25.582Z"
   },
   {
    "duration": 850,
    "start_time": "2024-11-08T16:27:50.361Z"
   },
   {
    "duration": 20,
    "start_time": "2024-11-08T16:27:51.213Z"
   },
   {
    "duration": 3,
    "start_time": "2024-11-08T16:27:51.235Z"
   },
   {
    "duration": 20,
    "start_time": "2024-11-08T16:27:51.241Z"
   },
   {
    "duration": 4,
    "start_time": "2024-11-08T16:27:51.262Z"
   },
   {
    "duration": 18,
    "start_time": "2024-11-08T16:27:51.267Z"
   },
   {
    "duration": 168,
    "start_time": "2024-11-08T16:27:51.287Z"
   },
   {
    "duration": 3,
    "start_time": "2024-11-08T16:27:51.456Z"
   },
   {
    "duration": 6,
    "start_time": "2024-11-08T16:27:51.460Z"
   },
   {
    "duration": 14,
    "start_time": "2024-11-08T16:27:51.470Z"
   },
   {
    "duration": 3,
    "start_time": "2024-11-08T16:27:51.486Z"
   },
   {
    "duration": 2,
    "start_time": "2024-11-08T16:27:51.524Z"
   },
   {
    "duration": 12,
    "start_time": "2024-11-08T16:27:51.528Z"
   },
   {
    "duration": 4,
    "start_time": "2024-11-08T16:27:51.542Z"
   },
   {
    "duration": 13,
    "start_time": "2024-11-08T16:27:51.548Z"
   },
   {
    "duration": 8,
    "start_time": "2024-11-08T16:27:51.563Z"
   },
   {
    "duration": 6,
    "start_time": "2024-11-08T16:27:51.572Z"
   },
   {
    "duration": 48,
    "start_time": "2024-11-08T16:27:51.580Z"
   },
   {
    "duration": 8,
    "start_time": "2024-11-08T16:27:51.630Z"
   },
   {
    "duration": 157,
    "start_time": "2024-11-08T16:27:51.640Z"
   },
   {
    "duration": 10,
    "start_time": "2024-11-08T16:27:51.798Z"
   },
   {
    "duration": 115,
    "start_time": "2024-11-08T16:27:51.810Z"
   },
   {
    "duration": 9,
    "start_time": "2024-11-08T16:27:51.927Z"
   },
   {
    "duration": 6,
    "start_time": "2024-11-08T16:27:51.937Z"
   },
   {
    "duration": 10,
    "start_time": "2024-11-08T16:27:51.945Z"
   },
   {
    "duration": 5,
    "start_time": "2024-11-08T16:27:51.957Z"
   },
   {
    "duration": 308,
    "start_time": "2024-11-08T16:27:51.964Z"
   },
   {
    "duration": 279,
    "start_time": "2024-11-08T16:27:52.277Z"
   },
   {
    "duration": 6,
    "start_time": "2024-11-08T16:27:52.558Z"
   },
   {
    "duration": 14,
    "start_time": "2024-11-08T16:27:52.566Z"
   },
   {
    "duration": 356,
    "start_time": "2024-11-08T16:27:52.582Z"
   },
   {
    "duration": 4,
    "start_time": "2024-11-08T16:27:52.940Z"
   },
   {
    "duration": 250,
    "start_time": "2024-11-08T16:27:52.946Z"
   },
   {
    "duration": 3,
    "start_time": "2024-11-08T16:27:53.198Z"
   },
   {
    "duration": 3,
    "start_time": "2024-11-08T16:27:53.202Z"
   },
   {
    "duration": 26,
    "start_time": "2024-11-08T16:27:53.207Z"
   },
   {
    "duration": 155,
    "start_time": "2024-11-08T16:27:53.234Z"
   },
   {
    "duration": 5,
    "start_time": "2024-11-08T16:27:53.391Z"
   },
   {
    "duration": 149,
    "start_time": "2024-11-08T16:27:53.397Z"
   },
   {
    "duration": 5,
    "start_time": "2024-11-08T16:27:53.547Z"
   },
   {
    "duration": 9,
    "start_time": "2024-11-08T16:27:53.554Z"
   },
   {
    "duration": 160,
    "start_time": "2024-11-08T16:27:53.565Z"
   },
   {
    "duration": 142,
    "start_time": "2024-11-08T16:27:53.727Z"
   },
   {
    "duration": 6,
    "start_time": "2024-11-08T16:27:53.872Z"
   },
   {
    "duration": 111,
    "start_time": "2024-11-08T16:27:53.880Z"
   },
   {
    "duration": 9,
    "start_time": "2024-11-08T16:27:53.993Z"
   },
   {
    "duration": 812,
    "start_time": "2024-11-08T16:28:02.625Z"
   },
   {
    "duration": 13,
    "start_time": "2024-11-08T16:28:03.439Z"
   },
   {
    "duration": 4,
    "start_time": "2024-11-08T16:28:03.454Z"
   },
   {
    "duration": 19,
    "start_time": "2024-11-08T16:28:03.462Z"
   },
   {
    "duration": 3,
    "start_time": "2024-11-08T16:28:03.483Z"
   },
   {
    "duration": 47,
    "start_time": "2024-11-08T16:28:03.489Z"
   },
   {
    "duration": 144,
    "start_time": "2024-11-08T16:28:03.537Z"
   },
   {
    "duration": 2,
    "start_time": "2024-11-08T16:28:03.683Z"
   },
   {
    "duration": 7,
    "start_time": "2024-11-08T16:28:03.687Z"
   },
   {
    "duration": 35,
    "start_time": "2024-11-08T16:28:03.699Z"
   },
   {
    "duration": 3,
    "start_time": "2024-11-08T16:28:03.737Z"
   },
   {
    "duration": 4,
    "start_time": "2024-11-08T16:28:03.741Z"
   },
   {
    "duration": 12,
    "start_time": "2024-11-08T16:28:03.746Z"
   },
   {
    "duration": 6,
    "start_time": "2024-11-08T16:28:03.759Z"
   },
   {
    "duration": 13,
    "start_time": "2024-11-08T16:28:03.767Z"
   },
   {
    "duration": 48,
    "start_time": "2024-11-08T16:28:03.781Z"
   },
   {
    "duration": 6,
    "start_time": "2024-11-08T16:28:03.830Z"
   },
   {
    "duration": 7,
    "start_time": "2024-11-08T16:28:03.839Z"
   },
   {
    "duration": 9,
    "start_time": "2024-11-08T16:28:03.848Z"
   },
   {
    "duration": 175,
    "start_time": "2024-11-08T16:28:03.859Z"
   },
   {
    "duration": 9,
    "start_time": "2024-11-08T16:28:04.036Z"
   },
   {
    "duration": 96,
    "start_time": "2024-11-08T16:28:04.046Z"
   },
   {
    "duration": 8,
    "start_time": "2024-11-08T16:28:04.144Z"
   },
   {
    "duration": 5,
    "start_time": "2024-11-08T16:28:04.154Z"
   },
   {
    "duration": 10,
    "start_time": "2024-11-08T16:28:04.160Z"
   },
   {
    "duration": 6,
    "start_time": "2024-11-08T16:28:04.172Z"
   },
   {
    "duration": 293,
    "start_time": "2024-11-08T16:28:04.180Z"
   },
   {
    "duration": 271,
    "start_time": "2024-11-08T16:28:04.477Z"
   },
   {
    "duration": 6,
    "start_time": "2024-11-08T16:28:04.751Z"
   },
   {
    "duration": 13,
    "start_time": "2024-11-08T16:28:04.758Z"
   },
   {
    "duration": 312,
    "start_time": "2024-11-08T16:28:04.773Z"
   },
   {
    "duration": 4,
    "start_time": "2024-11-08T16:28:05.087Z"
   },
   {
    "duration": 268,
    "start_time": "2024-11-08T16:28:05.093Z"
   },
   {
    "duration": 2,
    "start_time": "2024-11-08T16:28:05.364Z"
   },
   {
    "duration": 2,
    "start_time": "2024-11-08T16:28:05.369Z"
   },
   {
    "duration": 12,
    "start_time": "2024-11-08T16:28:05.373Z"
   },
   {
    "duration": 160,
    "start_time": "2024-11-08T16:28:05.387Z"
   },
   {
    "duration": 16,
    "start_time": "2024-11-08T16:28:05.549Z"
   },
   {
    "duration": 160,
    "start_time": "2024-11-08T16:28:05.567Z"
   },
   {
    "duration": 5,
    "start_time": "2024-11-08T16:28:05.729Z"
   },
   {
    "duration": 11,
    "start_time": "2024-11-08T16:28:05.737Z"
   },
   {
    "duration": 150,
    "start_time": "2024-11-08T16:28:05.750Z"
   },
   {
    "duration": 134,
    "start_time": "2024-11-08T16:28:05.902Z"
   },
   {
    "duration": 4,
    "start_time": "2024-11-08T16:28:06.038Z"
   },
   {
    "duration": 125,
    "start_time": "2024-11-08T16:28:06.044Z"
   },
   {
    "duration": 12,
    "start_time": "2024-11-08T16:28:06.171Z"
   },
   {
    "duration": 160,
    "start_time": "2024-11-08T16:29:46.870Z"
   },
   {
    "duration": 826,
    "start_time": "2024-11-08T16:29:54.283Z"
   },
   {
    "duration": 16,
    "start_time": "2024-11-08T16:29:55.111Z"
   },
   {
    "duration": 3,
    "start_time": "2024-11-08T16:29:55.129Z"
   },
   {
    "duration": 20,
    "start_time": "2024-11-08T16:29:55.133Z"
   },
   {
    "duration": 3,
    "start_time": "2024-11-08T16:29:55.155Z"
   },
   {
    "duration": 19,
    "start_time": "2024-11-08T16:29:55.160Z"
   },
   {
    "duration": 172,
    "start_time": "2024-11-08T16:29:55.181Z"
   },
   {
    "duration": 2,
    "start_time": "2024-11-08T16:29:55.355Z"
   },
   {
    "duration": 6,
    "start_time": "2024-11-08T16:29:55.359Z"
   },
   {
    "duration": 14,
    "start_time": "2024-11-08T16:29:55.367Z"
   },
   {
    "duration": 3,
    "start_time": "2024-11-08T16:29:55.382Z"
   },
   {
    "duration": 37,
    "start_time": "2024-11-08T16:29:55.387Z"
   },
   {
    "duration": 11,
    "start_time": "2024-11-08T16:29:55.425Z"
   },
   {
    "duration": 5,
    "start_time": "2024-11-08T16:29:55.440Z"
   },
   {
    "duration": 13,
    "start_time": "2024-11-08T16:29:55.446Z"
   },
   {
    "duration": 7,
    "start_time": "2024-11-08T16:29:55.461Z"
   },
   {
    "duration": 6,
    "start_time": "2024-11-08T16:29:55.469Z"
   },
   {
    "duration": 6,
    "start_time": "2024-11-08T16:29:55.476Z"
   },
   {
    "duration": 41,
    "start_time": "2024-11-08T16:29:55.484Z"
   },
   {
    "duration": 144,
    "start_time": "2024-11-08T16:29:55.527Z"
   },
   {
    "duration": 9,
    "start_time": "2024-11-08T16:29:55.673Z"
   },
   {
    "duration": 104,
    "start_time": "2024-11-08T16:29:55.683Z"
   },
   {
    "duration": 9,
    "start_time": "2024-11-08T16:29:55.788Z"
   },
   {
    "duration": 6,
    "start_time": "2024-11-08T16:29:55.799Z"
   },
   {
    "duration": 28,
    "start_time": "2024-11-08T16:29:55.806Z"
   },
   {
    "duration": 6,
    "start_time": "2024-11-08T16:29:55.835Z"
   },
   {
    "duration": 282,
    "start_time": "2024-11-08T16:29:55.843Z"
   },
   {
    "duration": 301,
    "start_time": "2024-11-08T16:29:56.127Z"
   },
   {
    "duration": 6,
    "start_time": "2024-11-08T16:29:56.430Z"
   },
   {
    "duration": 13,
    "start_time": "2024-11-08T16:29:56.438Z"
   },
   {
    "duration": 309,
    "start_time": "2024-11-08T16:29:56.453Z"
   },
   {
    "duration": 3,
    "start_time": "2024-11-08T16:29:56.764Z"
   },
   {
    "duration": 245,
    "start_time": "2024-11-08T16:29:56.769Z"
   },
   {
    "duration": 8,
    "start_time": "2024-11-08T16:29:57.016Z"
   },
   {
    "duration": 3,
    "start_time": "2024-11-08T16:29:57.026Z"
   },
   {
    "duration": 10,
    "start_time": "2024-11-08T16:29:57.031Z"
   },
   {
    "duration": 127,
    "start_time": "2024-11-08T16:29:57.042Z"
   },
   {
    "duration": 6,
    "start_time": "2024-11-08T16:29:57.171Z"
   },
   {
    "duration": 141,
    "start_time": "2024-11-08T16:29:57.179Z"
   },
   {
    "duration": 5,
    "start_time": "2024-11-08T16:29:57.324Z"
   },
   {
    "duration": 12,
    "start_time": "2024-11-08T16:29:57.334Z"
   },
   {
    "duration": 155,
    "start_time": "2024-11-08T16:29:57.348Z"
   },
   {
    "duration": 144,
    "start_time": "2024-11-08T16:29:57.505Z"
   },
   {
    "duration": 5,
    "start_time": "2024-11-08T16:29:57.650Z"
   },
   {
    "duration": 133,
    "start_time": "2024-11-08T16:29:57.657Z"
   },
   {
    "duration": 9,
    "start_time": "2024-11-08T16:29:57.792Z"
   },
   {
    "duration": 170,
    "start_time": "2024-11-08T16:30:14.255Z"
   },
   {
    "duration": 849,
    "start_time": "2024-11-08T16:30:20.935Z"
   },
   {
    "duration": 13,
    "start_time": "2024-11-08T16:30:21.787Z"
   },
   {
    "duration": 3,
    "start_time": "2024-11-08T16:30:21.801Z"
   },
   {
    "duration": 27,
    "start_time": "2024-11-08T16:30:21.806Z"
   },
   {
    "duration": 3,
    "start_time": "2024-11-08T16:30:21.835Z"
   },
   {
    "duration": 17,
    "start_time": "2024-11-08T16:30:21.840Z"
   },
   {
    "duration": 168,
    "start_time": "2024-11-08T16:30:21.859Z"
   },
   {
    "duration": 3,
    "start_time": "2024-11-08T16:30:22.028Z"
   },
   {
    "duration": 7,
    "start_time": "2024-11-08T16:30:22.032Z"
   },
   {
    "duration": 15,
    "start_time": "2024-11-08T16:30:22.040Z"
   },
   {
    "duration": 3,
    "start_time": "2024-11-08T16:30:22.056Z"
   },
   {
    "duration": 3,
    "start_time": "2024-11-08T16:30:22.060Z"
   },
   {
    "duration": 11,
    "start_time": "2024-11-08T16:30:22.065Z"
   },
   {
    "duration": 4,
    "start_time": "2024-11-08T16:30:22.080Z"
   },
   {
    "duration": 50,
    "start_time": "2024-11-08T16:30:22.086Z"
   },
   {
    "duration": 7,
    "start_time": "2024-11-08T16:30:22.138Z"
   },
   {
    "duration": 5,
    "start_time": "2024-11-08T16:30:22.147Z"
   },
   {
    "duration": 7,
    "start_time": "2024-11-08T16:30:22.154Z"
   },
   {
    "duration": 8,
    "start_time": "2024-11-08T16:30:22.163Z"
   },
   {
    "duration": 191,
    "start_time": "2024-11-08T16:30:22.173Z"
   },
   {
    "duration": 10,
    "start_time": "2024-11-08T16:30:22.366Z"
   },
   {
    "duration": 98,
    "start_time": "2024-11-08T16:30:22.377Z"
   },
   {
    "duration": 7,
    "start_time": "2024-11-08T16:30:22.477Z"
   },
   {
    "duration": 6,
    "start_time": "2024-11-08T16:30:22.486Z"
   },
   {
    "duration": 32,
    "start_time": "2024-11-08T16:30:22.493Z"
   },
   {
    "duration": 6,
    "start_time": "2024-11-08T16:30:22.526Z"
   },
   {
    "duration": 282,
    "start_time": "2024-11-08T16:30:22.535Z"
   },
   {
    "duration": 277,
    "start_time": "2024-11-08T16:30:22.819Z"
   },
   {
    "duration": 5,
    "start_time": "2024-11-08T16:30:23.098Z"
   },
   {
    "duration": 25,
    "start_time": "2024-11-08T16:30:23.105Z"
   },
   {
    "duration": 327,
    "start_time": "2024-11-08T16:30:23.132Z"
   },
   {
    "duration": 3,
    "start_time": "2024-11-08T16:30:23.461Z"
   },
   {
    "duration": 247,
    "start_time": "2024-11-08T16:30:23.466Z"
   },
   {
    "duration": 9,
    "start_time": "2024-11-08T16:30:23.715Z"
   },
   {
    "duration": 3,
    "start_time": "2024-11-08T16:30:23.725Z"
   },
   {
    "duration": 11,
    "start_time": "2024-11-08T16:30:23.729Z"
   },
   {
    "duration": 143,
    "start_time": "2024-11-08T16:30:23.741Z"
   },
   {
    "duration": 6,
    "start_time": "2024-11-08T16:30:23.886Z"
   },
   {
    "duration": 156,
    "start_time": "2024-11-08T16:30:23.893Z"
   },
   {
    "duration": 5,
    "start_time": "2024-11-08T16:30:24.051Z"
   },
   {
    "duration": 11,
    "start_time": "2024-11-08T16:30:24.060Z"
   },
   {
    "duration": 152,
    "start_time": "2024-11-08T16:30:24.072Z"
   },
   {
    "duration": 134,
    "start_time": "2024-11-08T16:30:24.226Z"
   },
   {
    "duration": 5,
    "start_time": "2024-11-08T16:30:24.361Z"
   },
   {
    "duration": 127,
    "start_time": "2024-11-08T16:30:24.367Z"
   },
   {
    "duration": 10,
    "start_time": "2024-11-08T16:30:24.495Z"
   },
   {
    "duration": 834,
    "start_time": "2024-11-08T16:34:03.429Z"
   },
   {
    "duration": 14,
    "start_time": "2024-11-08T16:34:04.265Z"
   },
   {
    "duration": 4,
    "start_time": "2024-11-08T16:34:04.280Z"
   },
   {
    "duration": 18,
    "start_time": "2024-11-08T16:34:04.287Z"
   },
   {
    "duration": 3,
    "start_time": "2024-11-08T16:34:04.307Z"
   },
   {
    "duration": 30,
    "start_time": "2024-11-08T16:34:04.311Z"
   },
   {
    "duration": 148,
    "start_time": "2024-11-08T16:34:04.343Z"
   },
   {
    "duration": 3,
    "start_time": "2024-11-08T16:34:04.492Z"
   },
   {
    "duration": 6,
    "start_time": "2024-11-08T16:34:04.496Z"
   },
   {
    "duration": 28,
    "start_time": "2024-11-08T16:34:04.505Z"
   },
   {
    "duration": 4,
    "start_time": "2024-11-08T16:34:04.534Z"
   },
   {
    "duration": 3,
    "start_time": "2024-11-08T16:34:04.539Z"
   },
   {
    "duration": 11,
    "start_time": "2024-11-08T16:34:04.544Z"
   },
   {
    "duration": 6,
    "start_time": "2024-11-08T16:34:04.556Z"
   },
   {
    "duration": 18,
    "start_time": "2024-11-08T16:34:04.564Z"
   },
   {
    "duration": 6,
    "start_time": "2024-11-08T16:34:04.584Z"
   },
   {
    "duration": 37,
    "start_time": "2024-11-08T16:34:04.592Z"
   },
   {
    "duration": 8,
    "start_time": "2024-11-08T16:34:04.630Z"
   },
   {
    "duration": 8,
    "start_time": "2024-11-08T16:34:04.641Z"
   },
   {
    "duration": 170,
    "start_time": "2024-11-08T16:34:04.651Z"
   },
   {
    "duration": 10,
    "start_time": "2024-11-08T16:34:04.823Z"
   },
   {
    "duration": 96,
    "start_time": "2024-11-08T16:34:04.834Z"
   },
   {
    "duration": 7,
    "start_time": "2024-11-08T16:34:04.932Z"
   },
   {
    "duration": 5,
    "start_time": "2024-11-08T16:34:04.941Z"
   },
   {
    "duration": 10,
    "start_time": "2024-11-08T16:34:04.947Z"
   },
   {
    "duration": 7,
    "start_time": "2024-11-08T16:34:04.958Z"
   },
   {
    "duration": 302,
    "start_time": "2024-11-08T16:34:04.967Z"
   },
   {
    "duration": 275,
    "start_time": "2024-11-08T16:34:05.274Z"
   },
   {
    "duration": 6,
    "start_time": "2024-11-08T16:34:05.551Z"
   },
   {
    "duration": 14,
    "start_time": "2024-11-08T16:34:05.558Z"
   },
   {
    "duration": 320,
    "start_time": "2024-11-08T16:34:05.574Z"
   },
   {
    "duration": 3,
    "start_time": "2024-11-08T16:34:05.896Z"
   },
   {
    "duration": 254,
    "start_time": "2024-11-08T16:34:05.901Z"
   },
   {
    "duration": 2,
    "start_time": "2024-11-08T16:34:06.156Z"
   },
   {
    "duration": 3,
    "start_time": "2024-11-08T16:34:06.160Z"
   },
   {
    "duration": 10,
    "start_time": "2024-11-08T16:34:06.164Z"
   },
   {
    "duration": 119,
    "start_time": "2024-11-08T16:34:06.176Z"
   },
   {
    "duration": 5,
    "start_time": "2024-11-08T16:34:06.297Z"
   },
   {
    "duration": 142,
    "start_time": "2024-11-08T16:34:06.303Z"
   },
   {
    "duration": 5,
    "start_time": "2024-11-08T16:34:06.446Z"
   },
   {
    "duration": 9,
    "start_time": "2024-11-08T16:34:06.453Z"
   },
   {
    "duration": 147,
    "start_time": "2024-11-08T16:34:06.463Z"
   },
   {
    "duration": 147,
    "start_time": "2024-11-08T16:34:06.612Z"
   },
   {
    "duration": 4,
    "start_time": "2024-11-08T16:34:06.761Z"
   },
   {
    "duration": 120,
    "start_time": "2024-11-08T16:34:06.767Z"
   },
   {
    "duration": 828,
    "start_time": "2024-11-08T16:34:32.874Z"
   },
   {
    "duration": 14,
    "start_time": "2024-11-08T16:34:33.704Z"
   },
   {
    "duration": 5,
    "start_time": "2024-11-08T16:34:33.719Z"
   },
   {
    "duration": 20,
    "start_time": "2024-11-08T16:34:33.726Z"
   },
   {
    "duration": 3,
    "start_time": "2024-11-08T16:34:33.750Z"
   },
   {
    "duration": 18,
    "start_time": "2024-11-08T16:34:33.755Z"
   },
   {
    "duration": 166,
    "start_time": "2024-11-08T16:34:33.775Z"
   },
   {
    "duration": 2,
    "start_time": "2024-11-08T16:34:33.944Z"
   },
   {
    "duration": 5,
    "start_time": "2024-11-08T16:34:33.948Z"
   },
   {
    "duration": 14,
    "start_time": "2024-11-08T16:34:33.955Z"
   },
   {
    "duration": 2,
    "start_time": "2024-11-08T16:34:33.971Z"
   },
   {
    "duration": 4,
    "start_time": "2024-11-08T16:34:33.975Z"
   },
   {
    "duration": 44,
    "start_time": "2024-11-08T16:34:33.981Z"
   },
   {
    "duration": 9,
    "start_time": "2024-11-08T16:34:34.030Z"
   },
   {
    "duration": 16,
    "start_time": "2024-11-08T16:34:34.040Z"
   },
   {
    "duration": 10,
    "start_time": "2024-11-08T16:34:34.057Z"
   },
   {
    "duration": 7,
    "start_time": "2024-11-08T16:34:34.069Z"
   },
   {
    "duration": 7,
    "start_time": "2024-11-08T16:34:34.078Z"
   },
   {
    "duration": 45,
    "start_time": "2024-11-08T16:34:34.086Z"
   },
   {
    "duration": 141,
    "start_time": "2024-11-08T16:34:34.133Z"
   },
   {
    "duration": 9,
    "start_time": "2024-11-08T16:34:34.277Z"
   },
   {
    "duration": 99,
    "start_time": "2024-11-08T16:34:34.288Z"
   },
   {
    "duration": 7,
    "start_time": "2024-11-08T16:34:34.389Z"
   },
   {
    "duration": 5,
    "start_time": "2024-11-08T16:34:34.398Z"
   },
   {
    "duration": 29,
    "start_time": "2024-11-08T16:34:34.404Z"
   },
   {
    "duration": 5,
    "start_time": "2024-11-08T16:34:34.435Z"
   },
   {
    "duration": 283,
    "start_time": "2024-11-08T16:34:34.442Z"
   },
   {
    "duration": 303,
    "start_time": "2024-11-08T16:34:34.726Z"
   },
   {
    "duration": 6,
    "start_time": "2024-11-08T16:34:35.031Z"
   },
   {
    "duration": 14,
    "start_time": "2024-11-08T16:34:35.038Z"
   },
   {
    "duration": 304,
    "start_time": "2024-11-08T16:34:35.053Z"
   },
   {
    "duration": 4,
    "start_time": "2024-11-08T16:34:35.358Z"
   },
   {
    "duration": 243,
    "start_time": "2024-11-08T16:34:35.364Z"
   },
   {
    "duration": 2,
    "start_time": "2024-11-08T16:34:35.609Z"
   },
   {
    "duration": 12,
    "start_time": "2024-11-08T16:34:35.613Z"
   },
   {
    "duration": 11,
    "start_time": "2024-11-08T16:34:35.627Z"
   },
   {
    "duration": 129,
    "start_time": "2024-11-08T16:34:35.639Z"
   },
   {
    "duration": 5,
    "start_time": "2024-11-08T16:34:35.770Z"
   },
   {
    "duration": 149,
    "start_time": "2024-11-08T16:34:35.777Z"
   },
   {
    "duration": 3,
    "start_time": "2024-11-08T16:34:35.928Z"
   },
   {
    "duration": 9,
    "start_time": "2024-11-08T16:34:35.937Z"
   },
   {
    "duration": 150,
    "start_time": "2024-11-08T16:34:35.948Z"
   },
   {
    "duration": 134,
    "start_time": "2024-11-08T16:34:36.100Z"
   },
   {
    "duration": 4,
    "start_time": "2024-11-08T16:34:36.236Z"
   },
   {
    "duration": 120,
    "start_time": "2024-11-08T16:34:36.242Z"
   },
   {
    "duration": 3,
    "start_time": "2024-11-08T16:34:36.364Z"
   },
   {
    "duration": 158,
    "start_time": "2024-11-08T20:30:39.823Z"
   },
   {
    "duration": 2598,
    "start_time": "2024-11-08T20:30:47.602Z"
   },
   {
    "duration": 22,
    "start_time": "2024-11-08T20:30:50.203Z"
   },
   {
    "duration": 3,
    "start_time": "2024-11-08T20:30:50.227Z"
   },
   {
    "duration": 24,
    "start_time": "2024-11-08T20:30:50.232Z"
   },
   {
    "duration": 5,
    "start_time": "2024-11-08T20:30:50.257Z"
   },
   {
    "duration": 20,
    "start_time": "2024-11-08T20:30:50.263Z"
   },
   {
    "duration": 153,
    "start_time": "2024-11-08T20:30:50.284Z"
   },
   {
    "duration": 3,
    "start_time": "2024-11-08T20:30:50.439Z"
   },
   {
    "duration": 5,
    "start_time": "2024-11-08T20:30:50.444Z"
   },
   {
    "duration": 14,
    "start_time": "2024-11-08T20:30:50.453Z"
   },
   {
    "duration": 6,
    "start_time": "2024-11-08T20:30:50.468Z"
   },
   {
    "duration": 3,
    "start_time": "2024-11-08T20:30:50.475Z"
   },
   {
    "duration": 18,
    "start_time": "2024-11-08T20:30:50.480Z"
   },
   {
    "duration": 6,
    "start_time": "2024-11-08T20:30:50.500Z"
   },
   {
    "duration": 44,
    "start_time": "2024-11-08T20:30:50.509Z"
   },
   {
    "duration": 8,
    "start_time": "2024-11-08T20:30:50.556Z"
   },
   {
    "duration": 7,
    "start_time": "2024-11-08T20:30:50.565Z"
   },
   {
    "duration": 6,
    "start_time": "2024-11-08T20:30:50.574Z"
   },
   {
    "duration": 9,
    "start_time": "2024-11-08T20:30:50.583Z"
   },
   {
    "duration": 172,
    "start_time": "2024-11-08T20:30:50.594Z"
   },
   {
    "duration": 9,
    "start_time": "2024-11-08T20:30:50.768Z"
   },
   {
    "duration": 104,
    "start_time": "2024-11-08T20:30:50.779Z"
   },
   {
    "duration": 8,
    "start_time": "2024-11-08T20:30:50.885Z"
   },
   {
    "duration": 5,
    "start_time": "2024-11-08T20:30:50.894Z"
   },
   {
    "duration": 10,
    "start_time": "2024-11-08T20:30:50.901Z"
   },
   {
    "duration": 5,
    "start_time": "2024-11-08T20:30:50.913Z"
   },
   {
    "duration": 300,
    "start_time": "2024-11-08T20:30:50.943Z"
   },
   {
    "duration": 242,
    "start_time": "2024-11-08T20:30:51.248Z"
   },
   {
    "duration": 6,
    "start_time": "2024-11-08T20:30:51.492Z"
   },
   {
    "duration": 14,
    "start_time": "2024-11-08T20:30:51.499Z"
   },
   {
    "duration": 365,
    "start_time": "2024-11-08T20:30:51.514Z"
   },
   {
    "duration": 3,
    "start_time": "2024-11-08T20:30:51.881Z"
   },
   {
    "duration": 251,
    "start_time": "2024-11-08T20:30:51.886Z"
   },
   {
    "duration": 2,
    "start_time": "2024-11-08T20:30:52.143Z"
   },
   {
    "duration": 2,
    "start_time": "2024-11-08T20:30:52.147Z"
   },
   {
    "duration": 13,
    "start_time": "2024-11-08T20:30:52.151Z"
   },
   {
    "duration": 136,
    "start_time": "2024-11-08T20:30:52.166Z"
   },
   {
    "duration": 5,
    "start_time": "2024-11-08T20:30:52.304Z"
   },
   {
    "duration": 140,
    "start_time": "2024-11-08T20:30:52.311Z"
   },
   {
    "duration": 5,
    "start_time": "2024-11-08T20:30:52.453Z"
   },
   {
    "duration": 10,
    "start_time": "2024-11-08T20:30:52.459Z"
   },
   {
    "duration": 210,
    "start_time": "2024-11-08T20:30:52.471Z"
   },
   {
    "duration": 135,
    "start_time": "2024-11-08T20:30:52.683Z"
   },
   {
    "duration": 4,
    "start_time": "2024-11-08T20:30:52.820Z"
   },
   {
    "duration": 2,
    "start_time": "2024-11-08T20:30:52.826Z"
   },
   {
    "duration": 125,
    "start_time": "2024-11-08T20:30:52.829Z"
   },
   {
    "duration": 8,
    "start_time": "2024-11-08T20:30:52.955Z"
   },
   {
    "duration": 171,
    "start_time": "2024-11-08T20:59:57.107Z"
   },
   {
    "duration": 804,
    "start_time": "2024-11-08T21:00:05.638Z"
   },
   {
    "duration": 19,
    "start_time": "2024-11-08T21:00:06.445Z"
   },
   {
    "duration": 2,
    "start_time": "2024-11-08T21:00:06.466Z"
   },
   {
    "duration": 19,
    "start_time": "2024-11-08T21:00:06.472Z"
   },
   {
    "duration": 3,
    "start_time": "2024-11-08T21:00:06.493Z"
   },
   {
    "duration": 17,
    "start_time": "2024-11-08T21:00:06.498Z"
   },
   {
    "duration": 158,
    "start_time": "2024-11-08T21:00:06.517Z"
   },
   {
    "duration": 3,
    "start_time": "2024-11-08T21:00:06.677Z"
   },
   {
    "duration": 7,
    "start_time": "2024-11-08T21:00:06.681Z"
   },
   {
    "duration": 16,
    "start_time": "2024-11-08T21:00:06.692Z"
   },
   {
    "duration": 3,
    "start_time": "2024-11-08T21:00:06.710Z"
   },
   {
    "duration": 30,
    "start_time": "2024-11-08T21:00:06.714Z"
   },
   {
    "duration": 12,
    "start_time": "2024-11-08T21:00:06.746Z"
   },
   {
    "duration": 6,
    "start_time": "2024-11-08T21:00:06.761Z"
   },
   {
    "duration": 14,
    "start_time": "2024-11-08T21:00:06.768Z"
   },
   {
    "duration": 8,
    "start_time": "2024-11-08T21:00:06.784Z"
   },
   {
    "duration": 6,
    "start_time": "2024-11-08T21:00:06.794Z"
   },
   {
    "duration": 45,
    "start_time": "2024-11-08T21:00:06.802Z"
   },
   {
    "duration": 9,
    "start_time": "2024-11-08T21:00:06.849Z"
   },
   {
    "duration": 153,
    "start_time": "2024-11-08T21:00:06.860Z"
   },
   {
    "duration": 9,
    "start_time": "2024-11-08T21:00:07.015Z"
   },
   {
    "duration": 92,
    "start_time": "2024-11-08T21:00:07.025Z"
   },
   {
    "duration": 7,
    "start_time": "2024-11-08T21:00:07.119Z"
   },
   {
    "duration": 5,
    "start_time": "2024-11-08T21:00:07.143Z"
   },
   {
    "duration": 11,
    "start_time": "2024-11-08T21:00:07.150Z"
   },
   {
    "duration": 5,
    "start_time": "2024-11-08T21:00:07.163Z"
   },
   {
    "duration": 297,
    "start_time": "2024-11-08T21:00:07.170Z"
   },
   {
    "duration": 285,
    "start_time": "2024-11-08T21:00:07.473Z"
   },
   {
    "duration": 6,
    "start_time": "2024-11-08T21:00:07.760Z"
   },
   {
    "duration": 13,
    "start_time": "2024-11-08T21:00:07.768Z"
   },
   {
    "duration": 312,
    "start_time": "2024-11-08T21:00:07.782Z"
   },
   {
    "duration": 4,
    "start_time": "2024-11-08T21:00:08.095Z"
   },
   {
    "duration": 250,
    "start_time": "2024-11-08T21:00:08.101Z"
   },
   {
    "duration": 3,
    "start_time": "2024-11-08T21:00:08.355Z"
   },
   {
    "duration": 3,
    "start_time": "2024-11-08T21:00:08.359Z"
   },
   {
    "duration": 10,
    "start_time": "2024-11-08T21:00:08.363Z"
   },
   {
    "duration": 137,
    "start_time": "2024-11-08T21:00:08.375Z"
   },
   {
    "duration": 4,
    "start_time": "2024-11-08T21:00:08.514Z"
   },
   {
    "duration": 159,
    "start_time": "2024-11-08T21:00:08.520Z"
   },
   {
    "duration": 4,
    "start_time": "2024-11-08T21:00:08.681Z"
   },
   {
    "duration": 10,
    "start_time": "2024-11-08T21:00:08.687Z"
   },
   {
    "duration": 162,
    "start_time": "2024-11-08T21:00:08.699Z"
   },
   {
    "duration": 138,
    "start_time": "2024-11-08T21:00:08.863Z"
   },
   {
    "duration": 4,
    "start_time": "2024-11-08T21:00:09.003Z"
   },
   {
    "duration": 2,
    "start_time": "2024-11-08T21:00:09.009Z"
   },
   {
    "duration": 124,
    "start_time": "2024-11-08T21:00:09.013Z"
   },
   {
    "duration": 10,
    "start_time": "2024-11-08T21:00:09.142Z"
   },
   {
    "duration": 4,
    "start_time": "2024-11-08T21:00:09.154Z"
   },
   {
    "duration": 158,
    "start_time": "2024-11-08T21:03:15.955Z"
   },
   {
    "duration": 882,
    "start_time": "2024-11-08T21:03:30.564Z"
   },
   {
    "duration": 15,
    "start_time": "2024-11-08T21:03:31.449Z"
   },
   {
    "duration": 17,
    "start_time": "2024-11-08T21:03:31.465Z"
   },
   {
    "duration": 43,
    "start_time": "2024-11-08T21:03:31.485Z"
   },
   {
    "duration": 10,
    "start_time": "2024-11-08T21:03:31.530Z"
   },
   {
    "duration": 37,
    "start_time": "2024-11-08T21:03:31.542Z"
   },
   {
    "duration": 149,
    "start_time": "2024-11-08T21:03:31.580Z"
   },
   {
    "duration": 2,
    "start_time": "2024-11-08T21:03:31.731Z"
   },
   {
    "duration": 43,
    "start_time": "2024-11-08T21:03:31.735Z"
   },
   {
    "duration": 57,
    "start_time": "2024-11-08T21:03:31.781Z"
   },
   {
    "duration": 52,
    "start_time": "2024-11-08T21:03:31.839Z"
   },
   {
    "duration": 39,
    "start_time": "2024-11-08T21:03:31.893Z"
   },
   {
    "duration": 33,
    "start_time": "2024-11-08T21:03:31.934Z"
   },
   {
    "duration": 16,
    "start_time": "2024-11-08T21:03:31.969Z"
   },
   {
    "duration": 14,
    "start_time": "2024-11-08T21:03:31.987Z"
   },
   {
    "duration": 8,
    "start_time": "2024-11-08T21:03:32.003Z"
   },
   {
    "duration": 7,
    "start_time": "2024-11-08T21:03:32.012Z"
   },
   {
    "duration": 7,
    "start_time": "2024-11-08T21:03:32.021Z"
   },
   {
    "duration": 17,
    "start_time": "2024-11-08T21:03:32.030Z"
   },
   {
    "duration": 138,
    "start_time": "2024-11-08T21:03:32.049Z"
   },
   {
    "duration": 9,
    "start_time": "2024-11-08T21:03:32.189Z"
   },
   {
    "duration": 96,
    "start_time": "2024-11-08T21:03:32.199Z"
   },
   {
    "duration": 9,
    "start_time": "2024-11-08T21:03:32.296Z"
   },
   {
    "duration": 6,
    "start_time": "2024-11-08T21:03:32.306Z"
   },
   {
    "duration": 11,
    "start_time": "2024-11-08T21:03:32.314Z"
   },
   {
    "duration": 6,
    "start_time": "2024-11-08T21:03:32.343Z"
   },
   {
    "duration": 289,
    "start_time": "2024-11-08T21:03:32.350Z"
   },
   {
    "duration": 281,
    "start_time": "2024-11-08T21:03:32.644Z"
   },
   {
    "duration": 6,
    "start_time": "2024-11-08T21:03:32.927Z"
   },
   {
    "duration": 14,
    "start_time": "2024-11-08T21:03:32.943Z"
   },
   {
    "duration": 322,
    "start_time": "2024-11-08T21:03:32.959Z"
   },
   {
    "duration": 4,
    "start_time": "2024-11-08T21:03:33.283Z"
   },
   {
    "duration": 249,
    "start_time": "2024-11-08T21:03:33.288Z"
   },
   {
    "duration": 2,
    "start_time": "2024-11-08T21:03:33.543Z"
   },
   {
    "duration": 3,
    "start_time": "2024-11-08T21:03:33.547Z"
   },
   {
    "duration": 10,
    "start_time": "2024-11-08T21:03:33.552Z"
   },
   {
    "duration": 130,
    "start_time": "2024-11-08T21:03:33.564Z"
   },
   {
    "duration": 6,
    "start_time": "2024-11-08T21:03:33.696Z"
   },
   {
    "duration": 143,
    "start_time": "2024-11-08T21:03:33.703Z"
   },
   {
    "duration": 5,
    "start_time": "2024-11-08T21:03:33.848Z"
   },
   {
    "duration": 10,
    "start_time": "2024-11-08T21:03:33.854Z"
   },
   {
    "duration": 151,
    "start_time": "2024-11-08T21:03:33.866Z"
   },
   {
    "duration": 142,
    "start_time": "2024-11-08T21:03:34.018Z"
   },
   {
    "duration": 5,
    "start_time": "2024-11-08T21:03:34.162Z"
   },
   {
    "duration": 3,
    "start_time": "2024-11-08T21:03:34.169Z"
   },
   {
    "duration": 139,
    "start_time": "2024-11-08T21:03:34.174Z"
   },
   {
    "duration": 10,
    "start_time": "2024-11-08T21:03:34.315Z"
   },
   {
    "duration": 506,
    "start_time": "2024-11-08T21:03:34.343Z"
   },
   {
    "duration": 0,
    "start_time": "2024-11-08T21:03:34.851Z"
   },
   {
    "duration": 0,
    "start_time": "2024-11-08T21:03:34.853Z"
   },
   {
    "duration": 0,
    "start_time": "2024-11-08T21:03:34.854Z"
   },
   {
    "duration": 8,
    "start_time": "2024-11-08T21:03:44.129Z"
   },
   {
    "duration": 45,
    "start_time": "2024-11-08T21:03:57.940Z"
   },
   {
    "duration": 44,
    "start_time": "2024-11-08T21:04:07.594Z"
   },
   {
    "duration": 8,
    "start_time": "2024-11-08T21:04:15.460Z"
   },
   {
    "duration": 12,
    "start_time": "2024-11-08T21:04:49.865Z"
   },
   {
    "duration": 807,
    "start_time": "2024-11-08T21:21:59.136Z"
   },
   {
    "duration": 18,
    "start_time": "2024-11-08T21:21:59.945Z"
   },
   {
    "duration": 3,
    "start_time": "2024-11-08T21:21:59.965Z"
   },
   {
    "duration": 20,
    "start_time": "2024-11-08T21:21:59.970Z"
   },
   {
    "duration": 3,
    "start_time": "2024-11-08T21:21:59.991Z"
   },
   {
    "duration": 17,
    "start_time": "2024-11-08T21:21:59.996Z"
   },
   {
    "duration": 161,
    "start_time": "2024-11-08T21:22:00.015Z"
   },
   {
    "duration": 2,
    "start_time": "2024-11-08T21:22:00.178Z"
   },
   {
    "duration": 6,
    "start_time": "2024-11-08T21:22:00.182Z"
   },
   {
    "duration": 16,
    "start_time": "2024-11-08T21:22:00.192Z"
   },
   {
    "duration": 3,
    "start_time": "2024-11-08T21:22:00.210Z"
   },
   {
    "duration": 29,
    "start_time": "2024-11-08T21:22:00.214Z"
   },
   {
    "duration": 12,
    "start_time": "2024-11-08T21:22:00.245Z"
   },
   {
    "duration": 7,
    "start_time": "2024-11-08T21:22:00.259Z"
   },
   {
    "duration": 14,
    "start_time": "2024-11-08T21:22:00.268Z"
   },
   {
    "duration": 10,
    "start_time": "2024-11-08T21:22:00.283Z"
   },
   {
    "duration": 8,
    "start_time": "2024-11-08T21:22:00.295Z"
   },
   {
    "duration": 43,
    "start_time": "2024-11-08T21:22:00.306Z"
   },
   {
    "duration": 11,
    "start_time": "2024-11-08T21:22:00.351Z"
   },
   {
    "duration": 156,
    "start_time": "2024-11-08T21:22:00.364Z"
   },
   {
    "duration": 21,
    "start_time": "2024-11-08T21:22:00.523Z"
   },
   {
    "duration": 137,
    "start_time": "2024-11-08T21:22:00.547Z"
   },
   {
    "duration": 8,
    "start_time": "2024-11-08T21:22:00.685Z"
   },
   {
    "duration": 5,
    "start_time": "2024-11-08T21:22:00.695Z"
   },
   {
    "duration": 11,
    "start_time": "2024-11-08T21:22:00.702Z"
   },
   {
    "duration": 33,
    "start_time": "2024-11-08T21:22:00.715Z"
   },
   {
    "duration": 310,
    "start_time": "2024-11-08T21:22:00.750Z"
   },
   {
    "duration": 304,
    "start_time": "2024-11-08T21:22:01.066Z"
   },
   {
    "duration": 7,
    "start_time": "2024-11-08T21:22:01.372Z"
   },
   {
    "duration": 15,
    "start_time": "2024-11-08T21:22:01.381Z"
   },
   {
    "duration": 332,
    "start_time": "2024-11-08T21:22:01.397Z"
   },
   {
    "duration": 4,
    "start_time": "2024-11-08T21:22:01.732Z"
   },
   {
    "duration": 246,
    "start_time": "2024-11-08T21:22:01.737Z"
   },
   {
    "duration": 3,
    "start_time": "2024-11-08T21:22:01.984Z"
   },
   {
    "duration": 3,
    "start_time": "2024-11-08T21:22:01.989Z"
   },
   {
    "duration": 11,
    "start_time": "2024-11-08T21:22:01.993Z"
   },
   {
    "duration": 122,
    "start_time": "2024-11-08T21:22:02.005Z"
   },
   {
    "duration": 5,
    "start_time": "2024-11-08T21:22:02.128Z"
   },
   {
    "duration": 141,
    "start_time": "2024-11-08T21:22:02.143Z"
   },
   {
    "duration": 5,
    "start_time": "2024-11-08T21:22:02.285Z"
   },
   {
    "duration": 10,
    "start_time": "2024-11-08T21:22:02.292Z"
   },
   {
    "duration": 153,
    "start_time": "2024-11-08T21:22:02.303Z"
   },
   {
    "duration": 141,
    "start_time": "2024-11-08T21:22:02.459Z"
   },
   {
    "duration": 5,
    "start_time": "2024-11-08T21:22:02.602Z"
   },
   {
    "duration": 2,
    "start_time": "2024-11-08T21:22:02.609Z"
   },
   {
    "duration": 130,
    "start_time": "2024-11-08T21:22:02.613Z"
   },
   {
    "duration": 11,
    "start_time": "2024-11-08T21:22:02.745Z"
   },
   {
    "duration": 8,
    "start_time": "2024-11-08T21:22:02.757Z"
   },
   {
    "duration": 8,
    "start_time": "2024-11-08T21:22:02.767Z"
   },
   {
    "duration": 9,
    "start_time": "2024-11-08T21:22:02.776Z"
   },
   {
    "duration": 3,
    "start_time": "2024-11-08T21:22:02.787Z"
   },
   {
    "duration": 3,
    "start_time": "2024-11-08T21:22:02.792Z"
   },
   {
    "duration": 3,
    "start_time": "2024-11-08T21:22:02.797Z"
   },
   {
    "duration": 2,
    "start_time": "2024-11-08T21:22:02.843Z"
   },
   {
    "duration": 3,
    "start_time": "2024-11-08T21:22:02.847Z"
   },
   {
    "duration": 8,
    "start_time": "2024-11-08T21:23:03.971Z"
   },
   {
    "duration": 116,
    "start_time": "2024-11-08T21:24:22.073Z"
   },
   {
    "duration": 6,
    "start_time": "2024-11-08T21:25:11.159Z"
   },
   {
    "duration": 5,
    "start_time": "2024-11-08T21:25:18.948Z"
   },
   {
    "duration": 6,
    "start_time": "2024-11-08T21:26:06.602Z"
   },
   {
    "duration": 14,
    "start_time": "2024-11-08T21:42:27.964Z"
   },
   {
    "duration": 14,
    "start_time": "2024-11-08T21:42:29.772Z"
   },
   {
    "duration": 3,
    "start_time": "2024-11-08T21:42:51.629Z"
   },
   {
    "duration": 16,
    "start_time": "2024-11-08T21:43:04.123Z"
   },
   {
    "duration": 2839,
    "start_time": "2024-11-09T01:07:58.133Z"
   },
   {
    "duration": 29,
    "start_time": "2024-11-09T01:08:00.977Z"
   },
   {
    "duration": 5,
    "start_time": "2024-11-09T01:08:01.008Z"
   },
   {
    "duration": 47,
    "start_time": "2024-11-09T01:08:01.016Z"
   },
   {
    "duration": 3,
    "start_time": "2024-11-09T01:08:01.066Z"
   },
   {
    "duration": 29,
    "start_time": "2024-11-09T01:08:01.071Z"
   },
   {
    "duration": 178,
    "start_time": "2024-11-09T01:08:01.103Z"
   },
   {
    "duration": 2,
    "start_time": "2024-11-09T01:08:01.283Z"
   },
   {
    "duration": 6,
    "start_time": "2024-11-09T01:08:01.287Z"
   },
   {
    "duration": 17,
    "start_time": "2024-11-09T01:08:01.295Z"
   },
   {
    "duration": 25,
    "start_time": "2024-11-09T01:08:01.314Z"
   },
   {
    "duration": 4,
    "start_time": "2024-11-09T01:08:01.356Z"
   },
   {
    "duration": 17,
    "start_time": "2024-11-09T01:08:01.362Z"
   },
   {
    "duration": 5,
    "start_time": "2024-11-09T01:08:01.384Z"
   },
   {
    "duration": 13,
    "start_time": "2024-11-09T01:08:01.391Z"
   },
   {
    "duration": 9,
    "start_time": "2024-11-09T01:08:01.406Z"
   },
   {
    "duration": 14,
    "start_time": "2024-11-09T01:08:01.417Z"
   },
   {
    "duration": 15,
    "start_time": "2024-11-09T01:08:01.432Z"
   },
   {
    "duration": 15,
    "start_time": "2024-11-09T01:08:01.448Z"
   },
   {
    "duration": 175,
    "start_time": "2024-11-09T01:08:01.464Z"
   },
   {
    "duration": 13,
    "start_time": "2024-11-09T01:08:01.640Z"
   },
   {
    "duration": 93,
    "start_time": "2024-11-09T01:08:01.660Z"
   },
   {
    "duration": 11,
    "start_time": "2024-11-09T01:08:01.760Z"
   },
   {
    "duration": 5,
    "start_time": "2024-11-09T01:08:01.773Z"
   },
   {
    "duration": 11,
    "start_time": "2024-11-09T01:08:01.780Z"
   },
   {
    "duration": 6,
    "start_time": "2024-11-09T01:08:01.793Z"
   },
   {
    "duration": 312,
    "start_time": "2024-11-09T01:08:01.800Z"
   },
   {
    "duration": 353,
    "start_time": "2024-11-09T01:08:02.114Z"
   },
   {
    "duration": 5,
    "start_time": "2024-11-09T01:08:02.469Z"
   },
   {
    "duration": 21,
    "start_time": "2024-11-09T01:08:02.476Z"
   },
   {
    "duration": 385,
    "start_time": "2024-11-09T01:08:02.498Z"
   },
   {
    "duration": 6,
    "start_time": "2024-11-09T01:08:02.884Z"
   },
   {
    "duration": 348,
    "start_time": "2024-11-09T01:08:02.891Z"
   },
   {
    "duration": 15,
    "start_time": "2024-11-09T01:08:03.240Z"
   },
   {
    "duration": 14,
    "start_time": "2024-11-09T01:08:03.257Z"
   },
   {
    "duration": 33,
    "start_time": "2024-11-09T01:08:03.274Z"
   },
   {
    "duration": 138,
    "start_time": "2024-11-09T01:08:03.309Z"
   },
   {
    "duration": 9,
    "start_time": "2024-11-09T01:08:03.452Z"
   },
   {
    "duration": 163,
    "start_time": "2024-11-09T01:08:03.464Z"
   },
   {
    "duration": 11,
    "start_time": "2024-11-09T01:08:03.644Z"
   },
   {
    "duration": 21,
    "start_time": "2024-11-09T01:08:03.668Z"
   },
   {
    "duration": 185,
    "start_time": "2024-11-09T01:08:03.691Z"
   },
   {
    "duration": 143,
    "start_time": "2024-11-09T01:08:03.878Z"
   },
   {
    "duration": 32,
    "start_time": "2024-11-09T01:08:04.027Z"
   },
   {
    "duration": 123,
    "start_time": "2024-11-09T01:08:04.060Z"
   },
   {
    "duration": 6,
    "start_time": "2024-11-09T01:08:04.185Z"
   },
   {
    "duration": 18,
    "start_time": "2024-11-09T01:08:04.192Z"
   },
   {
    "duration": 2,
    "start_time": "2024-11-09T01:12:05.283Z"
   },
   {
    "duration": 3,
    "start_time": "2024-11-09T01:12:24.662Z"
   },
   {
    "duration": 6,
    "start_time": "2024-11-09T01:16:47.940Z"
   },
   {
    "duration": 212,
    "start_time": "2024-11-09T01:18:38.711Z"
   },
   {
    "duration": 10,
    "start_time": "2024-11-09T01:18:48.812Z"
   },
   {
    "duration": 9,
    "start_time": "2024-11-09T01:20:22.672Z"
   },
   {
    "duration": 3,
    "start_time": "2024-11-09T01:23:04.427Z"
   },
   {
    "duration": 496,
    "start_time": "2024-11-09T01:26:02.418Z"
   },
   {
    "duration": 52,
    "start_time": "2024-11-09T01:26:36.887Z"
   },
   {
    "duration": 59,
    "start_time": "2024-11-09T01:26:50.726Z"
   },
   {
    "duration": 21,
    "start_time": "2024-11-09T01:27:15.518Z"
   },
   {
    "duration": 11,
    "start_time": "2024-11-09T01:27:51.769Z"
   },
   {
    "duration": 47,
    "start_time": "2024-11-09T01:27:56.667Z"
   },
   {
    "duration": 85,
    "start_time": "2024-11-09T01:28:23.521Z"
   },
   {
    "duration": 25,
    "start_time": "2024-11-09T01:28:37.448Z"
   },
   {
    "duration": 14,
    "start_time": "2024-11-09T01:28:42.845Z"
   },
   {
    "duration": 22,
    "start_time": "2024-11-09T01:32:08.149Z"
   },
   {
    "duration": 9,
    "start_time": "2024-11-09T01:33:14.518Z"
   },
   {
    "duration": 16,
    "start_time": "2024-11-09T01:34:10.041Z"
   },
   {
    "duration": 20,
    "start_time": "2024-11-09T01:36:00.007Z"
   },
   {
    "duration": 16,
    "start_time": "2024-11-09T01:38:35.029Z"
   },
   {
    "duration": 35,
    "start_time": "2024-11-09T01:40:50.009Z"
   },
   {
    "duration": 172,
    "start_time": "2024-11-09T01:41:01.201Z"
   },
   {
    "duration": 12,
    "start_time": "2024-11-09T01:41:23.381Z"
   },
   {
    "duration": 2523,
    "start_time": "2024-11-09T16:56:58.863Z"
   },
   {
    "duration": 20,
    "start_time": "2024-11-09T16:57:01.387Z"
   },
   {
    "duration": 3,
    "start_time": "2024-11-09T16:57:01.408Z"
   },
   {
    "duration": 20,
    "start_time": "2024-11-09T16:57:01.413Z"
   },
   {
    "duration": 3,
    "start_time": "2024-11-09T16:57:01.436Z"
   },
   {
    "duration": 19,
    "start_time": "2024-11-09T16:57:01.441Z"
   },
   {
    "duration": 157,
    "start_time": "2024-11-09T16:57:01.462Z"
   },
   {
    "duration": 2,
    "start_time": "2024-11-09T16:57:01.625Z"
   },
   {
    "duration": 7,
    "start_time": "2024-11-09T16:57:01.629Z"
   },
   {
    "duration": 14,
    "start_time": "2024-11-09T16:57:01.638Z"
   },
   {
    "duration": 3,
    "start_time": "2024-11-09T16:57:01.653Z"
   },
   {
    "duration": 3,
    "start_time": "2024-11-09T16:57:01.658Z"
   },
   {
    "duration": 12,
    "start_time": "2024-11-09T16:57:01.663Z"
   },
   {
    "duration": 5,
    "start_time": "2024-11-09T16:57:01.678Z"
   },
   {
    "duration": 13,
    "start_time": "2024-11-09T16:57:01.724Z"
   },
   {
    "duration": 7,
    "start_time": "2024-11-09T16:57:01.738Z"
   },
   {
    "duration": 6,
    "start_time": "2024-11-09T16:57:01.747Z"
   },
   {
    "duration": 6,
    "start_time": "2024-11-09T16:57:01.754Z"
   },
   {
    "duration": 8,
    "start_time": "2024-11-09T16:57:01.762Z"
   },
   {
    "duration": 160,
    "start_time": "2024-11-09T16:57:01.772Z"
   },
   {
    "duration": 9,
    "start_time": "2024-11-09T16:57:01.934Z"
   },
   {
    "duration": 102,
    "start_time": "2024-11-09T16:57:01.945Z"
   },
   {
    "duration": 7,
    "start_time": "2024-11-09T16:57:02.049Z"
   },
   {
    "duration": 5,
    "start_time": "2024-11-09T16:57:02.058Z"
   },
   {
    "duration": 12,
    "start_time": "2024-11-09T16:57:02.064Z"
   },
   {
    "duration": 5,
    "start_time": "2024-11-09T16:57:02.077Z"
   },
   {
    "duration": 292,
    "start_time": "2024-11-09T16:57:02.084Z"
   },
   {
    "duration": 231,
    "start_time": "2024-11-09T16:57:02.378Z"
   },
   {
    "duration": 5,
    "start_time": "2024-11-09T16:57:02.611Z"
   },
   {
    "duration": 19,
    "start_time": "2024-11-09T16:57:02.618Z"
   },
   {
    "duration": 327,
    "start_time": "2024-11-09T16:57:02.639Z"
   },
   {
    "duration": 3,
    "start_time": "2024-11-09T16:57:02.968Z"
   },
   {
    "duration": 240,
    "start_time": "2024-11-09T16:57:02.973Z"
   },
   {
    "duration": 8,
    "start_time": "2024-11-09T16:57:03.216Z"
   },
   {
    "duration": 3,
    "start_time": "2024-11-09T16:57:03.226Z"
   },
   {
    "duration": 10,
    "start_time": "2024-11-09T16:57:03.230Z"
   },
   {
    "duration": 123,
    "start_time": "2024-11-09T16:57:03.242Z"
   },
   {
    "duration": 5,
    "start_time": "2024-11-09T16:57:03.366Z"
   },
   {
    "duration": 140,
    "start_time": "2024-11-09T16:57:03.373Z"
   },
   {
    "duration": 10,
    "start_time": "2024-11-09T16:57:03.515Z"
   },
   {
    "duration": 197,
    "start_time": "2024-11-09T16:57:03.531Z"
   },
   {
    "duration": 143,
    "start_time": "2024-11-09T16:57:03.729Z"
   },
   {
    "duration": 4,
    "start_time": "2024-11-09T16:57:03.874Z"
   },
   {
    "duration": 112,
    "start_time": "2024-11-09T16:57:03.880Z"
   },
   {
    "duration": 6,
    "start_time": "2024-11-09T16:57:03.994Z"
   },
   {
    "duration": 28,
    "start_time": "2024-11-09T16:57:04.001Z"
   },
   {
    "duration": 7,
    "start_time": "2024-11-09T16:57:04.030Z"
   },
   {
    "duration": 7,
    "start_time": "2024-11-09T16:57:04.039Z"
   },
   {
    "duration": 7,
    "start_time": "2024-11-09T16:57:04.047Z"
   },
   {
    "duration": 14,
    "start_time": "2024-11-09T16:57:04.056Z"
   },
   {
    "duration": 9,
    "start_time": "2024-11-09T16:57:04.072Z"
   },
   {
    "duration": 2,
    "start_time": "2024-11-09T18:09:14.105Z"
   },
   {
    "duration": 12,
    "start_time": "2024-11-09T18:09:14.109Z"
   },
   {
    "duration": 3,
    "start_time": "2024-11-09T18:09:14.123Z"
   },
   {
    "duration": 17,
    "start_time": "2024-11-09T18:09:14.128Z"
   },
   {
    "duration": 3,
    "start_time": "2024-11-09T18:09:14.147Z"
   },
   {
    "duration": 17,
    "start_time": "2024-11-09T18:09:14.152Z"
   },
   {
    "duration": 53,
    "start_time": "2024-11-09T18:09:14.171Z"
   },
   {
    "duration": 2,
    "start_time": "2024-11-09T18:09:14.226Z"
   },
   {
    "duration": 6,
    "start_time": "2024-11-09T18:09:14.231Z"
   },
   {
    "duration": 14,
    "start_time": "2024-11-09T18:09:14.239Z"
   },
   {
    "duration": 5,
    "start_time": "2024-11-09T18:09:14.254Z"
   },
   {
    "duration": 3,
    "start_time": "2024-11-09T18:09:14.261Z"
   },
   {
    "duration": 10,
    "start_time": "2024-11-09T18:09:14.265Z"
   },
   {
    "duration": 50,
    "start_time": "2024-11-09T18:09:14.277Z"
   },
   {
    "duration": 13,
    "start_time": "2024-11-09T18:09:14.329Z"
   },
   {
    "duration": 6,
    "start_time": "2024-11-09T18:09:14.344Z"
   },
   {
    "duration": 8,
    "start_time": "2024-11-09T18:09:14.352Z"
   },
   {
    "duration": 6,
    "start_time": "2024-11-09T18:09:14.361Z"
   },
   {
    "duration": 9,
    "start_time": "2024-11-09T18:09:14.369Z"
   },
   {
    "duration": 141,
    "start_time": "2024-11-09T18:09:14.423Z"
   },
   {
    "duration": 9,
    "start_time": "2024-11-09T18:09:14.565Z"
   },
   {
    "duration": 97,
    "start_time": "2024-11-09T18:09:14.576Z"
   },
   {
    "duration": 7,
    "start_time": "2024-11-09T18:09:14.675Z"
   },
   {
    "duration": 7,
    "start_time": "2024-11-09T18:09:14.686Z"
   },
   {
    "duration": 30,
    "start_time": "2024-11-09T18:09:14.695Z"
   },
   {
    "duration": 6,
    "start_time": "2024-11-09T18:09:14.726Z"
   },
   {
    "duration": 267,
    "start_time": "2024-11-09T18:09:14.734Z"
   },
   {
    "duration": 237,
    "start_time": "2024-11-09T18:09:15.003Z"
   },
   {
    "duration": 6,
    "start_time": "2024-11-09T18:09:15.242Z"
   },
   {
    "duration": 14,
    "start_time": "2024-11-09T18:09:15.250Z"
   },
   {
    "duration": 312,
    "start_time": "2024-11-09T18:09:15.266Z"
   },
   {
    "duration": 4,
    "start_time": "2024-11-09T18:09:15.580Z"
   },
   {
    "duration": 249,
    "start_time": "2024-11-09T18:09:15.586Z"
   },
   {
    "duration": 3,
    "start_time": "2024-11-09T18:09:15.837Z"
   },
   {
    "duration": 3,
    "start_time": "2024-11-09T18:09:15.842Z"
   },
   {
    "duration": 11,
    "start_time": "2024-11-09T18:09:15.846Z"
   },
   {
    "duration": 140,
    "start_time": "2024-11-09T18:09:15.858Z"
   },
   {
    "duration": 7,
    "start_time": "2024-11-09T18:09:16.000Z"
   },
   {
    "duration": 142,
    "start_time": "2024-11-09T18:09:16.009Z"
   },
   {
    "duration": 4,
    "start_time": "2024-11-09T18:09:16.154Z"
   },
   {
    "duration": 149,
    "start_time": "2024-11-09T18:09:16.160Z"
   },
   {
    "duration": 131,
    "start_time": "2024-11-09T18:09:16.311Z"
   },
   {
    "duration": 4,
    "start_time": "2024-11-09T18:09:16.444Z"
   },
   {
    "duration": 127,
    "start_time": "2024-11-09T18:09:16.450Z"
   },
   {
    "duration": 6,
    "start_time": "2024-11-09T18:09:16.578Z"
   },
   {
    "duration": 16,
    "start_time": "2024-11-09T18:09:16.586Z"
   },
   {
    "duration": 27,
    "start_time": "2024-11-09T18:09:16.603Z"
   },
   {
    "duration": 6,
    "start_time": "2024-11-09T18:09:16.632Z"
   },
   {
    "duration": 7,
    "start_time": "2024-11-09T18:09:16.639Z"
   },
   {
    "duration": 15,
    "start_time": "2024-11-09T18:09:16.648Z"
   },
   {
    "duration": 8,
    "start_time": "2024-11-09T18:09:16.664Z"
   },
   {
    "duration": 847,
    "start_time": "2024-11-09T18:09:26.964Z"
   },
   {
    "duration": 13,
    "start_time": "2024-11-09T18:09:27.814Z"
   },
   {
    "duration": 3,
    "start_time": "2024-11-09T18:09:27.829Z"
   },
   {
    "duration": 19,
    "start_time": "2024-11-09T18:09:27.835Z"
   },
   {
    "duration": 3,
    "start_time": "2024-11-09T18:09:27.856Z"
   },
   {
    "duration": 19,
    "start_time": "2024-11-09T18:09:27.861Z"
   },
   {
    "duration": 174,
    "start_time": "2024-11-09T18:09:27.882Z"
   },
   {
    "duration": 3,
    "start_time": "2024-11-09T18:09:28.057Z"
   },
   {
    "duration": 5,
    "start_time": "2024-11-09T18:09:28.062Z"
   },
   {
    "duration": 15,
    "start_time": "2024-11-09T18:09:28.071Z"
   },
   {
    "duration": 3,
    "start_time": "2024-11-09T18:09:28.088Z"
   },
   {
    "duration": 3,
    "start_time": "2024-11-09T18:09:28.124Z"
   },
   {
    "duration": 12,
    "start_time": "2024-11-09T18:09:28.130Z"
   },
   {
    "duration": 6,
    "start_time": "2024-11-09T18:09:28.143Z"
   },
   {
    "duration": 12,
    "start_time": "2024-11-09T18:09:28.150Z"
   },
   {
    "duration": 7,
    "start_time": "2024-11-09T18:09:28.164Z"
   },
   {
    "duration": 6,
    "start_time": "2024-11-09T18:09:28.172Z"
   },
   {
    "duration": 7,
    "start_time": "2024-11-09T18:09:28.223Z"
   },
   {
    "duration": 9,
    "start_time": "2024-11-09T18:09:28.232Z"
   },
   {
    "duration": 149,
    "start_time": "2024-11-09T18:09:28.242Z"
   },
   {
    "duration": 9,
    "start_time": "2024-11-09T18:09:28.393Z"
   },
   {
    "duration": 91,
    "start_time": "2024-11-09T18:09:28.403Z"
   },
   {
    "duration": 7,
    "start_time": "2024-11-09T18:09:28.496Z"
   },
   {
    "duration": 24,
    "start_time": "2024-11-09T18:09:28.505Z"
   },
   {
    "duration": 10,
    "start_time": "2024-11-09T18:09:28.531Z"
   },
   {
    "duration": 6,
    "start_time": "2024-11-09T18:09:28.543Z"
   },
   {
    "duration": 294,
    "start_time": "2024-11-09T18:09:28.551Z"
   },
   {
    "duration": 274,
    "start_time": "2024-11-09T18:09:28.850Z"
   },
   {
    "duration": 6,
    "start_time": "2024-11-09T18:09:29.125Z"
   },
   {
    "duration": 13,
    "start_time": "2024-11-09T18:09:29.133Z"
   },
   {
    "duration": 314,
    "start_time": "2024-11-09T18:09:29.148Z"
   },
   {
    "duration": 4,
    "start_time": "2024-11-09T18:09:29.464Z"
   },
   {
    "duration": 250,
    "start_time": "2024-11-09T18:09:29.470Z"
   },
   {
    "duration": 3,
    "start_time": "2024-11-09T18:09:29.725Z"
   },
   {
    "duration": 3,
    "start_time": "2024-11-09T18:09:29.729Z"
   },
   {
    "duration": 10,
    "start_time": "2024-11-09T18:09:29.734Z"
   },
   {
    "duration": 133,
    "start_time": "2024-11-09T18:09:29.746Z"
   },
   {
    "duration": 5,
    "start_time": "2024-11-09T18:09:29.880Z"
   },
   {
    "duration": 145,
    "start_time": "2024-11-09T18:09:29.887Z"
   },
   {
    "duration": 4,
    "start_time": "2024-11-09T18:09:30.034Z"
   },
   {
    "duration": 151,
    "start_time": "2024-11-09T18:09:30.040Z"
   },
   {
    "duration": 138,
    "start_time": "2024-11-09T18:09:30.194Z"
   },
   {
    "duration": 7,
    "start_time": "2024-11-09T18:09:30.334Z"
   },
   {
    "duration": 120,
    "start_time": "2024-11-09T18:09:30.342Z"
   },
   {
    "duration": 5,
    "start_time": "2024-11-09T18:09:30.464Z"
   },
   {
    "duration": 15,
    "start_time": "2024-11-09T18:09:30.471Z"
   },
   {
    "duration": 8,
    "start_time": "2024-11-09T18:09:30.487Z"
   },
   {
    "duration": 30,
    "start_time": "2024-11-09T18:09:30.497Z"
   },
   {
    "duration": 7,
    "start_time": "2024-11-09T18:09:30.529Z"
   },
   {
    "duration": 14,
    "start_time": "2024-11-09T18:09:30.538Z"
   },
   {
    "duration": 5,
    "start_time": "2024-11-09T18:09:30.554Z"
   },
   {
    "duration": 626,
    "start_time": "2024-11-09T18:09:44.288Z"
   },
   {
    "duration": 13,
    "start_time": "2024-11-09T18:10:53.081Z"
   },
   {
    "duration": 250,
    "start_time": "2024-11-09T18:13:17.563Z"
   },
   {
    "duration": 235,
    "start_time": "2024-11-09T18:14:14.925Z"
   },
   {
    "duration": 228,
    "start_time": "2024-11-09T18:18:35.735Z"
   },
   {
    "duration": 3082,
    "start_time": "2024-11-09T20:10:56.039Z"
   },
   {
    "duration": 23,
    "start_time": "2024-11-09T20:10:59.123Z"
   },
   {
    "duration": 4,
    "start_time": "2024-11-09T20:10:59.148Z"
   },
   {
    "duration": 29,
    "start_time": "2024-11-09T20:10:59.155Z"
   },
   {
    "duration": 3,
    "start_time": "2024-11-09T20:10:59.190Z"
   },
   {
    "duration": 19,
    "start_time": "2024-11-09T20:10:59.195Z"
   },
   {
    "duration": 190,
    "start_time": "2024-11-09T20:10:59.216Z"
   },
   {
    "duration": 2,
    "start_time": "2024-11-09T20:10:59.408Z"
   },
   {
    "duration": 26,
    "start_time": "2024-11-09T20:10:59.412Z"
   },
   {
    "duration": 23,
    "start_time": "2024-11-09T20:10:59.440Z"
   },
   {
    "duration": 3,
    "start_time": "2024-11-09T20:10:59.465Z"
   },
   {
    "duration": 3,
    "start_time": "2024-11-09T20:10:59.472Z"
   },
   {
    "duration": 14,
    "start_time": "2024-11-09T20:10:59.477Z"
   },
   {
    "duration": 5,
    "start_time": "2024-11-09T20:10:59.495Z"
   },
   {
    "duration": 36,
    "start_time": "2024-11-09T20:10:59.502Z"
   },
   {
    "duration": 9,
    "start_time": "2024-11-09T20:10:59.541Z"
   },
   {
    "duration": 7,
    "start_time": "2024-11-09T20:10:59.552Z"
   },
   {
    "duration": 12,
    "start_time": "2024-11-09T20:10:59.561Z"
   },
   {
    "duration": 11,
    "start_time": "2024-11-09T20:10:59.578Z"
   },
   {
    "duration": 178,
    "start_time": "2024-11-09T20:10:59.592Z"
   },
   {
    "duration": 13,
    "start_time": "2024-11-09T20:10:59.772Z"
   },
   {
    "duration": 112,
    "start_time": "2024-11-09T20:10:59.786Z"
   },
   {
    "duration": 7,
    "start_time": "2024-11-09T20:10:59.900Z"
   },
   {
    "duration": 24,
    "start_time": "2024-11-09T20:10:59.909Z"
   },
   {
    "duration": 16,
    "start_time": "2024-11-09T20:10:59.935Z"
   },
   {
    "duration": 7,
    "start_time": "2024-11-09T20:10:59.953Z"
   },
   {
    "duration": 334,
    "start_time": "2024-11-09T20:10:59.962Z"
   },
   {
    "duration": 291,
    "start_time": "2024-11-09T20:11:00.298Z"
   },
   {
    "duration": 6,
    "start_time": "2024-11-09T20:11:00.591Z"
   },
   {
    "duration": 14,
    "start_time": "2024-11-09T20:11:00.599Z"
   },
   {
    "duration": 378,
    "start_time": "2024-11-09T20:11:00.632Z"
   },
   {
    "duration": 3,
    "start_time": "2024-11-09T20:11:01.012Z"
   },
   {
    "duration": 278,
    "start_time": "2024-11-09T20:11:01.017Z"
   },
   {
    "duration": 3,
    "start_time": "2024-11-09T20:11:01.296Z"
   },
   {
    "duration": 3,
    "start_time": "2024-11-09T20:11:01.300Z"
   },
   {
    "duration": 26,
    "start_time": "2024-11-09T20:11:01.305Z"
   },
   {
    "duration": 126,
    "start_time": "2024-11-09T20:11:01.333Z"
   },
   {
    "duration": 7,
    "start_time": "2024-11-09T20:11:01.461Z"
   },
   {
    "duration": 168,
    "start_time": "2024-11-09T20:11:01.470Z"
   },
   {
    "duration": 5,
    "start_time": "2024-11-09T20:11:01.642Z"
   },
   {
    "duration": 203,
    "start_time": "2024-11-09T20:11:01.652Z"
   },
   {
    "duration": 152,
    "start_time": "2024-11-09T20:11:01.858Z"
   },
   {
    "duration": 4,
    "start_time": "2024-11-09T20:11:02.013Z"
   },
   {
    "duration": 135,
    "start_time": "2024-11-09T20:11:02.018Z"
   },
   {
    "duration": 8,
    "start_time": "2024-11-09T20:11:02.155Z"
   },
   {
    "duration": 19,
    "start_time": "2024-11-09T20:11:02.169Z"
   },
   {
    "duration": 8,
    "start_time": "2024-11-09T20:11:02.190Z"
   },
   {
    "duration": 6,
    "start_time": "2024-11-09T20:11:02.200Z"
   },
   {
    "duration": 32,
    "start_time": "2024-11-09T20:11:02.208Z"
   },
   {
    "duration": 16,
    "start_time": "2024-11-09T20:11:02.242Z"
   },
   {
    "duration": 12,
    "start_time": "2024-11-09T20:11:02.260Z"
   },
   {
    "duration": 286,
    "start_time": "2024-11-09T20:11:25.365Z"
   },
   {
    "duration": 277,
    "start_time": "2024-11-09T20:12:03.222Z"
   },
   {
    "duration": 337,
    "start_time": "2024-11-09T20:21:15.153Z"
   },
   {
    "duration": 276,
    "start_time": "2024-11-09T20:21:33.010Z"
   },
   {
    "duration": 368,
    "start_time": "2024-11-09T20:36:21.928Z"
   },
   {
    "duration": 136,
    "start_time": "2024-11-09T21:23:20.309Z"
   },
   {
    "duration": 16,
    "start_time": "2024-11-09T21:33:55.237Z"
   },
   {
    "duration": 11,
    "start_time": "2024-11-09T21:49:30.508Z"
   },
   {
    "duration": 813,
    "start_time": "2024-11-09T22:22:33.211Z"
   },
   {
    "duration": 15,
    "start_time": "2024-11-09T22:22:34.031Z"
   },
   {
    "duration": 4,
    "start_time": "2024-11-09T22:22:34.047Z"
   },
   {
    "duration": 20,
    "start_time": "2024-11-09T22:22:34.053Z"
   },
   {
    "duration": 3,
    "start_time": "2024-11-09T22:22:34.077Z"
   },
   {
    "duration": 22,
    "start_time": "2024-11-09T22:22:34.082Z"
   },
   {
    "duration": 170,
    "start_time": "2024-11-09T22:22:34.105Z"
   },
   {
    "duration": 3,
    "start_time": "2024-11-09T22:22:34.277Z"
   },
   {
    "duration": 6,
    "start_time": "2024-11-09T22:22:34.281Z"
   },
   {
    "duration": 14,
    "start_time": "2024-11-09T22:22:34.289Z"
   },
   {
    "duration": 28,
    "start_time": "2024-11-09T22:22:34.305Z"
   },
   {
    "duration": 3,
    "start_time": "2024-11-09T22:22:34.335Z"
   },
   {
    "duration": 10,
    "start_time": "2024-11-09T22:22:34.340Z"
   },
   {
    "duration": 6,
    "start_time": "2024-11-09T22:22:34.355Z"
   },
   {
    "duration": 13,
    "start_time": "2024-11-09T22:22:34.362Z"
   },
   {
    "duration": 8,
    "start_time": "2024-11-09T22:22:34.377Z"
   },
   {
    "duration": 47,
    "start_time": "2024-11-09T22:22:34.387Z"
   },
   {
    "duration": 7,
    "start_time": "2024-11-09T22:22:34.437Z"
   },
   {
    "duration": 8,
    "start_time": "2024-11-09T22:22:34.446Z"
   },
   {
    "duration": 150,
    "start_time": "2024-11-09T22:22:34.456Z"
   },
   {
    "duration": 10,
    "start_time": "2024-11-09T22:22:34.607Z"
   },
   {
    "duration": 93,
    "start_time": "2024-11-09T22:22:34.618Z"
   },
   {
    "duration": 22,
    "start_time": "2024-11-09T22:22:34.712Z"
   },
   {
    "duration": 6,
    "start_time": "2024-11-09T22:22:34.736Z"
   },
   {
    "duration": 10,
    "start_time": "2024-11-09T22:22:34.745Z"
   },
   {
    "duration": 5,
    "start_time": "2024-11-09T22:22:34.757Z"
   },
   {
    "duration": 312,
    "start_time": "2024-11-09T22:22:34.764Z"
   },
   {
    "duration": 294,
    "start_time": "2024-11-09T22:22:35.078Z"
   },
   {
    "duration": 6,
    "start_time": "2024-11-09T22:22:35.374Z"
   },
   {
    "duration": 14,
    "start_time": "2024-11-09T22:22:35.382Z"
   },
   {
    "duration": 360,
    "start_time": "2024-11-09T22:22:35.398Z"
   },
   {
    "duration": 3,
    "start_time": "2024-11-09T22:22:35.761Z"
   },
   {
    "duration": 258,
    "start_time": "2024-11-09T22:22:35.766Z"
   },
   {
    "duration": 132,
    "start_time": "2024-11-09T22:22:36.031Z"
   },
   {
    "duration": 5,
    "start_time": "2024-11-09T22:22:36.166Z"
   },
   {
    "duration": 172,
    "start_time": "2024-11-09T22:22:36.173Z"
   },
   {
    "duration": 6,
    "start_time": "2024-11-09T22:22:36.348Z"
   },
   {
    "duration": 142,
    "start_time": "2024-11-09T22:22:36.356Z"
   },
   {
    "duration": 137,
    "start_time": "2024-11-09T22:22:36.500Z"
   },
   {
    "duration": 5,
    "start_time": "2024-11-09T22:22:36.639Z"
   },
   {
    "duration": 128,
    "start_time": "2024-11-09T22:22:36.649Z"
   },
   {
    "duration": 7,
    "start_time": "2024-11-09T22:22:36.779Z"
   },
   {
    "duration": 16,
    "start_time": "2024-11-09T22:22:36.787Z"
   },
   {
    "duration": 28,
    "start_time": "2024-11-09T22:22:36.805Z"
   },
   {
    "duration": 8,
    "start_time": "2024-11-09T22:22:36.835Z"
   },
   {
    "duration": 8,
    "start_time": "2024-11-09T22:22:36.845Z"
   },
   {
    "duration": 16,
    "start_time": "2024-11-09T22:22:36.855Z"
   },
   {
    "duration": 11,
    "start_time": "2024-11-09T22:22:36.872Z"
   },
   {
    "duration": 3,
    "start_time": "2024-11-10T23:11:17.818Z"
   },
   {
    "duration": 2719,
    "start_time": "2024-11-10T23:11:25.253Z"
   },
   {
    "duration": 30,
    "start_time": "2024-11-10T23:11:27.975Z"
   },
   {
    "duration": 5,
    "start_time": "2024-11-10T23:11:28.008Z"
   },
   {
    "duration": 21,
    "start_time": "2024-11-10T23:11:28.015Z"
   },
   {
    "duration": 3,
    "start_time": "2024-11-10T23:11:28.039Z"
   },
   {
    "duration": 21,
    "start_time": "2024-11-10T23:11:28.044Z"
   },
   {
    "duration": 162,
    "start_time": "2024-11-10T23:11:28.067Z"
   },
   {
    "duration": 3,
    "start_time": "2024-11-10T23:11:28.231Z"
   },
   {
    "duration": 6,
    "start_time": "2024-11-10T23:11:28.235Z"
   },
   {
    "duration": 15,
    "start_time": "2024-11-10T23:11:28.243Z"
   },
   {
    "duration": 4,
    "start_time": "2024-11-10T23:11:28.260Z"
   },
   {
    "duration": 4,
    "start_time": "2024-11-10T23:11:28.266Z"
   },
   {
    "duration": 42,
    "start_time": "2024-11-10T23:11:28.271Z"
   },
   {
    "duration": 6,
    "start_time": "2024-11-10T23:11:28.318Z"
   },
   {
    "duration": 13,
    "start_time": "2024-11-10T23:11:28.325Z"
   },
   {
    "duration": 11,
    "start_time": "2024-11-10T23:11:28.340Z"
   },
   {
    "duration": 8,
    "start_time": "2024-11-10T23:11:28.352Z"
   },
   {
    "duration": 8,
    "start_time": "2024-11-10T23:11:28.364Z"
   },
   {
    "duration": 39,
    "start_time": "2024-11-10T23:11:28.377Z"
   },
   {
    "duration": 146,
    "start_time": "2024-11-10T23:11:28.418Z"
   },
   {
    "duration": 11,
    "start_time": "2024-11-10T23:11:28.566Z"
   },
   {
    "duration": 108,
    "start_time": "2024-11-10T23:11:28.579Z"
   },
   {
    "duration": 20,
    "start_time": "2024-11-10T23:11:28.689Z"
   },
   {
    "duration": 6,
    "start_time": "2024-11-10T23:11:28.711Z"
   },
   {
    "duration": 12,
    "start_time": "2024-11-10T23:11:28.719Z"
   },
   {
    "duration": 6,
    "start_time": "2024-11-10T23:11:28.732Z"
   },
   {
    "duration": 309,
    "start_time": "2024-11-10T23:11:28.740Z"
   },
   {
    "duration": 235,
    "start_time": "2024-11-10T23:11:29.051Z"
   },
   {
    "duration": 8,
    "start_time": "2024-11-10T23:11:29.287Z"
   },
   {
    "duration": 17,
    "start_time": "2024-11-10T23:11:29.296Z"
   },
   {
    "duration": 331,
    "start_time": "2024-11-10T23:11:29.314Z"
   },
   {
    "duration": 3,
    "start_time": "2024-11-10T23:11:29.647Z"
   },
   {
    "duration": 262,
    "start_time": "2024-11-10T23:11:29.652Z"
   },
   {
    "duration": 138,
    "start_time": "2024-11-10T23:11:29.916Z"
   },
   {
    "duration": 5,
    "start_time": "2024-11-10T23:11:30.056Z"
   },
   {
    "duration": 150,
    "start_time": "2024-11-10T23:11:30.063Z"
   },
   {
    "duration": 2,
    "start_time": "2024-11-10T23:11:30.216Z"
   },
   {
    "duration": 4,
    "start_time": "2024-11-10T23:11:30.220Z"
   },
   {
    "duration": 251,
    "start_time": "2024-11-10T23:11:30.226Z"
   },
   {
    "duration": 136,
    "start_time": "2024-11-10T23:11:30.479Z"
   },
   {
    "duration": 5,
    "start_time": "2024-11-10T23:11:30.621Z"
   },
   {
    "duration": 123,
    "start_time": "2024-11-10T23:11:30.627Z"
   },
   {
    "duration": 7,
    "start_time": "2024-11-10T23:11:30.751Z"
   },
   {
    "duration": 17,
    "start_time": "2024-11-10T23:11:30.760Z"
   },
   {
    "duration": 31,
    "start_time": "2024-11-10T23:11:30.778Z"
   },
   {
    "duration": 8,
    "start_time": "2024-11-10T23:11:30.811Z"
   },
   {
    "duration": 8,
    "start_time": "2024-11-10T23:11:30.821Z"
   },
   {
    "duration": 22,
    "start_time": "2024-11-10T23:11:30.831Z"
   },
   {
    "duration": 9,
    "start_time": "2024-11-10T23:11:30.855Z"
   },
   {
    "duration": 133,
    "start_time": "2024-11-10T23:11:56.193Z"
   },
   {
    "duration": 125,
    "start_time": "2024-11-10T23:12:50.481Z"
   },
   {
    "duration": 6,
    "start_time": "2024-11-10T23:13:15.684Z"
   },
   {
    "duration": 5,
    "start_time": "2024-11-10T23:15:14.594Z"
   },
   {
    "duration": 122,
    "start_time": "2024-11-10T23:15:21.535Z"
   },
   {
    "duration": 123,
    "start_time": "2024-11-10T23:17:10.533Z"
   },
   {
    "duration": 1184,
    "start_time": "2024-11-10T23:17:52.606Z"
   },
   {
    "duration": 180,
    "start_time": "2024-11-10T23:18:09.748Z"
   },
   {
    "duration": 178,
    "start_time": "2024-11-10T23:18:14.530Z"
   },
   {
    "duration": 357,
    "start_time": "2024-11-10T23:18:21.416Z"
   },
   {
    "duration": 221,
    "start_time": "2024-11-10T23:18:29.299Z"
   },
   {
    "duration": 186,
    "start_time": "2024-11-10T23:19:06.826Z"
   },
   {
    "duration": 168,
    "start_time": "2024-11-10T23:19:39.021Z"
   },
   {
    "duration": 168,
    "start_time": "2024-11-10T23:20:17.546Z"
   },
   {
    "duration": 2,
    "start_time": "2024-11-10T23:47:31.570Z"
   },
   {
    "duration": 240,
    "start_time": "2024-11-10T23:50:02.624Z"
   },
   {
    "duration": 271,
    "start_time": "2024-11-10T23:50:13.806Z"
   },
   {
    "duration": 235,
    "start_time": "2024-11-10T23:50:20.044Z"
   }
  ],
  "kernelspec": {
   "display_name": "Python 3 (ipykernel)",
   "language": "python",
   "name": "python3"
  },
  "language_info": {
   "codemirror_mode": {
    "name": "ipython",
    "version": 3
   },
   "file_extension": ".py",
   "mimetype": "text/x-python",
   "name": "python",
   "nbconvert_exporter": "python",
   "pygments_lexer": "ipython3",
   "version": "3.9.19"
  },
  "toc": {
   "base_numbering": 1,
   "nav_menu": {},
   "number_sections": true,
   "sideBar": true,
   "skip_h1_title": true,
   "title_cell": "Table of Contents",
   "title_sidebar": "Contents",
   "toc_cell": false,
   "toc_position": {
    "height": "calc(100% - 180px)",
    "left": "10px",
    "top": "150px",
    "width": "298.993px"
   },
   "toc_section_display": true,
   "toc_window_display": false
  }
 },
 "nbformat": 4,
 "nbformat_minor": 2
}
